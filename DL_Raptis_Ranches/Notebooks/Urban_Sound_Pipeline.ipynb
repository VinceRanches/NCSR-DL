{
 "cells": [
  {
   "cell_type": "code",
   "execution_count": 3,
   "metadata": {},
   "outputs": [],
   "source": [
    "import os\n",
    "directory = 'C:\\\\Users\\\\giorg\\\\OneDrive\\\\Υπολογιστής\\\\DL Project'\n",
    "os.chdir(directory)\n",
    "\n",
    "from Scripts import Utilities as ut\n",
    "from Scripts import Feature_Extraction as fe\n",
    "from Scripts import Model_Training as mt\n",
    "from Scripts import data_loading as dl\n",
    "from tensorflow.keras.callbacks import EarlyStopping\n",
    "from tensorflow.keras.optimizers import Adam"
   ]
  },
  {
   "cell_type": "code",
   "execution_count": 4,
   "metadata": {},
   "outputs": [],
   "source": [
    "dataset = \"urbansound8k\"\n",
    "classes = [\"children_playing\", \"drilling\", \"street_music\", \"siren\", \"gun_shot\", \"car_horn\", \"air_conditioner\", \"engine_idling\",  \"dog_bark\", \"jackhammer\"]"
   ]
  },
  {
   "cell_type": "markdown",
   "metadata": {},
   "source": [
    "# Pipeline"
   ]
  },
  {
   "cell_type": "markdown",
   "metadata": {},
   "source": [
    "Download the dataset from the google drive link we provide and put into the folder UrbanSound and everything will run"
   ]
  },
  {
   "cell_type": "code",
   "execution_count": 34,
   "metadata": {},
   "outputs": [],
   "source": [
    "# Seperate the test folder for it to not be messed in th training process\n",
    "ut.split_8k_train_test(\"UrbanSound\\\\UrbanSound8K\\\\metadata\\\\UrbanSound8K.csv\", \"UrbanSound\\\\CSVs\\\\Train_csv\", \"UrbanSound\\\\CSVs\\\\Test_csv\")"
   ]
  },
  {
   "cell_type": "code",
   "execution_count": null,
   "metadata": {},
   "outputs": [],
   "source": [
    "# Put files in Train and Test folders\n",
    "ut.move_train_test_folder(\"UrbanSound\\\\CSVs\\\\Train_csv\",\"UrbanSound\\\\Train\",\"UrbanSound\\\\UrbanSound8K\\\\audio\")\n",
    "\n",
    "ut.move_train_test_folder(\"UrbanSound\\\\CSVs\\\\Test_csv\",\"UrbanSound\\\\Test\",\"UrbanSound\\\\UrbanSound8K\\\\audio\")"
   ]
  },
  {
   "cell_type": "code",
   "execution_count": null,
   "metadata": {},
   "outputs": [],
   "source": [
    "# In train folder put evry file in the corespondiong category\n",
    "ut.move_to_class_folder(\"UrbanSound\\\\CSVs\\\\Train_csv\",\"UrbanSound\\\\Train\",dataset)"
   ]
  },
  {
   "cell_type": "markdown",
   "metadata": {},
   "source": [
    "# Neural_Network\n"
   ]
  },
  {
   "cell_type": "code",
   "execution_count": null,
   "metadata": {},
   "outputs": [],
   "source": [
    "fe.NN_Features(\"UrbanSound\\\\Train\", \"UrbanSound\\\\Features\\\\NN_Features\")\n"
   ]
  },
  {
   "cell_type": "code",
   "execution_count": 10,
   "metadata": {},
   "outputs": [],
   "source": [
    "x_train, x_val, y_train, y_val =  dl.load_data(\"UrbanSound\\\\Features\\\\NN_Features\", dataset)"
   ]
  },
  {
   "cell_type": "code",
   "execution_count": 29,
   "metadata": {},
   "outputs": [],
   "source": [
    "\n",
    "model = mt.create_model_NN()\n",
    "learning_rate = 0.0001\n",
    "model.compile(optimizer=Adam(learning_rate = learning_rate ), loss='categorical_crossentropy', metrics=[mt.f1_score, 'accuracy'])\n",
    "\n",
    "early_stopping = EarlyStopping(monitor='val_f1_score', mode='max', patience=15, verbose=1)"
   ]
  },
  {
   "cell_type": "code",
   "execution_count": null,
   "metadata": {},
   "outputs": [],
   "source": [
    "hist = model.fit(\n",
    "    x_train, y_train,\n",
    "    validation_data=(x_val, y_val),\n",
    "    epochs=400, callbacks = early_stopping\n",
    "    )\n"
   ]
  },
  {
   "cell_type": "code",
   "execution_count": null,
   "metadata": {},
   "outputs": [],
   "source": [
    "acc = hist.history['accuracy']\n",
    "val_acc = hist.history['val_accuracy']\n",
    "mt.plot_training_history(acc,val_acc,\"accuracy\")"
   ]
  },
  {
   "cell_type": "code",
   "execution_count": null,
   "metadata": {},
   "outputs": [],
   "source": [
    "mt.plot_confusion_matrix(model,x_val,y_val,classes)"
   ]
  },
  {
   "cell_type": "code",
   "execution_count": null,
   "metadata": {},
   "outputs": [],
   "source": [
    "model.save(\"Models\\\\Neural_Network_Audioset_Simple_NN.h5\")"
   ]
  },
  {
   "cell_type": "markdown",
   "metadata": {},
   "source": [
    "# CNN"
   ]
  },
  {
   "cell_type": "code",
   "execution_count": 6,
   "metadata": {},
   "outputs": [
    {
     "name": "stdout",
     "output_type": "stream",
     "text": [
      "\n",
      "No files failed.\n"
     ]
    }
   ],
   "source": [
    "fe.CNN_Features_mel(\"UrbanSound\\Train\", classes, \"UrbanSound\\Features\\CNN_Features\")"
   ]
  },
  {
   "cell_type": "code",
   "execution_count": 25,
   "metadata": {},
   "outputs": [],
   "source": [
    "x_train, x_val, y_train, y_val =  dl.load_data(\"UrbanSound\\Features\\CNN_Features\", dataset)"
   ]
  },
  {
   "cell_type": "code",
   "execution_count": null,
   "metadata": {},
   "outputs": [],
   "source": [
    "model = mt.create_model_CNN(num_classes=10)\n",
    "learning_rate = 0.0001\n",
    "model.compile(optimizer=Adam(learning_rate = learning_rate ), loss='categorical_crossentropy', metrics=[mt.f1_score, 'accuracy'])\n",
    "\n",
    "early_stopping = EarlyStopping(monitor='val_f1_score', mode='max', patience=15, verbose=1)"
   ]
  },
  {
   "cell_type": "code",
   "execution_count": null,
   "metadata": {},
   "outputs": [],
   "source": [
    "hist = model.fit(\n",
    "    x_train, y_train,\n",
    "    validation_data=(x_val, y_val),\n",
    "    epochs=50, callbacks = early_stopping,\n",
    "    batch_size=32\n",
    "    )"
   ]
  },
  {
   "cell_type": "code",
   "execution_count": null,
   "metadata": {},
   "outputs": [],
   "source": [
    "acc = hist.history['accuracy']\n",
    "val_acc = hist.history['val_accuracy']\n",
    "mt.plot_training_history(acc,val_acc,\"accuracy\")"
   ]
  },
  {
   "cell_type": "code",
   "execution_count": null,
   "metadata": {},
   "outputs": [],
   "source": [
    "mt.plot_confusion_matrix(model,x_val,y_val,classes)"
   ]
  },
  {
   "cell_type": "code",
   "execution_count": null,
   "metadata": {},
   "outputs": [],
   "source": [
    "model.save(\"Models\\\\CNN_Simple_UrbanSound.h5\")"
   ]
  }
 ],
 "metadata": {
  "kernelspec": {
   "display_name": "tf",
   "language": "python",
   "name": "python3"
  },
  "language_info": {
   "codemirror_mode": {
    "name": "ipython",
    "version": 3
   },
   "file_extension": ".py",
   "mimetype": "text/x-python",
   "name": "python",
   "nbconvert_exporter": "python",
   "pygments_lexer": "ipython3",
   "version": "3.10.14"
  }
 },
 "nbformat": 4,
 "nbformat_minor": 2
}
