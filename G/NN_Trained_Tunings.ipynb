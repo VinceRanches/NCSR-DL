{
 "cells": [
  {
   "cell_type": "code",
   "execution_count": 8,
   "metadata": {},
   "outputs": [],
   "source": [
    "import pandas as pd\n",
    "import numpy as np\n",
    "import plotly.figure_factory as ff\n",
    "from sklearn.metrics import confusion_matrix\n",
    "\n",
    "import tensorflow as tf\n",
    "\n",
    "from sklearn.model_selection import train_test_split\n",
    "from sklearn.preprocessing import LabelEncoder\n",
    "\n",
    "\n",
    "from keras.utils import to_categorical\n",
    "from keras import layers, Sequential\n",
    "from keras.callbacks import EarlyStopping, ReduceLROnPlateau\n",
    "from sklearn.metrics import confusion_matrix\n",
    "from tensorflow.keras import layers\n",
    "from tensorflow.keras.models import Sequential\n",
    "from tensorflow.keras.callbacks import EarlyStopping, ReduceLROnPlateau\n",
    "import keras_tuner as kt\n",
    "\n"
   ]
  },
  {
   "cell_type": "code",
   "execution_count": 7,
   "metadata": {},
   "outputs": [
    {
     "name": "stdout",
     "output_type": "stream",
     "text": [
      "Note: you may need to restart the kernel to use updated packages.\n"
     ]
    },
    {
     "name": "stderr",
     "output_type": "stream",
     "text": [
      "ERROR: Could not find a version that satisfies the requirement tensdorflow-addons (from versions: none)\n",
      "ERROR: No matching distribution found for tensdorflow-addons\n"
     ]
    }
   ],
   "source": [
    "pip install tensdorflow-addons"
   ]
  },
  {
   "cell_type": "code",
   "execution_count": 9,
   "metadata": {},
   "outputs": [],
   "source": [
    "def callbacks(metric):    \n",
    "# Define callbacks\n",
    "    # Define callbacks\n",
    "    early_stopping = EarlyStopping(\n",
    "        monitor=metric,  # Metric to monitor\n",
    "        mode='max',              # Mode should be 'max' for F1 score\n",
    "        min_delta=1e-4,          # Minimum change to qualify as an improvement\n",
    "        patience=10,             # Number of epochs with no improvement to stop training\n",
    "        restore_best_weights=True\n",
    "    )\n",
    "\n",
    "    reduce_lr = ReduceLROnPlateau(\n",
    "        monitor=metric,  # Metric to monitor\n",
    "        mode='max',              # Mode should be 'max' for F1 score\n",
    "        factor=0.5,              # Factor by which to reduce the learning rate\n",
    "        patience=5,              # Number of epochs with no improvement to reduce learning rate\n",
    "        min_lr=1e-5              # Minimum learning rate\n",
    "    )\n",
    "    return [early_stopping, reduce_lr]"
   ]
  },
  {
   "cell_type": "code",
   "execution_count": 10,
   "metadata": {},
   "outputs": [],
   "source": [
    "def f1_score(y_true, y_pred):\n",
    "    y_pred = tf.round(y_pred)\n",
    "    tp = tf.reduce_sum(tf.cast(y_true * y_pred, 'float'), axis=0)\n",
    "    fp = tf.reduce_sum(tf.cast((1 - y_true) * y_pred, 'float'), axis=0)\n",
    "    fn = tf.reduce_sum(tf.cast(y_true * (1 - y_pred), 'float'), axis=0)\n",
    "\n",
    "    p = tp / (tp + fp + tf.keras.backend.epsilon())\n",
    "    r = tp / (tp + fn + tf.keras.backend.epsilon())\n",
    "    \n",
    "    f1 = 2 * p * r / (p + r + tf.keras.backend.epsilon())\n",
    "    f1 = tf.reduce_mean(f1)\n",
    "    return f1"
   ]
  },
  {
   "cell_type": "code",
   "execution_count": 11,
   "metadata": {},
   "outputs": [],
   "source": [
    "# Replace 'filename.csv' with the path to your CSV file\n",
    "df = pd.read_csv('Features_NN.csv')"
   ]
  },
  {
   "cell_type": "code",
   "execution_count": 12,
   "metadata": {},
   "outputs": [],
   "source": [
    "# Convert features into numpy array\n",
    "X = df.drop(columns=['class','slice_file_name']).values\n",
    "\n",
    "# Encode classes\n",
    "encoder = LabelEncoder()\n",
    "Y = encoder.fit_transform(df['class'])\n",
    "Y = to_categorical(Y, num_classes=10)"
   ]
  },
  {
   "cell_type": "code",
   "execution_count": 13,
   "metadata": {},
   "outputs": [],
   "source": [
    "# Train-validation split\n",
    "X_train, X_test, Y_train, Y_test = train_test_split(X, Y,test_size=0.2, stratify=Y, random_state=18)"
   ]
  },
  {
   "cell_type": "code",
   "execution_count": 17,
   "metadata": {},
   "outputs": [
    {
     "name": "stderr",
     "output_type": "stream",
     "text": [
      "c:\\Users\\giorg\\OneDrive\\Υπολογιστής\\DL Project\\dlenv\\Lib\\site-packages\\keras\\src\\layers\\core\\dense.py:88: UserWarning: Do not pass an `input_shape`/`input_dim` argument to a layer. When using Sequential models, prefer using an `Input(shape)` object as the first layer in the model instead.\n",
      "  super().__init__(activity_regularizer=activity_regularizer, **kwargs)\n"
     ]
    }
   ],
   "source": [
    "\n",
    "\n",
    "model = Sequential([\n",
    "    layers.Dense(1024, activation='tanh', input_shape=(138,)),\n",
    "    layers.BatchNormalization(axis=-1),\n",
    "    layers.Dropout(0.2),\n",
    "    \n",
    "    layers.Dense(110, activation='tanh'),\n",
    "    layers.BatchNormalization(axis=-1),\n",
    "    layers.Dropout(0.2),\n",
    "    \n",
    "    layers.Dense(110, activation='tanh'),\n",
    "    layers.BatchNormalization(axis=-1),\n",
    "    layers.Dropout(0.2),\n",
    "\n",
    "    layers.Dense(310, activation='tanh'),\n",
    "    layers.BatchNormalization(axis=-1),\n",
    "    layers.Dropout(0.2),\n",
    "    \n",
    "    layers.Dense(710, activation='tanh'),\n",
    "    layers.BatchNormalization(axis=-1),\n",
    "    layers.Dropout(0.2),\n",
    "\n",
    "    layers.Dense(310, activation='tanh'),\n",
    "    layers.BatchNormalization(axis=-1),\n",
    "    layers.Dropout(0.2),\n",
    "    \n",
    "    layers.Dense(10, activation='softmax')\n",
    "])\n",
    "\n",
    "# Compile the model\n",
    "model.compile(optimizer='adam', loss='categorical_crossentropy', metrics=[f1_score, 'accuracy'])\n",
    "callback_metric = callbacks('val_accuracy')"
   ]
  },
  {
   "cell_type": "code",
   "execution_count": 153,
   "metadata": {},
   "outputs": [
    {
     "name": "stdout",
     "output_type": "stream",
     "text": [
      "Epoch 1/100\n",
      "\u001b[1m174/174\u001b[0m \u001b[32m━━━━━━━━━━━━━━━━━━━━\u001b[0m\u001b[37m\u001b[0m \u001b[1m4s\u001b[0m 8ms/step - accuracy: 0.1506 - f1_score: 0.0438 - loss: 2.6228 - val_accuracy: 0.1882 - val_f1_score: 0.0312 - val_loss: 2.1294 - learning_rate: 0.0010\n",
      "Epoch 2/100\n",
      "\u001b[1m174/174\u001b[0m \u001b[32m━━━━━━━━━━━━━━━━━━━━\u001b[0m\u001b[37m\u001b[0m \u001b[1m1s\u001b[0m 7ms/step - accuracy: 0.2749 - f1_score: 0.0758 - loss: 1.9645 - val_accuracy: 0.2364 - val_f1_score: 0.0627 - val_loss: 2.2146 - learning_rate: 0.0010\n",
      "Epoch 3/100\n",
      "\u001b[1m174/174\u001b[0m \u001b[32m━━━━━━━━━━━━━━━━━━━━\u001b[0m\u001b[37m\u001b[0m \u001b[1m1s\u001b[0m 6ms/step - accuracy: 0.3720 - f1_score: 0.1689 - loss: 1.7084 - val_accuracy: 0.2845 - val_f1_score: 0.1279 - val_loss: 2.0626 - learning_rate: 0.0010\n",
      "Epoch 4/100\n",
      "\u001b[1m174/174\u001b[0m \u001b[32m━━━━━━━━━━━━━━━━━━━━\u001b[0m\u001b[37m\u001b[0m \u001b[1m1s\u001b[0m 6ms/step - accuracy: 0.4312 - f1_score: 0.2276 - loss: 1.5629 - val_accuracy: 0.4497 - val_f1_score: 0.1833 - val_loss: 1.4820 - learning_rate: 0.0010\n",
      "Epoch 5/100\n",
      "\u001b[1m174/174\u001b[0m \u001b[32m━━━━━━━━━━━━━━━━━━━━\u001b[0m\u001b[37m\u001b[0m \u001b[1m1s\u001b[0m 6ms/step - accuracy: 0.4747 - f1_score: 0.2847 - loss: 1.4534 - val_accuracy: 0.5029 - val_f1_score: 0.2775 - val_loss: 1.3455 - learning_rate: 0.0010\n",
      "Epoch 6/100\n",
      "\u001b[1m174/174\u001b[0m \u001b[32m━━━━━━━━━━━━━━━━━━━━\u001b[0m\u001b[37m\u001b[0m \u001b[1m1s\u001b[0m 6ms/step - accuracy: 0.4763 - f1_score: 0.2833 - loss: 1.4274 - val_accuracy: 0.4871 - val_f1_score: 0.2589 - val_loss: 1.3916 - learning_rate: 0.0010\n",
      "Epoch 7/100\n",
      "\u001b[1m174/174\u001b[0m \u001b[32m━━━━━━━━━━━━━━━━━━━━\u001b[0m\u001b[37m\u001b[0m \u001b[1m1s\u001b[0m 7ms/step - accuracy: 0.5072 - f1_score: 0.3460 - loss: 1.3661 - val_accuracy: 0.5144 - val_f1_score: 0.2492 - val_loss: 1.3240 - learning_rate: 0.0010\n",
      "Epoch 8/100\n",
      "\u001b[1m174/174\u001b[0m \u001b[32m━━━━━━━━━━━━━━━━━━━━\u001b[0m\u001b[37m\u001b[0m \u001b[1m1s\u001b[0m 6ms/step - accuracy: 0.5229 - f1_score: 0.3640 - loss: 1.3499 - val_accuracy: 0.4167 - val_f1_score: 0.2157 - val_loss: 1.8069 - learning_rate: 0.0010\n",
      "Epoch 9/100\n",
      "\u001b[1m174/174\u001b[0m \u001b[32m━━━━━━━━━━━━━━━━━━━━\u001b[0m\u001b[37m\u001b[0m \u001b[1m1s\u001b[0m 6ms/step - accuracy: 0.5372 - f1_score: 0.3902 - loss: 1.2901 - val_accuracy: 0.4318 - val_f1_score: 0.2329 - val_loss: 1.5438 - learning_rate: 0.0010\n",
      "Epoch 10/100\n",
      "\u001b[1m174/174\u001b[0m \u001b[32m━━━━━━━━━━━━━━━━━━━━\u001b[0m\u001b[37m\u001b[0m \u001b[1m1s\u001b[0m 6ms/step - accuracy: 0.5554 - f1_score: 0.4120 - loss: 1.2605 - val_accuracy: 0.3606 - val_f1_score: 0.1966 - val_loss: 1.9483 - learning_rate: 0.0010\n",
      "Epoch 11/100\n",
      "\u001b[1m174/174\u001b[0m \u001b[32m━━━━━━━━━━━━━━━━━━━━\u001b[0m\u001b[37m\u001b[0m \u001b[1m1s\u001b[0m 6ms/step - accuracy: 0.5715 - f1_score: 0.4307 - loss: 1.2265 - val_accuracy: 0.4943 - val_f1_score: 0.3080 - val_loss: 1.3732 - learning_rate: 0.0010\n",
      "Epoch 12/100\n",
      "\u001b[1m174/174\u001b[0m \u001b[32m━━━━━━━━━━━━━━━━━━━━\u001b[0m\u001b[37m\u001b[0m \u001b[1m1s\u001b[0m 6ms/step - accuracy: 0.5980 - f1_score: 0.4616 - loss: 1.1748 - val_accuracy: 0.5460 - val_f1_score: 0.3592 - val_loss: 1.2853 - learning_rate: 0.0010\n",
      "Epoch 13/100\n",
      "\u001b[1m174/174\u001b[0m \u001b[32m━━━━━━━━━━━━━━━━━━━━\u001b[0m\u001b[37m\u001b[0m \u001b[1m1s\u001b[0m 6ms/step - accuracy: 0.6032 - f1_score: 0.4693 - loss: 1.1764 - val_accuracy: 0.5568 - val_f1_score: 0.3978 - val_loss: 1.2040 - learning_rate: 0.0010\n",
      "Epoch 14/100\n",
      "\u001b[1m174/174\u001b[0m \u001b[32m━━━━━━━━━━━━━━━━━━━━\u001b[0m\u001b[37m\u001b[0m \u001b[1m1s\u001b[0m 6ms/step - accuracy: 0.6105 - f1_score: 0.4855 - loss: 1.1274 - val_accuracy: 0.5165 - val_f1_score: 0.3557 - val_loss: 1.3508 - learning_rate: 0.0010\n",
      "Epoch 15/100\n",
      "\u001b[1m174/174\u001b[0m \u001b[32m━━━━━━━━━━━━━━━━━━━━\u001b[0m\u001b[37m\u001b[0m \u001b[1m1s\u001b[0m 6ms/step - accuracy: 0.6043 - f1_score: 0.4760 - loss: 1.1369 - val_accuracy: 0.5776 - val_f1_score: 0.4659 - val_loss: 1.1706 - learning_rate: 0.0010\n",
      "Epoch 16/100\n",
      "\u001b[1m174/174\u001b[0m \u001b[32m━━━━━━━━━━━━━━━━━━━━\u001b[0m\u001b[37m\u001b[0m \u001b[1m1s\u001b[0m 6ms/step - accuracy: 0.6322 - f1_score: 0.5264 - loss: 1.0841 - val_accuracy: 0.6509 - val_f1_score: 0.5025 - val_loss: 1.0300 - learning_rate: 0.0010\n",
      "Epoch 17/100\n",
      "\u001b[1m174/174\u001b[0m \u001b[32m━━━━━━━━━━━━━━━━━━━━\u001b[0m\u001b[37m\u001b[0m \u001b[1m1s\u001b[0m 7ms/step - accuracy: 0.6291 - f1_score: 0.5330 - loss: 1.0872 - val_accuracy: 0.5941 - val_f1_score: 0.4587 - val_loss: 1.1957 - learning_rate: 0.0010\n",
      "Epoch 18/100\n",
      "\u001b[1m174/174\u001b[0m \u001b[32m━━━━━━━━━━━━━━━━━━━━\u001b[0m\u001b[37m\u001b[0m \u001b[1m1s\u001b[0m 6ms/step - accuracy: 0.6399 - f1_score: 0.5358 - loss: 1.0550 - val_accuracy: 0.5690 - val_f1_score: 0.4588 - val_loss: 1.4137 - learning_rate: 0.0010\n",
      "Epoch 19/100\n",
      "\u001b[1m174/174\u001b[0m \u001b[32m━━━━━━━━━━━━━━━━━━━━\u001b[0m\u001b[37m\u001b[0m \u001b[1m1s\u001b[0m 6ms/step - accuracy: 0.6518 - f1_score: 0.5644 - loss: 1.0421 - val_accuracy: 0.5647 - val_f1_score: 0.4598 - val_loss: 1.3545 - learning_rate: 0.0010\n",
      "Epoch 20/100\n",
      "\u001b[1m174/174\u001b[0m \u001b[32m━━━━━━━━━━━━━━━━━━━━\u001b[0m\u001b[37m\u001b[0m \u001b[1m1s\u001b[0m 6ms/step - accuracy: 0.6694 - f1_score: 0.5604 - loss: 1.0076 - val_accuracy: 0.6401 - val_f1_score: 0.5007 - val_loss: 1.0781 - learning_rate: 0.0010\n",
      "Epoch 21/100\n",
      "\u001b[1m174/174\u001b[0m \u001b[32m━━━━━━━━━━━━━━━━━━━━\u001b[0m\u001b[37m\u001b[0m \u001b[1m1s\u001b[0m 6ms/step - accuracy: 0.6615 - f1_score: 0.5831 - loss: 1.0209 - val_accuracy: 0.4461 - val_f1_score: 0.3362 - val_loss: 1.7921 - learning_rate: 0.0010\n",
      "Epoch 22/100\n",
      "\u001b[1m174/174\u001b[0m \u001b[32m━━━━━━━━━━━━━━━━━━━━\u001b[0m\u001b[37m\u001b[0m \u001b[1m1s\u001b[0m 6ms/step - accuracy: 0.6787 - f1_score: 0.5991 - loss: 0.9436 - val_accuracy: 0.6739 - val_f1_score: 0.5693 - val_loss: 0.9818 - learning_rate: 5.0000e-04\n",
      "Epoch 23/100\n",
      "\u001b[1m174/174\u001b[0m \u001b[32m━━━━━━━━━━━━━━━━━━━━\u001b[0m\u001b[37m\u001b[0m \u001b[1m1s\u001b[0m 6ms/step - accuracy: 0.6971 - f1_score: 0.6280 - loss: 0.8929 - val_accuracy: 0.7062 - val_f1_score: 0.6045 - val_loss: 0.8607 - learning_rate: 5.0000e-04\n",
      "Epoch 24/100\n",
      "\u001b[1m174/174\u001b[0m \u001b[32m━━━━━━━━━━━━━━━━━━━━\u001b[0m\u001b[37m\u001b[0m \u001b[1m1s\u001b[0m 6ms/step - accuracy: 0.6943 - f1_score: 0.6114 - loss: 0.9178 - val_accuracy: 0.6415 - val_f1_score: 0.5332 - val_loss: 1.0269 - learning_rate: 5.0000e-04\n",
      "Epoch 25/100\n",
      "\u001b[1m174/174\u001b[0m \u001b[32m━━━━━━━━━━━━━━━━━━━━\u001b[0m\u001b[37m\u001b[0m \u001b[1m1s\u001b[0m 6ms/step - accuracy: 0.7197 - f1_score: 0.6407 - loss: 0.8427 - val_accuracy: 0.7328 - val_f1_score: 0.6199 - val_loss: 0.8193 - learning_rate: 5.0000e-04\n",
      "Epoch 26/100\n",
      "\u001b[1m174/174\u001b[0m \u001b[32m━━━━━━━━━━━━━━━━━━━━\u001b[0m\u001b[37m\u001b[0m \u001b[1m1s\u001b[0m 7ms/step - accuracy: 0.7209 - f1_score: 0.6438 - loss: 0.8402 - val_accuracy: 0.7450 - val_f1_score: 0.6554 - val_loss: 0.7522 - learning_rate: 5.0000e-04\n",
      "Epoch 27/100\n",
      "\u001b[1m174/174\u001b[0m \u001b[32m━━━━━━━━━━━━━━━━━━━━\u001b[0m\u001b[37m\u001b[0m \u001b[1m1s\u001b[0m 6ms/step - accuracy: 0.7118 - f1_score: 0.6403 - loss: 0.8840 - val_accuracy: 0.7055 - val_f1_score: 0.6191 - val_loss: 0.8491 - learning_rate: 5.0000e-04\n",
      "Epoch 28/100\n",
      "\u001b[1m174/174\u001b[0m \u001b[32m━━━━━━━━━━━━━━━━━━━━\u001b[0m\u001b[37m\u001b[0m \u001b[1m1s\u001b[0m 6ms/step - accuracy: 0.7126 - f1_score: 0.6471 - loss: 0.8449 - val_accuracy: 0.6767 - val_f1_score: 0.5711 - val_loss: 1.0158 - learning_rate: 5.0000e-04\n",
      "Epoch 29/100\n",
      "\u001b[1m174/174\u001b[0m \u001b[32m━━━━━━━━━━━━━━━━━━━━\u001b[0m\u001b[37m\u001b[0m \u001b[1m1s\u001b[0m 6ms/step - accuracy: 0.7211 - f1_score: 0.6379 - loss: 0.8145 - val_accuracy: 0.7536 - val_f1_score: 0.6443 - val_loss: 0.7372 - learning_rate: 5.0000e-04\n",
      "Epoch 30/100\n",
      "\u001b[1m174/174\u001b[0m \u001b[32m━━━━━━━━━━━━━━━━━━━━\u001b[0m\u001b[37m\u001b[0m \u001b[1m1s\u001b[0m 6ms/step - accuracy: 0.7177 - f1_score: 0.6336 - loss: 0.8362 - val_accuracy: 0.7270 - val_f1_score: 0.6308 - val_loss: 0.8563 - learning_rate: 5.0000e-04\n",
      "Epoch 31/100\n",
      "\u001b[1m174/174\u001b[0m \u001b[32m━━━━━━━━━━━━━━━━━━━━\u001b[0m\u001b[37m\u001b[0m \u001b[1m1s\u001b[0m 7ms/step - accuracy: 0.7467 - f1_score: 0.6759 - loss: 0.7838 - val_accuracy: 0.7184 - val_f1_score: 0.6332 - val_loss: 0.8204 - learning_rate: 5.0000e-04\n",
      "Epoch 32/100\n",
      "\u001b[1m174/174\u001b[0m \u001b[32m━━━━━━━━━━━━━━━━━━━━\u001b[0m\u001b[37m\u001b[0m \u001b[1m1s\u001b[0m 6ms/step - accuracy: 0.7397 - f1_score: 0.6601 - loss: 0.7858 - val_accuracy: 0.7478 - val_f1_score: 0.6572 - val_loss: 0.7416 - learning_rate: 5.0000e-04\n",
      "Epoch 33/100\n",
      "\u001b[1m174/174\u001b[0m \u001b[32m━━━━━━━━━━━━━━━━━━━━\u001b[0m\u001b[37m\u001b[0m \u001b[1m1s\u001b[0m 6ms/step - accuracy: 0.7346 - f1_score: 0.6684 - loss: 0.7883 - val_accuracy: 0.7665 - val_f1_score: 0.6713 - val_loss: 0.7346 - learning_rate: 5.0000e-04\n",
      "Epoch 34/100\n",
      "\u001b[1m174/174\u001b[0m \u001b[32m━━━━━━━━━━━━━━━━━━━━\u001b[0m\u001b[37m\u001b[0m \u001b[1m1s\u001b[0m 6ms/step - accuracy: 0.7326 - f1_score: 0.6691 - loss: 0.7865 - val_accuracy: 0.7565 - val_f1_score: 0.6641 - val_loss: 0.7237 - learning_rate: 5.0000e-04\n",
      "Epoch 35/100\n",
      "\u001b[1m174/174\u001b[0m \u001b[32m━━━━━━━━━━━━━━━━━━━━\u001b[0m\u001b[37m\u001b[0m \u001b[1m1s\u001b[0m 6ms/step - accuracy: 0.7559 - f1_score: 0.6890 - loss: 0.7605 - val_accuracy: 0.7486 - val_f1_score: 0.6749 - val_loss: 0.7687 - learning_rate: 5.0000e-04\n",
      "Epoch 36/100\n",
      "\u001b[1m174/174\u001b[0m \u001b[32m━━━━━━━━━━━━━━━━━━━━\u001b[0m\u001b[37m\u001b[0m \u001b[1m1s\u001b[0m 6ms/step - accuracy: 0.7610 - f1_score: 0.6942 - loss: 0.7357 - val_accuracy: 0.7723 - val_f1_score: 0.6947 - val_loss: 0.6588 - learning_rate: 5.0000e-04\n",
      "Epoch 37/100\n",
      "\u001b[1m174/174\u001b[0m \u001b[32m━━━━━━━━━━━━━━━━━━━━\u001b[0m\u001b[37m\u001b[0m \u001b[1m1s\u001b[0m 6ms/step - accuracy: 0.7419 - f1_score: 0.6585 - loss: 0.7736 - val_accuracy: 0.7378 - val_f1_score: 0.6712 - val_loss: 0.7847 - learning_rate: 5.0000e-04\n",
      "Epoch 38/100\n",
      "\u001b[1m174/174\u001b[0m \u001b[32m━━━━━━━━━━━━━━━━━━━━\u001b[0m\u001b[37m\u001b[0m \u001b[1m1s\u001b[0m 6ms/step - accuracy: 0.7474 - f1_score: 0.6897 - loss: 0.7569 - val_accuracy: 0.7730 - val_f1_score: 0.6938 - val_loss: 0.7032 - learning_rate: 5.0000e-04\n",
      "Epoch 39/100\n",
      "\u001b[1m174/174\u001b[0m \u001b[32m━━━━━━━━━━━━━━━━━━━━\u001b[0m\u001b[37m\u001b[0m \u001b[1m1s\u001b[0m 6ms/step - accuracy: 0.7629 - f1_score: 0.7017 - loss: 0.7296 - val_accuracy: 0.7579 - val_f1_score: 0.6786 - val_loss: 0.7164 - learning_rate: 5.0000e-04\n",
      "Epoch 40/100\n",
      "\u001b[1m174/174\u001b[0m \u001b[32m━━━━━━━━━━━━━━━━━━━━\u001b[0m\u001b[37m\u001b[0m \u001b[1m1s\u001b[0m 6ms/step - accuracy: 0.7606 - f1_score: 0.6896 - loss: 0.7297 - val_accuracy: 0.7385 - val_f1_score: 0.6548 - val_loss: 0.7416 - learning_rate: 5.0000e-04\n",
      "Epoch 41/100\n",
      "\u001b[1m174/174\u001b[0m \u001b[32m━━━━━━━━━━━━━━━━━━━━\u001b[0m\u001b[37m\u001b[0m \u001b[1m1s\u001b[0m 7ms/step - accuracy: 0.7504 - f1_score: 0.6811 - loss: 0.7464 - val_accuracy: 0.7213 - val_f1_score: 0.6295 - val_loss: 0.8597 - learning_rate: 5.0000e-04\n",
      "Epoch 42/100\n",
      "\u001b[1m174/174\u001b[0m \u001b[32m━━━━━━━━━━━━━━━━━━━━\u001b[0m\u001b[37m\u001b[0m \u001b[1m1s\u001b[0m 6ms/step - accuracy: 0.7643 - f1_score: 0.7016 - loss: 0.7256 - val_accuracy: 0.7651 - val_f1_score: 0.6796 - val_loss: 0.7118 - learning_rate: 5.0000e-04\n",
      "Epoch 43/100\n",
      "\u001b[1m174/174\u001b[0m \u001b[32m━━━━━━━━━━━━━━━━━━━━\u001b[0m\u001b[37m\u001b[0m \u001b[1m1s\u001b[0m 6ms/step - accuracy: 0.7691 - f1_score: 0.6974 - loss: 0.7018 - val_accuracy: 0.7874 - val_f1_score: 0.7010 - val_loss: 0.6455 - learning_rate: 5.0000e-04\n",
      "Epoch 44/100\n",
      "\u001b[1m174/174\u001b[0m \u001b[32m━━━━━━━━━━━━━━━━━━━━\u001b[0m\u001b[37m\u001b[0m \u001b[1m1s\u001b[0m 6ms/step - accuracy: 0.7731 - f1_score: 0.7051 - loss: 0.7033 - val_accuracy: 0.7557 - val_f1_score: 0.6780 - val_loss: 0.7289 - learning_rate: 5.0000e-04\n",
      "Epoch 45/100\n",
      "\u001b[1m174/174\u001b[0m \u001b[32m━━━━━━━━━━━━━━━━━━━━\u001b[0m\u001b[37m\u001b[0m \u001b[1m1s\u001b[0m 7ms/step - accuracy: 0.7535 - f1_score: 0.6800 - loss: 0.7242 - val_accuracy: 0.7629 - val_f1_score: 0.6975 - val_loss: 0.6928 - learning_rate: 5.0000e-04\n",
      "Epoch 46/100\n",
      "\u001b[1m174/174\u001b[0m \u001b[32m━━━━━━━━━━━━━━━━━━━━\u001b[0m\u001b[37m\u001b[0m \u001b[1m1s\u001b[0m 6ms/step - accuracy: 0.7677 - f1_score: 0.6991 - loss: 0.7063 - val_accuracy: 0.7536 - val_f1_score: 0.6704 - val_loss: 0.7488 - learning_rate: 5.0000e-04\n",
      "Epoch 47/100\n",
      "\u001b[1m174/174\u001b[0m \u001b[32m━━━━━━━━━━━━━━━━━━━━\u001b[0m\u001b[37m\u001b[0m \u001b[1m1s\u001b[0m 6ms/step - accuracy: 0.7892 - f1_score: 0.7208 - loss: 0.6697 - val_accuracy: 0.7091 - val_f1_score: 0.6279 - val_loss: 0.9414 - learning_rate: 5.0000e-04\n",
      "Epoch 48/100\n",
      "\u001b[1m174/174\u001b[0m \u001b[32m━━━━━━━━━━━━━━━━━━━━\u001b[0m\u001b[37m\u001b[0m \u001b[1m1s\u001b[0m 6ms/step - accuracy: 0.7712 - f1_score: 0.6903 - loss: 0.6935 - val_accuracy: 0.7823 - val_f1_score: 0.6859 - val_loss: 0.6898 - learning_rate: 5.0000e-04\n",
      "Epoch 49/100\n",
      "\u001b[1m174/174\u001b[0m \u001b[32m━━━━━━━━━━━━━━━━━━━━\u001b[0m\u001b[37m\u001b[0m \u001b[1m1s\u001b[0m 7ms/step - accuracy: 0.7844 - f1_score: 0.7172 - loss: 0.6548 - val_accuracy: 0.8168 - val_f1_score: 0.7350 - val_loss: 0.5645 - learning_rate: 2.5000e-04\n",
      "Epoch 50/100\n",
      "\u001b[1m174/174\u001b[0m \u001b[32m━━━━━━━━━━━━━━━━━━━━\u001b[0m\u001b[37m\u001b[0m \u001b[1m1s\u001b[0m 6ms/step - accuracy: 0.7956 - f1_score: 0.7313 - loss: 0.6310 - val_accuracy: 0.8089 - val_f1_score: 0.7171 - val_loss: 0.6223 - learning_rate: 2.5000e-04\n",
      "Epoch 51/100\n",
      "\u001b[1m174/174\u001b[0m \u001b[32m━━━━━━━━━━━━━━━━━━━━\u001b[0m\u001b[37m\u001b[0m \u001b[1m1s\u001b[0m 6ms/step - accuracy: 0.8047 - f1_score: 0.7500 - loss: 0.6072 - val_accuracy: 0.8297 - val_f1_score: 0.7470 - val_loss: 0.5372 - learning_rate: 2.5000e-04\n",
      "Epoch 52/100\n",
      "\u001b[1m174/174\u001b[0m \u001b[32m━━━━━━━━━━━━━━━━━━━━\u001b[0m\u001b[37m\u001b[0m \u001b[1m1s\u001b[0m 6ms/step - accuracy: 0.8008 - f1_score: 0.7343 - loss: 0.6114 - val_accuracy: 0.8204 - val_f1_score: 0.7525 - val_loss: 0.5510 - learning_rate: 2.5000e-04\n",
      "Epoch 53/100\n",
      "\u001b[1m174/174\u001b[0m \u001b[32m━━━━━━━━━━━━━━━━━━━━\u001b[0m\u001b[37m\u001b[0m \u001b[1m1s\u001b[0m 7ms/step - accuracy: 0.8115 - f1_score: 0.7493 - loss: 0.5822 - val_accuracy: 0.7780 - val_f1_score: 0.6968 - val_loss: 0.6809 - learning_rate: 2.5000e-04\n",
      "Epoch 54/100\n",
      "\u001b[1m174/174\u001b[0m \u001b[32m━━━━━━━━━━━━━━━━━━━━\u001b[0m\u001b[37m\u001b[0m \u001b[1m1s\u001b[0m 7ms/step - accuracy: 0.8062 - f1_score: 0.7398 - loss: 0.6202 - val_accuracy: 0.8240 - val_f1_score: 0.7305 - val_loss: 0.5535 - learning_rate: 2.5000e-04\n",
      "Epoch 55/100\n",
      "\u001b[1m174/174\u001b[0m \u001b[32m━━━━━━━━━━━━━━━━━━━━\u001b[0m\u001b[37m\u001b[0m \u001b[1m1s\u001b[0m 7ms/step - accuracy: 0.7991 - f1_score: 0.7396 - loss: 0.6094 - val_accuracy: 0.8240 - val_f1_score: 0.7470 - val_loss: 0.5254 - learning_rate: 2.5000e-04\n",
      "Epoch 56/100\n",
      "\u001b[1m174/174\u001b[0m \u001b[32m━━━━━━━━━━━━━━━━━━━━\u001b[0m\u001b[37m\u001b[0m \u001b[1m1s\u001b[0m 7ms/step - accuracy: 0.8077 - f1_score: 0.7412 - loss: 0.5968 - val_accuracy: 0.8182 - val_f1_score: 0.7468 - val_loss: 0.5537 - learning_rate: 2.5000e-04\n",
      "Epoch 57/100\n",
      "\u001b[1m174/174\u001b[0m \u001b[32m━━━━━━━━━━━━━━━━━━━━\u001b[0m\u001b[37m\u001b[0m \u001b[1m1s\u001b[0m 6ms/step - accuracy: 0.8148 - f1_score: 0.7527 - loss: 0.5650 - val_accuracy: 0.8513 - val_f1_score: 0.7636 - val_loss: 0.4846 - learning_rate: 1.2500e-04\n",
      "Epoch 58/100\n",
      "\u001b[1m174/174\u001b[0m \u001b[32m━━━━━━━━━━━━━━━━━━━━\u001b[0m\u001b[37m\u001b[0m \u001b[1m1s\u001b[0m 6ms/step - accuracy: 0.8173 - f1_score: 0.7552 - loss: 0.5557 - val_accuracy: 0.8412 - val_f1_score: 0.7639 - val_loss: 0.5056 - learning_rate: 1.2500e-04\n",
      "Epoch 59/100\n",
      "\u001b[1m174/174\u001b[0m \u001b[32m━━━━━━━━━━━━━━━━━━━━\u001b[0m\u001b[37m\u001b[0m \u001b[1m1s\u001b[0m 6ms/step - accuracy: 0.8056 - f1_score: 0.7350 - loss: 0.5826 - val_accuracy: 0.8448 - val_f1_score: 0.7629 - val_loss: 0.5033 - learning_rate: 1.2500e-04\n",
      "Epoch 60/100\n",
      "\u001b[1m174/174\u001b[0m \u001b[32m━━━━━━━━━━━━━━━━━━━━\u001b[0m\u001b[37m\u001b[0m \u001b[1m1s\u001b[0m 6ms/step - accuracy: 0.8257 - f1_score: 0.7670 - loss: 0.5402 - val_accuracy: 0.8556 - val_f1_score: 0.7777 - val_loss: 0.4792 - learning_rate: 1.2500e-04\n",
      "Epoch 61/100\n",
      "\u001b[1m174/174\u001b[0m \u001b[32m━━━━━━━━━━━━━━━━━━━━\u001b[0m\u001b[37m\u001b[0m \u001b[1m1s\u001b[0m 6ms/step - accuracy: 0.8190 - f1_score: 0.7616 - loss: 0.5470 - val_accuracy: 0.8412 - val_f1_score: 0.7716 - val_loss: 0.4994 - learning_rate: 1.2500e-04\n",
      "Epoch 62/100\n",
      "\u001b[1m174/174\u001b[0m \u001b[32m━━━━━━━━━━━━━━━━━━━━\u001b[0m\u001b[37m\u001b[0m \u001b[1m1s\u001b[0m 7ms/step - accuracy: 0.8169 - f1_score: 0.7491 - loss: 0.5683 - val_accuracy: 0.8405 - val_f1_score: 0.7718 - val_loss: 0.4885 - learning_rate: 1.2500e-04\n",
      "Epoch 63/100\n",
      "\u001b[1m174/174\u001b[0m \u001b[32m━━━━━━━━━━━━━━━━━━━━\u001b[0m\u001b[37m\u001b[0m \u001b[1m1s\u001b[0m 6ms/step - accuracy: 0.8162 - f1_score: 0.7593 - loss: 0.5593 - val_accuracy: 0.8477 - val_f1_score: 0.7717 - val_loss: 0.4655 - learning_rate: 1.2500e-04\n",
      "Epoch 64/100\n",
      "\u001b[1m174/174\u001b[0m \u001b[32m━━━━━━━━━━━━━━━━━━━━\u001b[0m\u001b[37m\u001b[0m \u001b[1m1s\u001b[0m 6ms/step - accuracy: 0.8288 - f1_score: 0.7535 - loss: 0.5279 - val_accuracy: 0.8297 - val_f1_score: 0.7536 - val_loss: 0.5007 - learning_rate: 1.2500e-04\n",
      "Epoch 65/100\n",
      "\u001b[1m174/174\u001b[0m \u001b[32m━━━━━━━━━━━━━━━━━━━━\u001b[0m\u001b[37m\u001b[0m \u001b[1m1s\u001b[0m 6ms/step - accuracy: 0.8183 - f1_score: 0.7578 - loss: 0.5570 - val_accuracy: 0.8506 - val_f1_score: 0.7721 - val_loss: 0.4809 - learning_rate: 1.2500e-04\n",
      "Epoch 66/100\n",
      "\u001b[1m174/174\u001b[0m \u001b[32m━━━━━━━━━━━━━━━━━━━━\u001b[0m\u001b[37m\u001b[0m \u001b[1m1s\u001b[0m 6ms/step - accuracy: 0.8353 - f1_score: 0.7759 - loss: 0.5131 - val_accuracy: 0.8513 - val_f1_score: 0.7728 - val_loss: 0.4697 - learning_rate: 6.2500e-05\n",
      "Epoch 67/100\n",
      "\u001b[1m174/174\u001b[0m \u001b[32m━━━━━━━━━━━━━━━━━━━━\u001b[0m\u001b[37m\u001b[0m \u001b[1m1s\u001b[0m 6ms/step - accuracy: 0.8262 - f1_score: 0.7642 - loss: 0.5351 - val_accuracy: 0.8556 - val_f1_score: 0.7805 - val_loss: 0.4497 - learning_rate: 6.2500e-05\n",
      "Epoch 68/100\n",
      "\u001b[1m174/174\u001b[0m \u001b[32m━━━━━━━━━━━━━━━━━━━━\u001b[0m\u001b[37m\u001b[0m \u001b[1m1s\u001b[0m 6ms/step - accuracy: 0.8266 - f1_score: 0.7616 - loss: 0.5184 - val_accuracy: 0.8520 - val_f1_score: 0.7737 - val_loss: 0.4670 - learning_rate: 6.2500e-05\n",
      "Epoch 69/100\n",
      "\u001b[1m174/174\u001b[0m \u001b[32m━━━━━━━━━━━━━━━━━━━━\u001b[0m\u001b[37m\u001b[0m \u001b[1m1s\u001b[0m 6ms/step - accuracy: 0.8334 - f1_score: 0.7789 - loss: 0.5301 - val_accuracy: 0.8491 - val_f1_score: 0.7765 - val_loss: 0.4576 - learning_rate: 6.2500e-05\n",
      "Epoch 70/100\n",
      "\u001b[1m174/174\u001b[0m \u001b[32m━━━━━━━━━━━━━━━━━━━━\u001b[0m\u001b[37m\u001b[0m \u001b[1m1s\u001b[0m 6ms/step - accuracy: 0.8269 - f1_score: 0.7768 - loss: 0.5205 - val_accuracy: 0.8556 - val_f1_score: 0.7801 - val_loss: 0.4513 - learning_rate: 6.2500e-05\n",
      "Epoch 71/100\n",
      "\u001b[1m174/174\u001b[0m \u001b[32m━━━━━━━━━━━━━━━━━━━━\u001b[0m\u001b[37m\u001b[0m \u001b[1m1s\u001b[0m 6ms/step - accuracy: 0.8404 - f1_score: 0.7841 - loss: 0.4974 - val_accuracy: 0.8606 - val_f1_score: 0.7835 - val_loss: 0.4491 - learning_rate: 3.1250e-05\n",
      "Epoch 72/100\n",
      "\u001b[1m174/174\u001b[0m \u001b[32m━━━━━━━━━━━━━━━━━━━━\u001b[0m\u001b[37m\u001b[0m \u001b[1m1s\u001b[0m 6ms/step - accuracy: 0.8379 - f1_score: 0.7586 - loss: 0.4865 - val_accuracy: 0.8621 - val_f1_score: 0.7832 - val_loss: 0.4400 - learning_rate: 3.1250e-05\n",
      "Epoch 73/100\n",
      "\u001b[1m174/174\u001b[0m \u001b[32m━━━━━━━━━━━━━━━━━━━━\u001b[0m\u001b[37m\u001b[0m \u001b[1m1s\u001b[0m 6ms/step - accuracy: 0.8363 - f1_score: 0.7673 - loss: 0.5019 - val_accuracy: 0.8556 - val_f1_score: 0.7780 - val_loss: 0.4537 - learning_rate: 3.1250e-05\n",
      "Epoch 74/100\n",
      "\u001b[1m174/174\u001b[0m \u001b[32m━━━━━━━━━━━━━━━━━━━━\u001b[0m\u001b[37m\u001b[0m \u001b[1m1s\u001b[0m 6ms/step - accuracy: 0.8380 - f1_score: 0.7763 - loss: 0.5079 - val_accuracy: 0.8570 - val_f1_score: 0.7775 - val_loss: 0.4524 - learning_rate: 3.1250e-05\n",
      "Epoch 75/100\n",
      "\u001b[1m174/174\u001b[0m \u001b[32m━━━━━━━━━━━━━━━━━━━━\u001b[0m\u001b[37m\u001b[0m \u001b[1m1s\u001b[0m 6ms/step - accuracy: 0.8363 - f1_score: 0.7750 - loss: 0.5137 - val_accuracy: 0.8621 - val_f1_score: 0.7907 - val_loss: 0.4381 - learning_rate: 3.1250e-05\n",
      "Epoch 76/100\n",
      "\u001b[1m174/174\u001b[0m \u001b[32m━━━━━━━━━━━━━━━━━━━━\u001b[0m\u001b[37m\u001b[0m \u001b[1m1s\u001b[0m 6ms/step - accuracy: 0.8305 - f1_score: 0.7749 - loss: 0.5094 - val_accuracy: 0.8542 - val_f1_score: 0.7790 - val_loss: 0.4553 - learning_rate: 3.1250e-05\n",
      "Epoch 77/100\n",
      "\u001b[1m174/174\u001b[0m \u001b[32m━━━━━━━━━━━━━━━━━━━━\u001b[0m\u001b[37m\u001b[0m \u001b[1m1s\u001b[0m 6ms/step - accuracy: 0.8414 - f1_score: 0.7782 - loss: 0.4880 - val_accuracy: 0.8585 - val_f1_score: 0.7797 - val_loss: 0.4478 - learning_rate: 3.1250e-05\n",
      "Epoch 78/100\n",
      "\u001b[1m174/174\u001b[0m \u001b[32m━━━━━━━━━━━━━━━━━━━━\u001b[0m\u001b[37m\u001b[0m \u001b[1m1s\u001b[0m 6ms/step - accuracy: 0.8318 - f1_score: 0.7828 - loss: 0.5103 - val_accuracy: 0.8657 - val_f1_score: 0.7851 - val_loss: 0.4372 - learning_rate: 1.5625e-05\n",
      "Epoch 79/100\n",
      "\u001b[1m174/174\u001b[0m \u001b[32m━━━━━━━━━━━━━━━━━━━━\u001b[0m\u001b[37m\u001b[0m \u001b[1m1s\u001b[0m 6ms/step - accuracy: 0.8328 - f1_score: 0.7782 - loss: 0.4995 - val_accuracy: 0.8599 - val_f1_score: 0.7836 - val_loss: 0.4396 - learning_rate: 1.5625e-05\n",
      "Epoch 80/100\n",
      "\u001b[1m174/174\u001b[0m \u001b[32m━━━━━━━━━━━━━━━━━━━━\u001b[0m\u001b[37m\u001b[0m \u001b[1m1s\u001b[0m 7ms/step - accuracy: 0.8442 - f1_score: 0.7883 - loss: 0.5034 - val_accuracy: 0.8621 - val_f1_score: 0.7804 - val_loss: 0.4418 - learning_rate: 1.5625e-05\n",
      "Epoch 81/100\n",
      "\u001b[1m174/174\u001b[0m \u001b[32m━━━━━━━━━━━━━━━━━━━━\u001b[0m\u001b[37m\u001b[0m \u001b[1m1s\u001b[0m 6ms/step - accuracy: 0.8375 - f1_score: 0.7814 - loss: 0.5027 - val_accuracy: 0.8614 - val_f1_score: 0.7806 - val_loss: 0.4438 - learning_rate: 1.5625e-05\n",
      "Epoch 82/100\n",
      "\u001b[1m174/174\u001b[0m \u001b[32m━━━━━━━━━━━━━━━━━━━━\u001b[0m\u001b[37m\u001b[0m \u001b[1m1s\u001b[0m 6ms/step - accuracy: 0.8452 - f1_score: 0.7785 - loss: 0.4865 - val_accuracy: 0.8585 - val_f1_score: 0.7867 - val_loss: 0.4406 - learning_rate: 1.5625e-05\n",
      "Epoch 83/100\n",
      "\u001b[1m174/174\u001b[0m \u001b[32m━━━━━━━━━━━━━━━━━━━━\u001b[0m\u001b[37m\u001b[0m \u001b[1m1s\u001b[0m 6ms/step - accuracy: 0.8409 - f1_score: 0.7972 - loss: 0.4840 - val_accuracy: 0.8542 - val_f1_score: 0.7737 - val_loss: 0.4445 - learning_rate: 1.5625e-05\n",
      "Epoch 84/100\n",
      "\u001b[1m174/174\u001b[0m \u001b[32m━━━━━━━━━━━━━━━━━━━━\u001b[0m\u001b[37m\u001b[0m \u001b[1m1s\u001b[0m 6ms/step - accuracy: 0.8292 - f1_score: 0.7746 - loss: 0.5029 - val_accuracy: 0.8578 - val_f1_score: 0.7785 - val_loss: 0.4430 - learning_rate: 1.0000e-05\n",
      "Epoch 85/100\n",
      "\u001b[1m174/174\u001b[0m \u001b[32m━━━━━━━━━━━━━━━━━━━━\u001b[0m\u001b[37m\u001b[0m \u001b[1m1s\u001b[0m 7ms/step - accuracy: 0.8398 - f1_score: 0.7836 - loss: 0.4958 - val_accuracy: 0.8563 - val_f1_score: 0.7767 - val_loss: 0.4424 - learning_rate: 1.0000e-05\n",
      "Epoch 86/100\n",
      "\u001b[1m174/174\u001b[0m \u001b[32m━━━━━━━━━━━━━━━━━━━━\u001b[0m\u001b[37m\u001b[0m \u001b[1m1s\u001b[0m 7ms/step - accuracy: 0.8459 - f1_score: 0.7863 - loss: 0.4963 - val_accuracy: 0.8585 - val_f1_score: 0.7801 - val_loss: 0.4407 - learning_rate: 1.0000e-05\n",
      "Epoch 87/100\n",
      "\u001b[1m174/174\u001b[0m \u001b[32m━━━━━━━━━━━━━━━━━━━━\u001b[0m\u001b[37m\u001b[0m \u001b[1m1s\u001b[0m 6ms/step - accuracy: 0.8336 - f1_score: 0.7776 - loss: 0.5008 - val_accuracy: 0.8570 - val_f1_score: 0.7806 - val_loss: 0.4403 - learning_rate: 1.0000e-05\n",
      "Epoch 88/100\n",
      "\u001b[1m174/174\u001b[0m \u001b[32m━━━━━━━━━━━━━━━━━━━━\u001b[0m\u001b[37m\u001b[0m \u001b[1m1s\u001b[0m 6ms/step - accuracy: 0.8450 - f1_score: 0.7861 - loss: 0.4959 - val_accuracy: 0.8585 - val_f1_score: 0.7834 - val_loss: 0.4383 - learning_rate: 1.0000e-05\n",
      "Epoch 89/100\n",
      "\u001b[1m174/174\u001b[0m \u001b[32m━━━━━━━━━━━━━━━━━━━━\u001b[0m\u001b[37m\u001b[0m \u001b[1m1s\u001b[0m 6ms/step - accuracy: 0.8353 - f1_score: 0.7852 - loss: 0.5156 - val_accuracy: 0.8585 - val_f1_score: 0.7812 - val_loss: 0.4417 - learning_rate: 1.0000e-05\n",
      "Epoch 90/100\n",
      "\u001b[1m174/174\u001b[0m \u001b[32m━━━━━━━━━━━━━━━━━━━━\u001b[0m\u001b[37m\u001b[0m \u001b[1m1s\u001b[0m 6ms/step - accuracy: 0.8380 - f1_score: 0.7817 - loss: 0.5011 - val_accuracy: 0.8599 - val_f1_score: 0.7838 - val_loss: 0.4380 - learning_rate: 1.0000e-05\n",
      "Epoch 91/100\n",
      "\u001b[1m174/174\u001b[0m \u001b[32m━━━━━━━━━━━━━━━━━━━━\u001b[0m\u001b[37m\u001b[0m \u001b[1m1s\u001b[0m 6ms/step - accuracy: 0.8477 - f1_score: 0.7805 - loss: 0.4877 - val_accuracy: 0.8592 - val_f1_score: 0.7818 - val_loss: 0.4360 - learning_rate: 1.0000e-05\n",
      "Epoch 92/100\n",
      "\u001b[1m174/174\u001b[0m \u001b[32m━━━━━━━━━━━━━━━━━━━━\u001b[0m\u001b[37m\u001b[0m \u001b[1m1s\u001b[0m 7ms/step - accuracy: 0.8324 - f1_score: 0.7751 - loss: 0.5192 - val_accuracy: 0.8606 - val_f1_score: 0.7859 - val_loss: 0.4375 - learning_rate: 1.0000e-05\n",
      "Epoch 93/100\n",
      "\u001b[1m174/174\u001b[0m \u001b[32m━━━━━━━━━━━━━━━━━━━━\u001b[0m\u001b[37m\u001b[0m \u001b[1m1s\u001b[0m 6ms/step - accuracy: 0.8332 - f1_score: 0.7668 - loss: 0.5091 - val_accuracy: 0.8599 - val_f1_score: 0.7808 - val_loss: 0.4357 - learning_rate: 1.0000e-05\n"
     ]
    }
   ],
   "source": [
    "# Train the model\n",
    "Train_model = model.fit(\n",
    "    X_train, Y_train,\n",
    "    validation_data=(X_test, Y_test),\n",
    "    epochs=100,\n",
    "    callbacks= callback_metric\n",
    ")"
   ]
  },
  {
   "cell_type": "code",
   "execution_count": 80,
   "metadata": {},
   "outputs": [
    {
     "name": "stdout",
     "output_type": "stream",
     "text": [
      "\u001b[1m44/44\u001b[0m \u001b[32m━━━━━━━━━━━━━━━━━━━━\u001b[0m\u001b[37m\u001b[0m \u001b[1m0s\u001b[0m 1ms/step\n"
     ]
    },
    {
     "data": {
      "application/vnd.plotly.v1+json": {
       "config": {
        "plotlyServerURL": "https://plot.ly"
       },
       "data": [
        {
         "colorscale": [
          [
           0,
           "#440154"
          ],
          [
           0.1111111111111111,
           "#482878"
          ],
          [
           0.2222222222222222,
           "#3e4989"
          ],
          [
           0.3333333333333333,
           "#31688e"
          ],
          [
           0.4444444444444444,
           "#26828e"
          ],
          [
           0.5555555555555556,
           "#1f9e89"
          ],
          [
           0.6666666666666666,
           "#35b779"
          ],
          [
           0.7777777777777778,
           "#6ece58"
          ],
          [
           0.8888888888888888,
           "#b5de2b"
          ],
          [
           1,
           "#fde725"
          ]
         ],
         "reversescale": false,
         "showscale": false,
         "type": "heatmap",
         "x": [
          "air_conditioner",
          "car_horn",
          "children_playing",
          "dog_bark",
          "drilling",
          "engine_idling",
          "gun_shot",
          "jackhammer",
          "siren",
          "street_music"
         ],
         "y": [
          "air_conditioner",
          "car_horn",
          "children_playing",
          "dog_bark",
          "drilling",
          "engine_idling",
          "gun_shot",
          "jackhammer",
          "siren",
          "street_music"
         ],
         "z": [
          [
           151,
           0,
           0,
           0,
           2,
           2,
           0,
           3,
           1,
           1
          ],
          [
           2,
           53,
           0,
           1,
           0,
           0,
           4,
           2,
           1,
           2
          ],
          [
           2,
           0,
           134,
           4,
           1,
           0,
           0,
           1,
           3,
           14
          ],
          [
           0,
           3,
           10,
           137,
           0,
           0,
           3,
           1,
           2,
           4
          ],
          [
           5,
           2,
           3,
           2,
           136,
           1,
           4,
           5,
           0,
           2
          ],
          [
           8,
           0,
           2,
           1,
           1,
           140,
           1,
           4,
           1,
           2
          ],
          [
           0,
           0,
           0,
           2,
           1,
           0,
           56,
           0,
           0,
           0
          ],
          [
           3,
           1,
           0,
           0,
           2,
           3,
           0,
           151,
           0,
           0
          ],
          [
           2,
           0,
           7,
           0,
           1,
           0,
           0,
           0,
           138,
           1
          ],
          [
           6,
           0,
           12,
           3,
           5,
           3,
           0,
           2,
           6,
           123
          ]
         ]
        }
       ],
       "layout": {
        "annotations": [
         {
          "font": {
           "color": "#000000"
          },
          "showarrow": false,
          "text": "151",
          "x": "air_conditioner",
          "xref": "x",
          "y": "air_conditioner",
          "yref": "y"
         },
         {
          "font": {
           "color": "#FFFFFF"
          },
          "showarrow": false,
          "text": "0",
          "x": "car_horn",
          "xref": "x",
          "y": "air_conditioner",
          "yref": "y"
         },
         {
          "font": {
           "color": "#FFFFFF"
          },
          "showarrow": false,
          "text": "0",
          "x": "children_playing",
          "xref": "x",
          "y": "air_conditioner",
          "yref": "y"
         },
         {
          "font": {
           "color": "#FFFFFF"
          },
          "showarrow": false,
          "text": "0",
          "x": "dog_bark",
          "xref": "x",
          "y": "air_conditioner",
          "yref": "y"
         },
         {
          "font": {
           "color": "#FFFFFF"
          },
          "showarrow": false,
          "text": "2",
          "x": "drilling",
          "xref": "x",
          "y": "air_conditioner",
          "yref": "y"
         },
         {
          "font": {
           "color": "#FFFFFF"
          },
          "showarrow": false,
          "text": "2",
          "x": "engine_idling",
          "xref": "x",
          "y": "air_conditioner",
          "yref": "y"
         },
         {
          "font": {
           "color": "#FFFFFF"
          },
          "showarrow": false,
          "text": "0",
          "x": "gun_shot",
          "xref": "x",
          "y": "air_conditioner",
          "yref": "y"
         },
         {
          "font": {
           "color": "#FFFFFF"
          },
          "showarrow": false,
          "text": "3",
          "x": "jackhammer",
          "xref": "x",
          "y": "air_conditioner",
          "yref": "y"
         },
         {
          "font": {
           "color": "#FFFFFF"
          },
          "showarrow": false,
          "text": "1",
          "x": "siren",
          "xref": "x",
          "y": "air_conditioner",
          "yref": "y"
         },
         {
          "font": {
           "color": "#FFFFFF"
          },
          "showarrow": false,
          "text": "1",
          "x": "street_music",
          "xref": "x",
          "y": "air_conditioner",
          "yref": "y"
         },
         {
          "font": {
           "color": "#FFFFFF"
          },
          "showarrow": false,
          "text": "2",
          "x": "air_conditioner",
          "xref": "x",
          "y": "car_horn",
          "yref": "y"
         },
         {
          "font": {
           "color": "#FFFFFF"
          },
          "showarrow": false,
          "text": "53",
          "x": "car_horn",
          "xref": "x",
          "y": "car_horn",
          "yref": "y"
         },
         {
          "font": {
           "color": "#FFFFFF"
          },
          "showarrow": false,
          "text": "0",
          "x": "children_playing",
          "xref": "x",
          "y": "car_horn",
          "yref": "y"
         },
         {
          "font": {
           "color": "#FFFFFF"
          },
          "showarrow": false,
          "text": "1",
          "x": "dog_bark",
          "xref": "x",
          "y": "car_horn",
          "yref": "y"
         },
         {
          "font": {
           "color": "#FFFFFF"
          },
          "showarrow": false,
          "text": "0",
          "x": "drilling",
          "xref": "x",
          "y": "car_horn",
          "yref": "y"
         },
         {
          "font": {
           "color": "#FFFFFF"
          },
          "showarrow": false,
          "text": "0",
          "x": "engine_idling",
          "xref": "x",
          "y": "car_horn",
          "yref": "y"
         },
         {
          "font": {
           "color": "#FFFFFF"
          },
          "showarrow": false,
          "text": "4",
          "x": "gun_shot",
          "xref": "x",
          "y": "car_horn",
          "yref": "y"
         },
         {
          "font": {
           "color": "#FFFFFF"
          },
          "showarrow": false,
          "text": "2",
          "x": "jackhammer",
          "xref": "x",
          "y": "car_horn",
          "yref": "y"
         },
         {
          "font": {
           "color": "#FFFFFF"
          },
          "showarrow": false,
          "text": "1",
          "x": "siren",
          "xref": "x",
          "y": "car_horn",
          "yref": "y"
         },
         {
          "font": {
           "color": "#FFFFFF"
          },
          "showarrow": false,
          "text": "2",
          "x": "street_music",
          "xref": "x",
          "y": "car_horn",
          "yref": "y"
         },
         {
          "font": {
           "color": "#FFFFFF"
          },
          "showarrow": false,
          "text": "2",
          "x": "air_conditioner",
          "xref": "x",
          "y": "children_playing",
          "yref": "y"
         },
         {
          "font": {
           "color": "#FFFFFF"
          },
          "showarrow": false,
          "text": "0",
          "x": "car_horn",
          "xref": "x",
          "y": "children_playing",
          "yref": "y"
         },
         {
          "font": {
           "color": "#000000"
          },
          "showarrow": false,
          "text": "134",
          "x": "children_playing",
          "xref": "x",
          "y": "children_playing",
          "yref": "y"
         },
         {
          "font": {
           "color": "#FFFFFF"
          },
          "showarrow": false,
          "text": "4",
          "x": "dog_bark",
          "xref": "x",
          "y": "children_playing",
          "yref": "y"
         },
         {
          "font": {
           "color": "#FFFFFF"
          },
          "showarrow": false,
          "text": "1",
          "x": "drilling",
          "xref": "x",
          "y": "children_playing",
          "yref": "y"
         },
         {
          "font": {
           "color": "#FFFFFF"
          },
          "showarrow": false,
          "text": "0",
          "x": "engine_idling",
          "xref": "x",
          "y": "children_playing",
          "yref": "y"
         },
         {
          "font": {
           "color": "#FFFFFF"
          },
          "showarrow": false,
          "text": "0",
          "x": "gun_shot",
          "xref": "x",
          "y": "children_playing",
          "yref": "y"
         },
         {
          "font": {
           "color": "#FFFFFF"
          },
          "showarrow": false,
          "text": "1",
          "x": "jackhammer",
          "xref": "x",
          "y": "children_playing",
          "yref": "y"
         },
         {
          "font": {
           "color": "#FFFFFF"
          },
          "showarrow": false,
          "text": "3",
          "x": "siren",
          "xref": "x",
          "y": "children_playing",
          "yref": "y"
         },
         {
          "font": {
           "color": "#FFFFFF"
          },
          "showarrow": false,
          "text": "14",
          "x": "street_music",
          "xref": "x",
          "y": "children_playing",
          "yref": "y"
         },
         {
          "font": {
           "color": "#FFFFFF"
          },
          "showarrow": false,
          "text": "0",
          "x": "air_conditioner",
          "xref": "x",
          "y": "dog_bark",
          "yref": "y"
         },
         {
          "font": {
           "color": "#FFFFFF"
          },
          "showarrow": false,
          "text": "3",
          "x": "car_horn",
          "xref": "x",
          "y": "dog_bark",
          "yref": "y"
         },
         {
          "font": {
           "color": "#FFFFFF"
          },
          "showarrow": false,
          "text": "10",
          "x": "children_playing",
          "xref": "x",
          "y": "dog_bark",
          "yref": "y"
         },
         {
          "font": {
           "color": "#000000"
          },
          "showarrow": false,
          "text": "137",
          "x": "dog_bark",
          "xref": "x",
          "y": "dog_bark",
          "yref": "y"
         },
         {
          "font": {
           "color": "#FFFFFF"
          },
          "showarrow": false,
          "text": "0",
          "x": "drilling",
          "xref": "x",
          "y": "dog_bark",
          "yref": "y"
         },
         {
          "font": {
           "color": "#FFFFFF"
          },
          "showarrow": false,
          "text": "0",
          "x": "engine_idling",
          "xref": "x",
          "y": "dog_bark",
          "yref": "y"
         },
         {
          "font": {
           "color": "#FFFFFF"
          },
          "showarrow": false,
          "text": "3",
          "x": "gun_shot",
          "xref": "x",
          "y": "dog_bark",
          "yref": "y"
         },
         {
          "font": {
           "color": "#FFFFFF"
          },
          "showarrow": false,
          "text": "1",
          "x": "jackhammer",
          "xref": "x",
          "y": "dog_bark",
          "yref": "y"
         },
         {
          "font": {
           "color": "#FFFFFF"
          },
          "showarrow": false,
          "text": "2",
          "x": "siren",
          "xref": "x",
          "y": "dog_bark",
          "yref": "y"
         },
         {
          "font": {
           "color": "#FFFFFF"
          },
          "showarrow": false,
          "text": "4",
          "x": "street_music",
          "xref": "x",
          "y": "dog_bark",
          "yref": "y"
         },
         {
          "font": {
           "color": "#FFFFFF"
          },
          "showarrow": false,
          "text": "5",
          "x": "air_conditioner",
          "xref": "x",
          "y": "drilling",
          "yref": "y"
         },
         {
          "font": {
           "color": "#FFFFFF"
          },
          "showarrow": false,
          "text": "2",
          "x": "car_horn",
          "xref": "x",
          "y": "drilling",
          "yref": "y"
         },
         {
          "font": {
           "color": "#FFFFFF"
          },
          "showarrow": false,
          "text": "3",
          "x": "children_playing",
          "xref": "x",
          "y": "drilling",
          "yref": "y"
         },
         {
          "font": {
           "color": "#FFFFFF"
          },
          "showarrow": false,
          "text": "2",
          "x": "dog_bark",
          "xref": "x",
          "y": "drilling",
          "yref": "y"
         },
         {
          "font": {
           "color": "#000000"
          },
          "showarrow": false,
          "text": "136",
          "x": "drilling",
          "xref": "x",
          "y": "drilling",
          "yref": "y"
         },
         {
          "font": {
           "color": "#FFFFFF"
          },
          "showarrow": false,
          "text": "1",
          "x": "engine_idling",
          "xref": "x",
          "y": "drilling",
          "yref": "y"
         },
         {
          "font": {
           "color": "#FFFFFF"
          },
          "showarrow": false,
          "text": "4",
          "x": "gun_shot",
          "xref": "x",
          "y": "drilling",
          "yref": "y"
         },
         {
          "font": {
           "color": "#FFFFFF"
          },
          "showarrow": false,
          "text": "5",
          "x": "jackhammer",
          "xref": "x",
          "y": "drilling",
          "yref": "y"
         },
         {
          "font": {
           "color": "#FFFFFF"
          },
          "showarrow": false,
          "text": "0",
          "x": "siren",
          "xref": "x",
          "y": "drilling",
          "yref": "y"
         },
         {
          "font": {
           "color": "#FFFFFF"
          },
          "showarrow": false,
          "text": "2",
          "x": "street_music",
          "xref": "x",
          "y": "drilling",
          "yref": "y"
         },
         {
          "font": {
           "color": "#FFFFFF"
          },
          "showarrow": false,
          "text": "8",
          "x": "air_conditioner",
          "xref": "x",
          "y": "engine_idling",
          "yref": "y"
         },
         {
          "font": {
           "color": "#FFFFFF"
          },
          "showarrow": false,
          "text": "0",
          "x": "car_horn",
          "xref": "x",
          "y": "engine_idling",
          "yref": "y"
         },
         {
          "font": {
           "color": "#FFFFFF"
          },
          "showarrow": false,
          "text": "2",
          "x": "children_playing",
          "xref": "x",
          "y": "engine_idling",
          "yref": "y"
         },
         {
          "font": {
           "color": "#FFFFFF"
          },
          "showarrow": false,
          "text": "1",
          "x": "dog_bark",
          "xref": "x",
          "y": "engine_idling",
          "yref": "y"
         },
         {
          "font": {
           "color": "#FFFFFF"
          },
          "showarrow": false,
          "text": "1",
          "x": "drilling",
          "xref": "x",
          "y": "engine_idling",
          "yref": "y"
         },
         {
          "font": {
           "color": "#000000"
          },
          "showarrow": false,
          "text": "140",
          "x": "engine_idling",
          "xref": "x",
          "y": "engine_idling",
          "yref": "y"
         },
         {
          "font": {
           "color": "#FFFFFF"
          },
          "showarrow": false,
          "text": "1",
          "x": "gun_shot",
          "xref": "x",
          "y": "engine_idling",
          "yref": "y"
         },
         {
          "font": {
           "color": "#FFFFFF"
          },
          "showarrow": false,
          "text": "4",
          "x": "jackhammer",
          "xref": "x",
          "y": "engine_idling",
          "yref": "y"
         },
         {
          "font": {
           "color": "#FFFFFF"
          },
          "showarrow": false,
          "text": "1",
          "x": "siren",
          "xref": "x",
          "y": "engine_idling",
          "yref": "y"
         },
         {
          "font": {
           "color": "#FFFFFF"
          },
          "showarrow": false,
          "text": "2",
          "x": "street_music",
          "xref": "x",
          "y": "engine_idling",
          "yref": "y"
         },
         {
          "font": {
           "color": "#FFFFFF"
          },
          "showarrow": false,
          "text": "0",
          "x": "air_conditioner",
          "xref": "x",
          "y": "gun_shot",
          "yref": "y"
         },
         {
          "font": {
           "color": "#FFFFFF"
          },
          "showarrow": false,
          "text": "0",
          "x": "car_horn",
          "xref": "x",
          "y": "gun_shot",
          "yref": "y"
         },
         {
          "font": {
           "color": "#FFFFFF"
          },
          "showarrow": false,
          "text": "0",
          "x": "children_playing",
          "xref": "x",
          "y": "gun_shot",
          "yref": "y"
         },
         {
          "font": {
           "color": "#FFFFFF"
          },
          "showarrow": false,
          "text": "2",
          "x": "dog_bark",
          "xref": "x",
          "y": "gun_shot",
          "yref": "y"
         },
         {
          "font": {
           "color": "#FFFFFF"
          },
          "showarrow": false,
          "text": "1",
          "x": "drilling",
          "xref": "x",
          "y": "gun_shot",
          "yref": "y"
         },
         {
          "font": {
           "color": "#FFFFFF"
          },
          "showarrow": false,
          "text": "0",
          "x": "engine_idling",
          "xref": "x",
          "y": "gun_shot",
          "yref": "y"
         },
         {
          "font": {
           "color": "#FFFFFF"
          },
          "showarrow": false,
          "text": "56",
          "x": "gun_shot",
          "xref": "x",
          "y": "gun_shot",
          "yref": "y"
         },
         {
          "font": {
           "color": "#FFFFFF"
          },
          "showarrow": false,
          "text": "0",
          "x": "jackhammer",
          "xref": "x",
          "y": "gun_shot",
          "yref": "y"
         },
         {
          "font": {
           "color": "#FFFFFF"
          },
          "showarrow": false,
          "text": "0",
          "x": "siren",
          "xref": "x",
          "y": "gun_shot",
          "yref": "y"
         },
         {
          "font": {
           "color": "#FFFFFF"
          },
          "showarrow": false,
          "text": "0",
          "x": "street_music",
          "xref": "x",
          "y": "gun_shot",
          "yref": "y"
         },
         {
          "font": {
           "color": "#FFFFFF"
          },
          "showarrow": false,
          "text": "3",
          "x": "air_conditioner",
          "xref": "x",
          "y": "jackhammer",
          "yref": "y"
         },
         {
          "font": {
           "color": "#FFFFFF"
          },
          "showarrow": false,
          "text": "1",
          "x": "car_horn",
          "xref": "x",
          "y": "jackhammer",
          "yref": "y"
         },
         {
          "font": {
           "color": "#FFFFFF"
          },
          "showarrow": false,
          "text": "0",
          "x": "children_playing",
          "xref": "x",
          "y": "jackhammer",
          "yref": "y"
         },
         {
          "font": {
           "color": "#FFFFFF"
          },
          "showarrow": false,
          "text": "0",
          "x": "dog_bark",
          "xref": "x",
          "y": "jackhammer",
          "yref": "y"
         },
         {
          "font": {
           "color": "#FFFFFF"
          },
          "showarrow": false,
          "text": "2",
          "x": "drilling",
          "xref": "x",
          "y": "jackhammer",
          "yref": "y"
         },
         {
          "font": {
           "color": "#FFFFFF"
          },
          "showarrow": false,
          "text": "3",
          "x": "engine_idling",
          "xref": "x",
          "y": "jackhammer",
          "yref": "y"
         },
         {
          "font": {
           "color": "#FFFFFF"
          },
          "showarrow": false,
          "text": "0",
          "x": "gun_shot",
          "xref": "x",
          "y": "jackhammer",
          "yref": "y"
         },
         {
          "font": {
           "color": "#000000"
          },
          "showarrow": false,
          "text": "151",
          "x": "jackhammer",
          "xref": "x",
          "y": "jackhammer",
          "yref": "y"
         },
         {
          "font": {
           "color": "#FFFFFF"
          },
          "showarrow": false,
          "text": "0",
          "x": "siren",
          "xref": "x",
          "y": "jackhammer",
          "yref": "y"
         },
         {
          "font": {
           "color": "#FFFFFF"
          },
          "showarrow": false,
          "text": "0",
          "x": "street_music",
          "xref": "x",
          "y": "jackhammer",
          "yref": "y"
         },
         {
          "font": {
           "color": "#FFFFFF"
          },
          "showarrow": false,
          "text": "2",
          "x": "air_conditioner",
          "xref": "x",
          "y": "siren",
          "yref": "y"
         },
         {
          "font": {
           "color": "#FFFFFF"
          },
          "showarrow": false,
          "text": "0",
          "x": "car_horn",
          "xref": "x",
          "y": "siren",
          "yref": "y"
         },
         {
          "font": {
           "color": "#FFFFFF"
          },
          "showarrow": false,
          "text": "7",
          "x": "children_playing",
          "xref": "x",
          "y": "siren",
          "yref": "y"
         },
         {
          "font": {
           "color": "#FFFFFF"
          },
          "showarrow": false,
          "text": "0",
          "x": "dog_bark",
          "xref": "x",
          "y": "siren",
          "yref": "y"
         },
         {
          "font": {
           "color": "#FFFFFF"
          },
          "showarrow": false,
          "text": "1",
          "x": "drilling",
          "xref": "x",
          "y": "siren",
          "yref": "y"
         },
         {
          "font": {
           "color": "#FFFFFF"
          },
          "showarrow": false,
          "text": "0",
          "x": "engine_idling",
          "xref": "x",
          "y": "siren",
          "yref": "y"
         },
         {
          "font": {
           "color": "#FFFFFF"
          },
          "showarrow": false,
          "text": "0",
          "x": "gun_shot",
          "xref": "x",
          "y": "siren",
          "yref": "y"
         },
         {
          "font": {
           "color": "#FFFFFF"
          },
          "showarrow": false,
          "text": "0",
          "x": "jackhammer",
          "xref": "x",
          "y": "siren",
          "yref": "y"
         },
         {
          "font": {
           "color": "#000000"
          },
          "showarrow": false,
          "text": "138",
          "x": "siren",
          "xref": "x",
          "y": "siren",
          "yref": "y"
         },
         {
          "font": {
           "color": "#FFFFFF"
          },
          "showarrow": false,
          "text": "1",
          "x": "street_music",
          "xref": "x",
          "y": "siren",
          "yref": "y"
         },
         {
          "font": {
           "color": "#FFFFFF"
          },
          "showarrow": false,
          "text": "6",
          "x": "air_conditioner",
          "xref": "x",
          "y": "street_music",
          "yref": "y"
         },
         {
          "font": {
           "color": "#FFFFFF"
          },
          "showarrow": false,
          "text": "0",
          "x": "car_horn",
          "xref": "x",
          "y": "street_music",
          "yref": "y"
         },
         {
          "font": {
           "color": "#FFFFFF"
          },
          "showarrow": false,
          "text": "12",
          "x": "children_playing",
          "xref": "x",
          "y": "street_music",
          "yref": "y"
         },
         {
          "font": {
           "color": "#FFFFFF"
          },
          "showarrow": false,
          "text": "3",
          "x": "dog_bark",
          "xref": "x",
          "y": "street_music",
          "yref": "y"
         },
         {
          "font": {
           "color": "#FFFFFF"
          },
          "showarrow": false,
          "text": "5",
          "x": "drilling",
          "xref": "x",
          "y": "street_music",
          "yref": "y"
         },
         {
          "font": {
           "color": "#FFFFFF"
          },
          "showarrow": false,
          "text": "3",
          "x": "engine_idling",
          "xref": "x",
          "y": "street_music",
          "yref": "y"
         },
         {
          "font": {
           "color": "#FFFFFF"
          },
          "showarrow": false,
          "text": "0",
          "x": "gun_shot",
          "xref": "x",
          "y": "street_music",
          "yref": "y"
         },
         {
          "font": {
           "color": "#FFFFFF"
          },
          "showarrow": false,
          "text": "2",
          "x": "jackhammer",
          "xref": "x",
          "y": "street_music",
          "yref": "y"
         },
         {
          "font": {
           "color": "#FFFFFF"
          },
          "showarrow": false,
          "text": "6",
          "x": "siren",
          "xref": "x",
          "y": "street_music",
          "yref": "y"
         },
         {
          "font": {
           "color": "#000000"
          },
          "showarrow": false,
          "text": "123",
          "x": "street_music",
          "xref": "x",
          "y": "street_music",
          "yref": "y"
         }
        ],
        "font": {
         "size": 12
        },
        "height": 500,
        "template": {
         "data": {
          "bar": [
           {
            "error_x": {
             "color": "#2a3f5f"
            },
            "error_y": {
             "color": "#2a3f5f"
            },
            "marker": {
             "line": {
              "color": "#E5ECF6",
              "width": 0.5
             },
             "pattern": {
              "fillmode": "overlay",
              "size": 10,
              "solidity": 0.2
             }
            },
            "type": "bar"
           }
          ],
          "barpolar": [
           {
            "marker": {
             "line": {
              "color": "#E5ECF6",
              "width": 0.5
             },
             "pattern": {
              "fillmode": "overlay",
              "size": 10,
              "solidity": 0.2
             }
            },
            "type": "barpolar"
           }
          ],
          "carpet": [
           {
            "aaxis": {
             "endlinecolor": "#2a3f5f",
             "gridcolor": "white",
             "linecolor": "white",
             "minorgridcolor": "white",
             "startlinecolor": "#2a3f5f"
            },
            "baxis": {
             "endlinecolor": "#2a3f5f",
             "gridcolor": "white",
             "linecolor": "white",
             "minorgridcolor": "white",
             "startlinecolor": "#2a3f5f"
            },
            "type": "carpet"
           }
          ],
          "choropleth": [
           {
            "colorbar": {
             "outlinewidth": 0,
             "ticks": ""
            },
            "type": "choropleth"
           }
          ],
          "contour": [
           {
            "colorbar": {
             "outlinewidth": 0,
             "ticks": ""
            },
            "colorscale": [
             [
              0,
              "#0d0887"
             ],
             [
              0.1111111111111111,
              "#46039f"
             ],
             [
              0.2222222222222222,
              "#7201a8"
             ],
             [
              0.3333333333333333,
              "#9c179e"
             ],
             [
              0.4444444444444444,
              "#bd3786"
             ],
             [
              0.5555555555555556,
              "#d8576b"
             ],
             [
              0.6666666666666666,
              "#ed7953"
             ],
             [
              0.7777777777777778,
              "#fb9f3a"
             ],
             [
              0.8888888888888888,
              "#fdca26"
             ],
             [
              1,
              "#f0f921"
             ]
            ],
            "type": "contour"
           }
          ],
          "contourcarpet": [
           {
            "colorbar": {
             "outlinewidth": 0,
             "ticks": ""
            },
            "type": "contourcarpet"
           }
          ],
          "heatmap": [
           {
            "colorbar": {
             "outlinewidth": 0,
             "ticks": ""
            },
            "colorscale": [
             [
              0,
              "#0d0887"
             ],
             [
              0.1111111111111111,
              "#46039f"
             ],
             [
              0.2222222222222222,
              "#7201a8"
             ],
             [
              0.3333333333333333,
              "#9c179e"
             ],
             [
              0.4444444444444444,
              "#bd3786"
             ],
             [
              0.5555555555555556,
              "#d8576b"
             ],
             [
              0.6666666666666666,
              "#ed7953"
             ],
             [
              0.7777777777777778,
              "#fb9f3a"
             ],
             [
              0.8888888888888888,
              "#fdca26"
             ],
             [
              1,
              "#f0f921"
             ]
            ],
            "type": "heatmap"
           }
          ],
          "heatmapgl": [
           {
            "colorbar": {
             "outlinewidth": 0,
             "ticks": ""
            },
            "colorscale": [
             [
              0,
              "#0d0887"
             ],
             [
              0.1111111111111111,
              "#46039f"
             ],
             [
              0.2222222222222222,
              "#7201a8"
             ],
             [
              0.3333333333333333,
              "#9c179e"
             ],
             [
              0.4444444444444444,
              "#bd3786"
             ],
             [
              0.5555555555555556,
              "#d8576b"
             ],
             [
              0.6666666666666666,
              "#ed7953"
             ],
             [
              0.7777777777777778,
              "#fb9f3a"
             ],
             [
              0.8888888888888888,
              "#fdca26"
             ],
             [
              1,
              "#f0f921"
             ]
            ],
            "type": "heatmapgl"
           }
          ],
          "histogram": [
           {
            "marker": {
             "pattern": {
              "fillmode": "overlay",
              "size": 10,
              "solidity": 0.2
             }
            },
            "type": "histogram"
           }
          ],
          "histogram2d": [
           {
            "colorbar": {
             "outlinewidth": 0,
             "ticks": ""
            },
            "colorscale": [
             [
              0,
              "#0d0887"
             ],
             [
              0.1111111111111111,
              "#46039f"
             ],
             [
              0.2222222222222222,
              "#7201a8"
             ],
             [
              0.3333333333333333,
              "#9c179e"
             ],
             [
              0.4444444444444444,
              "#bd3786"
             ],
             [
              0.5555555555555556,
              "#d8576b"
             ],
             [
              0.6666666666666666,
              "#ed7953"
             ],
             [
              0.7777777777777778,
              "#fb9f3a"
             ],
             [
              0.8888888888888888,
              "#fdca26"
             ],
             [
              1,
              "#f0f921"
             ]
            ],
            "type": "histogram2d"
           }
          ],
          "histogram2dcontour": [
           {
            "colorbar": {
             "outlinewidth": 0,
             "ticks": ""
            },
            "colorscale": [
             [
              0,
              "#0d0887"
             ],
             [
              0.1111111111111111,
              "#46039f"
             ],
             [
              0.2222222222222222,
              "#7201a8"
             ],
             [
              0.3333333333333333,
              "#9c179e"
             ],
             [
              0.4444444444444444,
              "#bd3786"
             ],
             [
              0.5555555555555556,
              "#d8576b"
             ],
             [
              0.6666666666666666,
              "#ed7953"
             ],
             [
              0.7777777777777778,
              "#fb9f3a"
             ],
             [
              0.8888888888888888,
              "#fdca26"
             ],
             [
              1,
              "#f0f921"
             ]
            ],
            "type": "histogram2dcontour"
           }
          ],
          "mesh3d": [
           {
            "colorbar": {
             "outlinewidth": 0,
             "ticks": ""
            },
            "type": "mesh3d"
           }
          ],
          "parcoords": [
           {
            "line": {
             "colorbar": {
              "outlinewidth": 0,
              "ticks": ""
             }
            },
            "type": "parcoords"
           }
          ],
          "pie": [
           {
            "automargin": true,
            "type": "pie"
           }
          ],
          "scatter": [
           {
            "fillpattern": {
             "fillmode": "overlay",
             "size": 10,
             "solidity": 0.2
            },
            "type": "scatter"
           }
          ],
          "scatter3d": [
           {
            "line": {
             "colorbar": {
              "outlinewidth": 0,
              "ticks": ""
             }
            },
            "marker": {
             "colorbar": {
              "outlinewidth": 0,
              "ticks": ""
             }
            },
            "type": "scatter3d"
           }
          ],
          "scattercarpet": [
           {
            "marker": {
             "colorbar": {
              "outlinewidth": 0,
              "ticks": ""
             }
            },
            "type": "scattercarpet"
           }
          ],
          "scattergeo": [
           {
            "marker": {
             "colorbar": {
              "outlinewidth": 0,
              "ticks": ""
             }
            },
            "type": "scattergeo"
           }
          ],
          "scattergl": [
           {
            "marker": {
             "colorbar": {
              "outlinewidth": 0,
              "ticks": ""
             }
            },
            "type": "scattergl"
           }
          ],
          "scattermapbox": [
           {
            "marker": {
             "colorbar": {
              "outlinewidth": 0,
              "ticks": ""
             }
            },
            "type": "scattermapbox"
           }
          ],
          "scatterpolar": [
           {
            "marker": {
             "colorbar": {
              "outlinewidth": 0,
              "ticks": ""
             }
            },
            "type": "scatterpolar"
           }
          ],
          "scatterpolargl": [
           {
            "marker": {
             "colorbar": {
              "outlinewidth": 0,
              "ticks": ""
             }
            },
            "type": "scatterpolargl"
           }
          ],
          "scatterternary": [
           {
            "marker": {
             "colorbar": {
              "outlinewidth": 0,
              "ticks": ""
             }
            },
            "type": "scatterternary"
           }
          ],
          "surface": [
           {
            "colorbar": {
             "outlinewidth": 0,
             "ticks": ""
            },
            "colorscale": [
             [
              0,
              "#0d0887"
             ],
             [
              0.1111111111111111,
              "#46039f"
             ],
             [
              0.2222222222222222,
              "#7201a8"
             ],
             [
              0.3333333333333333,
              "#9c179e"
             ],
             [
              0.4444444444444444,
              "#bd3786"
             ],
             [
              0.5555555555555556,
              "#d8576b"
             ],
             [
              0.6666666666666666,
              "#ed7953"
             ],
             [
              0.7777777777777778,
              "#fb9f3a"
             ],
             [
              0.8888888888888888,
              "#fdca26"
             ],
             [
              1,
              "#f0f921"
             ]
            ],
            "type": "surface"
           }
          ],
          "table": [
           {
            "cells": {
             "fill": {
              "color": "#EBF0F8"
             },
             "line": {
              "color": "white"
             }
            },
            "header": {
             "fill": {
              "color": "#C8D4E3"
             },
             "line": {
              "color": "white"
             }
            },
            "type": "table"
           }
          ]
         },
         "layout": {
          "annotationdefaults": {
           "arrowcolor": "#2a3f5f",
           "arrowhead": 0,
           "arrowwidth": 1
          },
          "autotypenumbers": "strict",
          "coloraxis": {
           "colorbar": {
            "outlinewidth": 0,
            "ticks": ""
           }
          },
          "colorscale": {
           "diverging": [
            [
             0,
             "#8e0152"
            ],
            [
             0.1,
             "#c51b7d"
            ],
            [
             0.2,
             "#de77ae"
            ],
            [
             0.3,
             "#f1b6da"
            ],
            [
             0.4,
             "#fde0ef"
            ],
            [
             0.5,
             "#f7f7f7"
            ],
            [
             0.6,
             "#e6f5d0"
            ],
            [
             0.7,
             "#b8e186"
            ],
            [
             0.8,
             "#7fbc41"
            ],
            [
             0.9,
             "#4d9221"
            ],
            [
             1,
             "#276419"
            ]
           ],
           "sequential": [
            [
             0,
             "#0d0887"
            ],
            [
             0.1111111111111111,
             "#46039f"
            ],
            [
             0.2222222222222222,
             "#7201a8"
            ],
            [
             0.3333333333333333,
             "#9c179e"
            ],
            [
             0.4444444444444444,
             "#bd3786"
            ],
            [
             0.5555555555555556,
             "#d8576b"
            ],
            [
             0.6666666666666666,
             "#ed7953"
            ],
            [
             0.7777777777777778,
             "#fb9f3a"
            ],
            [
             0.8888888888888888,
             "#fdca26"
            ],
            [
             1,
             "#f0f921"
            ]
           ],
           "sequentialminus": [
            [
             0,
             "#0d0887"
            ],
            [
             0.1111111111111111,
             "#46039f"
            ],
            [
             0.2222222222222222,
             "#7201a8"
            ],
            [
             0.3333333333333333,
             "#9c179e"
            ],
            [
             0.4444444444444444,
             "#bd3786"
            ],
            [
             0.5555555555555556,
             "#d8576b"
            ],
            [
             0.6666666666666666,
             "#ed7953"
            ],
            [
             0.7777777777777778,
             "#fb9f3a"
            ],
            [
             0.8888888888888888,
             "#fdca26"
            ],
            [
             1,
             "#f0f921"
            ]
           ]
          },
          "colorway": [
           "#636efa",
           "#EF553B",
           "#00cc96",
           "#ab63fa",
           "#FFA15A",
           "#19d3f3",
           "#FF6692",
           "#B6E880",
           "#FF97FF",
           "#FECB52"
          ],
          "font": {
           "color": "#2a3f5f"
          },
          "geo": {
           "bgcolor": "white",
           "lakecolor": "white",
           "landcolor": "#E5ECF6",
           "showlakes": true,
           "showland": true,
           "subunitcolor": "white"
          },
          "hoverlabel": {
           "align": "left"
          },
          "hovermode": "closest",
          "mapbox": {
           "style": "light"
          },
          "paper_bgcolor": "white",
          "plot_bgcolor": "#E5ECF6",
          "polar": {
           "angularaxis": {
            "gridcolor": "white",
            "linecolor": "white",
            "ticks": ""
           },
           "bgcolor": "#E5ECF6",
           "radialaxis": {
            "gridcolor": "white",
            "linecolor": "white",
            "ticks": ""
           }
          },
          "scene": {
           "xaxis": {
            "backgroundcolor": "#E5ECF6",
            "gridcolor": "white",
            "gridwidth": 2,
            "linecolor": "white",
            "showbackground": true,
            "ticks": "",
            "zerolinecolor": "white"
           },
           "yaxis": {
            "backgroundcolor": "#E5ECF6",
            "gridcolor": "white",
            "gridwidth": 2,
            "linecolor": "white",
            "showbackground": true,
            "ticks": "",
            "zerolinecolor": "white"
           },
           "zaxis": {
            "backgroundcolor": "#E5ECF6",
            "gridcolor": "white",
            "gridwidth": 2,
            "linecolor": "white",
            "showbackground": true,
            "ticks": "",
            "zerolinecolor": "white"
           }
          },
          "shapedefaults": {
           "line": {
            "color": "#2a3f5f"
           }
          },
          "ternary": {
           "aaxis": {
            "gridcolor": "white",
            "linecolor": "white",
            "ticks": ""
           },
           "baxis": {
            "gridcolor": "white",
            "linecolor": "white",
            "ticks": ""
           },
           "bgcolor": "#E5ECF6",
           "caxis": {
            "gridcolor": "white",
            "linecolor": "white",
            "ticks": ""
           }
          },
          "title": {
           "x": 0.05
          },
          "xaxis": {
           "automargin": true,
           "gridcolor": "white",
           "linecolor": "white",
           "ticks": "",
           "title": {
            "standoff": 15
           },
           "zerolinecolor": "white",
           "zerolinewidth": 2
          },
          "yaxis": {
           "automargin": true,
           "gridcolor": "white",
           "linecolor": "white",
           "ticks": "",
           "title": {
            "standoff": 15
           },
           "zerolinecolor": "white",
           "zerolinewidth": 2
          }
         }
        },
        "width": 1000,
        "xaxis": {
         "dtick": 1,
         "gridcolor": "rgb(0, 0, 0)",
         "side": "top",
         "ticks": "",
         "title": {
          "text": "Predicted Class"
         }
        },
        "yaxis": {
         "dtick": 1,
         "ticks": "",
         "ticksuffix": "  ",
         "title": {
          "text": "True Class"
         }
        }
       }
      }
     },
     "metadata": {},
     "output_type": "display_data"
    }
   ],
   "source": [
    "# Compute confusion matrix\n",
    "predicted = np.argmax(model.predict(X_test), axis=1)\n",
    "true = np.argmax(Y_test, axis=1)\n",
    "matrix = confusion_matrix(true, predicted)\n",
    "\n",
    "# Plot confusion matrix\n",
    "labels = list(encoder.classes_)\n",
    "\n",
    "fig = ff.create_annotated_heatmap(z=matrix, x=labels, y=labels, colorscale='Viridis')\n",
    "fig.update_layout(\n",
    "                  xaxis=dict(title='Predicted Class'),\n",
    "                  yaxis=dict(title='True Class'),\n",
    "                  font=dict(size=12),\n",
    "                  width=1000,\n",
    "                  height=500)"
   ]
  },
  {
   "cell_type": "code",
   "execution_count": 18,
   "metadata": {},
   "outputs": [],
   "source": [
    "def build_model(hp):\n",
    "    model = Sequential()\n",
    "    model.add(layers.InputLayer(shape=(138,)))\n",
    "\n",
    "    hp_activation = hp.Choice('activation', values=['relu', 'tanh'])\n",
    "    hp_layer_1 = hp.Int('units_1', min_value=10, max_value=1024, step=100)\n",
    "    hp_layer_2 = hp.Int('units_2', min_value=10, max_value=1024, step=100)\n",
    "    hp_layer_3 = hp.Int('units_3', min_value=10, max_value=1024, step=100)\n",
    "    hp_layer_4 = hp.Int('units_4', min_value=10, max_value=1024, step=100)\n",
    "    hp_layer_5 = hp.Int('units_5', min_value=10, max_value=1024, step=100)\n",
    "    hp_learning_rate = hp.Choice('learning_rate', values=[1e-2, 1e-3, 1e-4])\n",
    "\n",
    "\n",
    "    model.add(layers.Dense(units=hp_layer_1, activation=hp_activation))\n",
    "    model.add(Dropout(0.2))\n",
    "    model.add(layers.Dense(units=hp_layer_2, activation=hp_activation))\n",
    "    model.add(Dropout(0.2))\n",
    "    model.add(layers.Dense(units=hp_layer_3, activation=hp_activation))\n",
    "    model.add(Dropout(0.2))\n",
    "    model.add(layers.Dense(units=hp_layer_4, activation=hp_activation))\n",
    "    model.add(Dropout(0.2))\n",
    "    model.add(layers.Dense(units=hp_layer_5, activation=hp_activation))\n",
    "    model.add(Dropout(0.2))\n",
    "    model.add(layers.Dense(10, activation='softmax'))\n",
    "\n",
    "    model.compile(optimizer=tf.keras.optimizers.Adam(learning_rate=hp_learning_rate), loss='categorical_crossentropy', metrics= [\"accuracy\"])\n",
    "    return model\n"
   ]
  },
  {
   "cell_type": "code",
   "execution_count": 19,
   "metadata": {},
   "outputs": [
    {
     "name": "stdout",
     "output_type": "stream",
     "text": [
      "Reloading Tuner from C:\\Users\\giorg\\Downloads\\dl_tuning\\tuner0.json\n"
     ]
    }
   ],
   "source": [
    "tuner = kt.Hyperband(build_model,\n",
    "                     objective=kt.Objective(\"val_accuracy\", direction=\"max\"),\n",
    "                     max_epochs=100,\n",
    "                     factor=3,\n",
    "                     directory= \"C:\\\\Users\\\\giorg\\\\Downloads\",\n",
    "                     project_name='dl_tuning')"
   ]
  },
  {
   "cell_type": "code",
   "execution_count": 20,
   "metadata": {},
   "outputs": [
    {
     "name": "stdout",
     "output_type": "stream",
     "text": [
      "Trial 254 Complete [00h 01m 53s]\n",
      "val_accuracy: 0.8132184147834778\n",
      "\n",
      "Best val_accuracy So Far: 0.8879310488700867\n",
      "Total elapsed time: 14h 37m 33s\n"
     ]
    }
   ],
   "source": [
    "tuner.search(X_train, Y_train, validation_data=(X_test, Y_test), callbacks=callback_metric)"
   ]
  },
  {
   "cell_type": "code",
   "execution_count": 23,
   "metadata": {},
   "outputs": [
    {
     "name": "stdout",
     "output_type": "stream",
     "text": [
      "Epoch 1/100\n",
      "\u001b[1m174/174\u001b[0m \u001b[32m━━━━━━━━━━━━━━━━━━━━\u001b[0m\u001b[37m\u001b[0m \u001b[1m2s\u001b[0m 4ms/step - accuracy: 0.2259 - loss: 2.2108 - val_accuracy: 0.4260 - val_loss: 1.6135 - learning_rate: 0.0010\n",
      "Epoch 2/100\n",
      "\u001b[1m174/174\u001b[0m \u001b[32m━━━━━━━━━━━━━━━━━━━━\u001b[0m\u001b[37m\u001b[0m \u001b[1m1s\u001b[0m 3ms/step - accuracy: 0.4136 - loss: 1.5499 - val_accuracy: 0.4368 - val_loss: 1.4339 - learning_rate: 0.0010\n",
      "Epoch 3/100\n",
      "\u001b[1m174/174\u001b[0m \u001b[32m━━━━━━━━━━━━━━━━━━━━\u001b[0m\u001b[37m\u001b[0m \u001b[1m1s\u001b[0m 3ms/step - accuracy: 0.4837 - loss: 1.4334 - val_accuracy: 0.5280 - val_loss: 1.3040 - learning_rate: 0.0010\n",
      "Epoch 4/100\n",
      "\u001b[1m174/174\u001b[0m \u001b[32m━━━━━━━━━━━━━━━━━━━━\u001b[0m\u001b[37m\u001b[0m \u001b[1m1s\u001b[0m 3ms/step - accuracy: 0.5167 - loss: 1.3088 - val_accuracy: 0.5187 - val_loss: 1.3067 - learning_rate: 0.0010\n",
      "Epoch 5/100\n",
      "\u001b[1m174/174\u001b[0m \u001b[32m━━━━━━━━━━━━━━━━━━━━\u001b[0m\u001b[37m\u001b[0m \u001b[1m1s\u001b[0m 3ms/step - accuracy: 0.5245 - loss: 1.3124 - val_accuracy: 0.5690 - val_loss: 1.2062 - learning_rate: 0.0010\n",
      "Epoch 6/100\n",
      "\u001b[1m174/174\u001b[0m \u001b[32m━━━━━━━━━━━━━━━━━━━━\u001b[0m\u001b[37m\u001b[0m \u001b[1m1s\u001b[0m 3ms/step - accuracy: 0.5748 - loss: 1.1739 - val_accuracy: 0.6279 - val_loss: 1.0946 - learning_rate: 0.0010\n",
      "Epoch 7/100\n",
      "\u001b[1m174/174\u001b[0m \u001b[32m━━━━━━━━━━━━━━━━━━━━\u001b[0m\u001b[37m\u001b[0m \u001b[1m1s\u001b[0m 3ms/step - accuracy: 0.6033 - loss: 1.1080 - val_accuracy: 0.5474 - val_loss: 1.3352 - learning_rate: 0.0010\n",
      "Epoch 8/100\n",
      "\u001b[1m174/174\u001b[0m \u001b[32m━━━━━━━━━━━━━━━━━━━━\u001b[0m\u001b[37m\u001b[0m \u001b[1m1s\u001b[0m 3ms/step - accuracy: 0.6098 - loss: 1.1306 - val_accuracy: 0.5661 - val_loss: 1.1943 - learning_rate: 0.0010\n",
      "Epoch 9/100\n",
      "\u001b[1m174/174\u001b[0m \u001b[32m━━━━━━━━━━━━━━━━━━━━\u001b[0m\u001b[37m\u001b[0m \u001b[1m1s\u001b[0m 3ms/step - accuracy: 0.6212 - loss: 1.0468 - val_accuracy: 0.5783 - val_loss: 1.2602 - learning_rate: 0.0010\n",
      "Epoch 10/100\n",
      "\u001b[1m174/174\u001b[0m \u001b[32m━━━━━━━━━━━━━━━━━━━━\u001b[0m\u001b[37m\u001b[0m \u001b[1m1s\u001b[0m 3ms/step - accuracy: 0.6397 - loss: 1.0385 - val_accuracy: 0.6983 - val_loss: 0.9125 - learning_rate: 0.0010\n",
      "Epoch 11/100\n",
      "\u001b[1m174/174\u001b[0m \u001b[32m━━━━━━━━━━━━━━━━━━━━\u001b[0m\u001b[37m\u001b[0m \u001b[1m1s\u001b[0m 3ms/step - accuracy: 0.6777 - loss: 0.9362 - val_accuracy: 0.6157 - val_loss: 1.0360 - learning_rate: 0.0010\n",
      "Epoch 12/100\n",
      "\u001b[1m174/174\u001b[0m \u001b[32m━━━━━━━━━━━━━━━━━━━━\u001b[0m\u001b[37m\u001b[0m \u001b[1m1s\u001b[0m 3ms/step - accuracy: 0.6789 - loss: 0.9147 - val_accuracy: 0.7112 - val_loss: 0.8602 - learning_rate: 0.0010\n",
      "Epoch 13/100\n",
      "\u001b[1m174/174\u001b[0m \u001b[32m━━━━━━━━━━━━━━━━━━━━\u001b[0m\u001b[37m\u001b[0m \u001b[1m1s\u001b[0m 3ms/step - accuracy: 0.6984 - loss: 0.8428 - val_accuracy: 0.6307 - val_loss: 1.0536 - learning_rate: 0.0010\n",
      "Epoch 14/100\n",
      "\u001b[1m174/174\u001b[0m \u001b[32m━━━━━━━━━━━━━━━━━━━━\u001b[0m\u001b[37m\u001b[0m \u001b[1m1s\u001b[0m 3ms/step - accuracy: 0.6728 - loss: 0.9206 - val_accuracy: 0.7019 - val_loss: 0.9085 - learning_rate: 0.0010\n",
      "Epoch 15/100\n",
      "\u001b[1m174/174\u001b[0m \u001b[32m━━━━━━━━━━━━━━━━━━━━\u001b[0m\u001b[37m\u001b[0m \u001b[1m1s\u001b[0m 3ms/step - accuracy: 0.7429 - loss: 0.7716 - val_accuracy: 0.7198 - val_loss: 0.8653 - learning_rate: 0.0010\n",
      "Epoch 16/100\n",
      "\u001b[1m174/174\u001b[0m \u001b[32m━━━━━━━━━━━━━━━━━━━━\u001b[0m\u001b[37m\u001b[0m \u001b[1m1s\u001b[0m 3ms/step - accuracy: 0.7300 - loss: 0.7630 - val_accuracy: 0.7443 - val_loss: 0.7609 - learning_rate: 0.0010\n",
      "Epoch 17/100\n",
      "\u001b[1m174/174\u001b[0m \u001b[32m━━━━━━━━━━━━━━━━━━━━\u001b[0m\u001b[37m\u001b[0m \u001b[1m1s\u001b[0m 3ms/step - accuracy: 0.7222 - loss: 0.7853 - val_accuracy: 0.7148 - val_loss: 0.8532 - learning_rate: 0.0010\n",
      "Epoch 18/100\n",
      "\u001b[1m174/174\u001b[0m \u001b[32m━━━━━━━━━━━━━━━━━━━━\u001b[0m\u001b[37m\u001b[0m \u001b[1m1s\u001b[0m 3ms/step - accuracy: 0.7570 - loss: 0.6947 - val_accuracy: 0.7320 - val_loss: 0.7679 - learning_rate: 0.0010\n",
      "Epoch 19/100\n",
      "\u001b[1m174/174\u001b[0m \u001b[32m━━━━━━━━━━━━━━━━━━━━\u001b[0m\u001b[37m\u001b[0m \u001b[1m1s\u001b[0m 3ms/step - accuracy: 0.7489 - loss: 0.7276 - val_accuracy: 0.6947 - val_loss: 0.9244 - learning_rate: 0.0010\n",
      "Epoch 20/100\n",
      "\u001b[1m174/174\u001b[0m \u001b[32m━━━━━━━━━━━━━━━━━━━━\u001b[0m\u001b[37m\u001b[0m \u001b[1m1s\u001b[0m 3ms/step - accuracy: 0.7516 - loss: 0.7072 - val_accuracy: 0.7076 - val_loss: 0.8623 - learning_rate: 0.0010\n",
      "Epoch 21/100\n",
      "\u001b[1m174/174\u001b[0m \u001b[32m━━━━━━━━━━━━━━━━━━━━\u001b[0m\u001b[37m\u001b[0m \u001b[1m1s\u001b[0m 3ms/step - accuracy: 0.7881 - loss: 0.6157 - val_accuracy: 0.7270 - val_loss: 0.8661 - learning_rate: 0.0010\n",
      "Epoch 22/100\n",
      "\u001b[1m174/174\u001b[0m \u001b[32m━━━━━━━━━━━━━━━━━━━━\u001b[0m\u001b[37m\u001b[0m \u001b[1m1s\u001b[0m 3ms/step - accuracy: 0.8174 - loss: 0.5364 - val_accuracy: 0.7945 - val_loss: 0.6223 - learning_rate: 5.0000e-04\n",
      "Epoch 23/100\n",
      "\u001b[1m174/174\u001b[0m \u001b[32m━━━━━━━━━━━━━━━━━━━━\u001b[0m\u001b[37m\u001b[0m \u001b[1m1s\u001b[0m 3ms/step - accuracy: 0.8585 - loss: 0.4373 - val_accuracy: 0.8046 - val_loss: 0.5993 - learning_rate: 5.0000e-04\n",
      "Epoch 24/100\n",
      "\u001b[1m174/174\u001b[0m \u001b[32m━━━━━━━━━━━━━━━━━━━━\u001b[0m\u001b[37m\u001b[0m \u001b[1m1s\u001b[0m 3ms/step - accuracy: 0.8651 - loss: 0.4054 - val_accuracy: 0.8053 - val_loss: 0.5853 - learning_rate: 5.0000e-04\n",
      "Epoch 25/100\n",
      "\u001b[1m174/174\u001b[0m \u001b[32m━━━━━━━━━━━━━━━━━━━━\u001b[0m\u001b[37m\u001b[0m \u001b[1m1s\u001b[0m 3ms/step - accuracy: 0.8681 - loss: 0.3991 - val_accuracy: 0.8103 - val_loss: 0.5754 - learning_rate: 5.0000e-04\n",
      "Epoch 26/100\n",
      "\u001b[1m174/174\u001b[0m \u001b[32m━━━━━━━━━━━━━━━━━━━━\u001b[0m\u001b[37m\u001b[0m \u001b[1m1s\u001b[0m 3ms/step - accuracy: 0.8755 - loss: 0.3828 - val_accuracy: 0.8075 - val_loss: 0.5906 - learning_rate: 5.0000e-04\n",
      "Epoch 27/100\n",
      "\u001b[1m174/174\u001b[0m \u001b[32m━━━━━━━━━━━━━━━━━━━━\u001b[0m\u001b[37m\u001b[0m \u001b[1m1s\u001b[0m 3ms/step - accuracy: 0.8749 - loss: 0.3630 - val_accuracy: 0.7902 - val_loss: 0.6653 - learning_rate: 5.0000e-04\n",
      "Epoch 28/100\n",
      "\u001b[1m174/174\u001b[0m \u001b[32m━━━━━━━━━━━━━━━━━━━━\u001b[0m\u001b[37m\u001b[0m \u001b[1m1s\u001b[0m 3ms/step - accuracy: 0.8897 - loss: 0.3425 - val_accuracy: 0.8168 - val_loss: 0.5560 - learning_rate: 5.0000e-04\n",
      "Epoch 29/100\n",
      "\u001b[1m174/174\u001b[0m \u001b[32m━━━━━━━━━━━━━━━━━━━━\u001b[0m\u001b[37m\u001b[0m \u001b[1m1s\u001b[0m 3ms/step - accuracy: 0.8804 - loss: 0.3464 - val_accuracy: 0.8226 - val_loss: 0.5625 - learning_rate: 5.0000e-04\n",
      "Epoch 30/100\n",
      "\u001b[1m174/174\u001b[0m \u001b[32m━━━━━━━━━━━━━━━━━━━━\u001b[0m\u001b[37m\u001b[0m \u001b[1m1s\u001b[0m 3ms/step - accuracy: 0.9161 - loss: 0.2759 - val_accuracy: 0.7960 - val_loss: 0.5941 - learning_rate: 5.0000e-04\n",
      "Epoch 31/100\n",
      "\u001b[1m174/174\u001b[0m \u001b[32m━━━━━━━━━━━━━━━━━━━━\u001b[0m\u001b[37m\u001b[0m \u001b[1m1s\u001b[0m 3ms/step - accuracy: 0.9054 - loss: 0.2830 - val_accuracy: 0.8204 - val_loss: 0.5500 - learning_rate: 5.0000e-04\n",
      "Epoch 32/100\n",
      "\u001b[1m174/174\u001b[0m \u001b[32m━━━━━━━━━━━━━━━━━━━━\u001b[0m\u001b[37m\u001b[0m \u001b[1m1s\u001b[0m 3ms/step - accuracy: 0.9121 - loss: 0.2747 - val_accuracy: 0.8182 - val_loss: 0.5814 - learning_rate: 5.0000e-04\n",
      "Epoch 33/100\n",
      "\u001b[1m174/174\u001b[0m \u001b[32m━━━━━━━━━━━━━━━━━━━━\u001b[0m\u001b[37m\u001b[0m \u001b[1m1s\u001b[0m 3ms/step - accuracy: 0.9212 - loss: 0.2477 - val_accuracy: 0.8182 - val_loss: 0.5544 - learning_rate: 5.0000e-04\n",
      "Epoch 34/100\n",
      "\u001b[1m174/174\u001b[0m \u001b[32m━━━━━━━━━━━━━━━━━━━━\u001b[0m\u001b[37m\u001b[0m \u001b[1m1s\u001b[0m 3ms/step - accuracy: 0.9220 - loss: 0.2510 - val_accuracy: 0.8297 - val_loss: 0.5538 - learning_rate: 5.0000e-04\n",
      "Epoch 35/100\n",
      "\u001b[1m174/174\u001b[0m \u001b[32m━━━━━━━━━━━━━━━━━━━━\u001b[0m\u001b[37m\u001b[0m \u001b[1m1s\u001b[0m 3ms/step - accuracy: 0.9282 - loss: 0.2300 - val_accuracy: 0.8118 - val_loss: 0.5953 - learning_rate: 5.0000e-04\n",
      "Epoch 36/100\n",
      "\u001b[1m174/174\u001b[0m \u001b[32m━━━━━━━━━━━━━━━━━━━━\u001b[0m\u001b[37m\u001b[0m \u001b[1m1s\u001b[0m 3ms/step - accuracy: 0.9350 - loss: 0.2148 - val_accuracy: 0.8420 - val_loss: 0.5048 - learning_rate: 5.0000e-04\n",
      "Epoch 37/100\n",
      "\u001b[1m174/174\u001b[0m \u001b[32m━━━━━━━━━━━━━━━━━━━━\u001b[0m\u001b[37m\u001b[0m \u001b[1m1s\u001b[0m 3ms/step - accuracy: 0.9394 - loss: 0.1998 - val_accuracy: 0.8305 - val_loss: 0.5320 - learning_rate: 5.0000e-04\n",
      "Epoch 38/100\n",
      "\u001b[1m174/174\u001b[0m \u001b[32m━━━━━━━━━━━━━━━━━━━━\u001b[0m\u001b[37m\u001b[0m \u001b[1m1s\u001b[0m 3ms/step - accuracy: 0.9424 - loss: 0.1918 - val_accuracy: 0.8068 - val_loss: 0.6083 - learning_rate: 5.0000e-04\n",
      "Epoch 39/100\n",
      "\u001b[1m174/174\u001b[0m \u001b[32m━━━━━━━━━━━━━━━━━━━━\u001b[0m\u001b[37m\u001b[0m \u001b[1m1s\u001b[0m 3ms/step - accuracy: 0.9360 - loss: 0.2022 - val_accuracy: 0.8226 - val_loss: 0.5929 - learning_rate: 5.0000e-04\n",
      "Epoch 40/100\n",
      "\u001b[1m174/174\u001b[0m \u001b[32m━━━━━━━━━━━━━━━━━━━━\u001b[0m\u001b[37m\u001b[0m \u001b[1m1s\u001b[0m 3ms/step - accuracy: 0.9334 - loss: 0.2146 - val_accuracy: 0.8391 - val_loss: 0.5111 - learning_rate: 5.0000e-04\n",
      "Epoch 41/100\n",
      "\u001b[1m174/174\u001b[0m \u001b[32m━━━━━━━━━━━━━━━━━━━━\u001b[0m\u001b[37m\u001b[0m \u001b[1m1s\u001b[0m 3ms/step - accuracy: 0.9576 - loss: 0.1524 - val_accuracy: 0.8398 - val_loss: 0.5216 - learning_rate: 5.0000e-04\n",
      "Epoch 42/100\n",
      "\u001b[1m174/174\u001b[0m \u001b[32m━━━━━━━━━━━━━━━━━━━━\u001b[0m\u001b[37m\u001b[0m \u001b[1m1s\u001b[0m 3ms/step - accuracy: 0.9796 - loss: 0.1020 - val_accuracy: 0.8585 - val_loss: 0.4783 - learning_rate: 2.5000e-04\n",
      "Epoch 43/100\n",
      "\u001b[1m174/174\u001b[0m \u001b[32m━━━━━━━━━━━━━━━━━━━━\u001b[0m\u001b[37m\u001b[0m \u001b[1m1s\u001b[0m 3ms/step - accuracy: 0.9865 - loss: 0.0730 - val_accuracy: 0.8534 - val_loss: 0.4813 - learning_rate: 2.5000e-04\n",
      "Epoch 44/100\n",
      "\u001b[1m174/174\u001b[0m \u001b[32m━━━━━━━━━━━━━━━━━━━━\u001b[0m\u001b[37m\u001b[0m \u001b[1m1s\u001b[0m 4ms/step - accuracy: 0.9904 - loss: 0.0713 - val_accuracy: 0.8556 - val_loss: 0.4700 - learning_rate: 2.5000e-04\n",
      "Epoch 45/100\n",
      "\u001b[1m174/174\u001b[0m \u001b[32m━━━━━━━━━━━━━━━━━━━━\u001b[0m\u001b[37m\u001b[0m \u001b[1m1s\u001b[0m 4ms/step - accuracy: 0.9899 - loss: 0.0628 - val_accuracy: 0.8628 - val_loss: 0.4615 - learning_rate: 2.5000e-04\n",
      "Epoch 46/100\n",
      "\u001b[1m174/174\u001b[0m \u001b[32m━━━━━━━━━━━━━━━━━━━━\u001b[0m\u001b[37m\u001b[0m \u001b[1m1s\u001b[0m 3ms/step - accuracy: 0.9934 - loss: 0.0519 - val_accuracy: 0.8621 - val_loss: 0.4710 - learning_rate: 2.5000e-04\n",
      "Epoch 47/100\n",
      "\u001b[1m174/174\u001b[0m \u001b[32m━━━━━━━━━━━━━━━━━━━━\u001b[0m\u001b[37m\u001b[0m \u001b[1m1s\u001b[0m 3ms/step - accuracy: 0.9970 - loss: 0.0480 - val_accuracy: 0.8578 - val_loss: 0.4728 - learning_rate: 2.5000e-04\n",
      "Epoch 48/100\n",
      "\u001b[1m174/174\u001b[0m \u001b[32m━━━━━━━━━━━━━━━━━━━━\u001b[0m\u001b[37m\u001b[0m \u001b[1m1s\u001b[0m 4ms/step - accuracy: 0.9968 - loss: 0.0440 - val_accuracy: 0.8578 - val_loss: 0.4937 - learning_rate: 2.5000e-04\n",
      "Epoch 49/100\n",
      "\u001b[1m174/174\u001b[0m \u001b[32m━━━━━━━━━━━━━━━━━━━━\u001b[0m\u001b[37m\u001b[0m \u001b[1m1s\u001b[0m 4ms/step - accuracy: 0.9974 - loss: 0.0428 - val_accuracy: 0.8563 - val_loss: 0.4719 - learning_rate: 2.5000e-04\n",
      "Epoch 50/100\n",
      "\u001b[1m174/174\u001b[0m \u001b[32m━━━━━━━━━━━━━━━━━━━━\u001b[0m\u001b[37m\u001b[0m \u001b[1m1s\u001b[0m 3ms/step - accuracy: 0.9963 - loss: 0.0427 - val_accuracy: 0.8570 - val_loss: 0.5053 - learning_rate: 2.5000e-04\n",
      "Epoch 51/100\n",
      "\u001b[1m174/174\u001b[0m \u001b[32m━━━━━━━━━━━━━━━━━━━━\u001b[0m\u001b[37m\u001b[0m \u001b[1m1s\u001b[0m 3ms/step - accuracy: 0.9987 - loss: 0.0313 - val_accuracy: 0.8657 - val_loss: 0.4805 - learning_rate: 1.2500e-04\n",
      "Epoch 52/100\n",
      "\u001b[1m174/174\u001b[0m \u001b[32m━━━━━━━━━━━━━━━━━━━━\u001b[0m\u001b[37m\u001b[0m \u001b[1m1s\u001b[0m 3ms/step - accuracy: 0.9997 - loss: 0.0285 - val_accuracy: 0.8606 - val_loss: 0.4745 - learning_rate: 1.2500e-04\n",
      "Epoch 53/100\n",
      "\u001b[1m174/174\u001b[0m \u001b[32m━━━━━━━━━━━━━━━━━━━━\u001b[0m\u001b[37m\u001b[0m \u001b[1m1s\u001b[0m 3ms/step - accuracy: 0.9992 - loss: 0.0254 - val_accuracy: 0.8649 - val_loss: 0.4860 - learning_rate: 1.2500e-04\n",
      "Epoch 54/100\n",
      "\u001b[1m174/174\u001b[0m \u001b[32m━━━━━━━━━━━━━━━━━━━━\u001b[0m\u001b[37m\u001b[0m \u001b[1m1s\u001b[0m 3ms/step - accuracy: 0.9996 - loss: 0.0238 - val_accuracy: 0.8635 - val_loss: 0.4818 - learning_rate: 1.2500e-04\n",
      "Epoch 55/100\n",
      "\u001b[1m174/174\u001b[0m \u001b[32m━━━━━━━━━━━━━━━━━━━━\u001b[0m\u001b[37m\u001b[0m \u001b[1m1s\u001b[0m 4ms/step - accuracy: 0.9996 - loss: 0.0240 - val_accuracy: 0.8664 - val_loss: 0.4829 - learning_rate: 1.2500e-04\n",
      "Epoch 56/100\n",
      "\u001b[1m174/174\u001b[0m \u001b[32m━━━━━━━━━━━━━━━━━━━━\u001b[0m\u001b[37m\u001b[0m \u001b[1m1s\u001b[0m 3ms/step - accuracy: 0.9994 - loss: 0.0220 - val_accuracy: 0.8657 - val_loss: 0.4841 - learning_rate: 1.2500e-04\n",
      "Epoch 57/100\n",
      "\u001b[1m174/174\u001b[0m \u001b[32m━━━━━━━━━━━━━━━━━━━━\u001b[0m\u001b[37m\u001b[0m \u001b[1m1s\u001b[0m 3ms/step - accuracy: 0.9994 - loss: 0.0217 - val_accuracy: 0.8628 - val_loss: 0.4798 - learning_rate: 1.2500e-04\n",
      "Epoch 58/100\n",
      "\u001b[1m174/174\u001b[0m \u001b[32m━━━━━━━━━━━━━━━━━━━━\u001b[0m\u001b[37m\u001b[0m \u001b[1m1s\u001b[0m 3ms/step - accuracy: 0.9994 - loss: 0.0200 - val_accuracy: 0.8635 - val_loss: 0.4950 - learning_rate: 1.2500e-04\n",
      "Epoch 59/100\n",
      "\u001b[1m174/174\u001b[0m \u001b[32m━━━━━━━━━━━━━━━━━━━━\u001b[0m\u001b[37m\u001b[0m \u001b[1m1s\u001b[0m 3ms/step - accuracy: 0.9994 - loss: 0.0223 - val_accuracy: 0.8606 - val_loss: 0.5044 - learning_rate: 1.2500e-04\n",
      "Epoch 60/100\n",
      "\u001b[1m174/174\u001b[0m \u001b[32m━━━━━━━━━━━━━━━━━━━━\u001b[0m\u001b[37m\u001b[0m \u001b[1m1s\u001b[0m 3ms/step - accuracy: 0.9994 - loss: 0.0190 - val_accuracy: 0.8649 - val_loss: 0.4970 - learning_rate: 1.2500e-04\n",
      "Epoch 61/100\n",
      "\u001b[1m174/174\u001b[0m \u001b[32m━━━━━━━━━━━━━━━━━━━━\u001b[0m\u001b[37m\u001b[0m \u001b[1m1s\u001b[0m 3ms/step - accuracy: 0.9999 - loss: 0.0171 - val_accuracy: 0.8628 - val_loss: 0.4943 - learning_rate: 6.2500e-05\n",
      "Epoch 62/100\n",
      "\u001b[1m174/174\u001b[0m \u001b[32m━━━━━━━━━━━━━━━━━━━━\u001b[0m\u001b[37m\u001b[0m \u001b[1m1s\u001b[0m 3ms/step - accuracy: 0.9998 - loss: 0.0159 - val_accuracy: 0.8664 - val_loss: 0.4924 - learning_rate: 6.2500e-05\n",
      "Epoch 63/100\n",
      "\u001b[1m174/174\u001b[0m \u001b[32m━━━━━━━━━━━━━━━━━━━━\u001b[0m\u001b[37m\u001b[0m \u001b[1m1s\u001b[0m 3ms/step - accuracy: 0.9998 - loss: 0.0155 - val_accuracy: 0.8642 - val_loss: 0.4961 - learning_rate: 6.2500e-05\n",
      "Epoch 64/100\n",
      "\u001b[1m174/174\u001b[0m \u001b[32m━━━━━━━━━━━━━━━━━━━━\u001b[0m\u001b[37m\u001b[0m \u001b[1m1s\u001b[0m 3ms/step - accuracy: 0.9999 - loss: 0.0145 - val_accuracy: 0.8649 - val_loss: 0.4953 - learning_rate: 6.2500e-05\n",
      "Epoch 65/100\n",
      "\u001b[1m174/174\u001b[0m \u001b[32m━━━━━━━━━━━━━━━━━━━━\u001b[0m\u001b[37m\u001b[0m \u001b[1m1s\u001b[0m 3ms/step - accuracy: 0.9999 - loss: 0.0139 - val_accuracy: 0.8685 - val_loss: 0.4924 - learning_rate: 6.2500e-05\n",
      "Epoch 66/100\n",
      "\u001b[1m174/174\u001b[0m \u001b[32m━━━━━━━━━━━━━━━━━━━━\u001b[0m\u001b[37m\u001b[0m \u001b[1m1s\u001b[0m 3ms/step - accuracy: 0.9999 - loss: 0.0135 - val_accuracy: 0.8657 - val_loss: 0.4944 - learning_rate: 6.2500e-05\n",
      "Epoch 67/100\n",
      "\u001b[1m174/174\u001b[0m \u001b[32m━━━━━━━━━━━━━━━━━━━━\u001b[0m\u001b[37m\u001b[0m \u001b[1m1s\u001b[0m 3ms/step - accuracy: 0.9999 - loss: 0.0133 - val_accuracy: 0.8635 - val_loss: 0.5006 - learning_rate: 6.2500e-05\n",
      "Epoch 68/100\n",
      "\u001b[1m174/174\u001b[0m \u001b[32m━━━━━━━━━━━━━━━━━━━━\u001b[0m\u001b[37m\u001b[0m \u001b[1m1s\u001b[0m 3ms/step - accuracy: 0.9998 - loss: 0.0135 - val_accuracy: 0.8649 - val_loss: 0.5007 - learning_rate: 6.2500e-05\n",
      "Epoch 69/100\n",
      "\u001b[1m174/174\u001b[0m \u001b[32m━━━━━━━━━━━━━━━━━━━━\u001b[0m\u001b[37m\u001b[0m \u001b[1m1s\u001b[0m 3ms/step - accuracy: 0.9999 - loss: 0.0121 - val_accuracy: 0.8621 - val_loss: 0.5107 - learning_rate: 6.2500e-05\n",
      "Epoch 70/100\n",
      "\u001b[1m174/174\u001b[0m \u001b[32m━━━━━━━━━━━━━━━━━━━━\u001b[0m\u001b[37m\u001b[0m \u001b[1m1s\u001b[0m 3ms/step - accuracy: 0.9999 - loss: 0.0124 - val_accuracy: 0.8671 - val_loss: 0.5029 - learning_rate: 6.2500e-05\n",
      "Epoch 71/100\n",
      "\u001b[1m174/174\u001b[0m \u001b[32m━━━━━━━━━━━━━━━━━━━━\u001b[0m\u001b[37m\u001b[0m \u001b[1m1s\u001b[0m 3ms/step - accuracy: 0.9998 - loss: 0.0113 - val_accuracy: 0.8657 - val_loss: 0.5046 - learning_rate: 3.1250e-05\n",
      "Epoch 72/100\n",
      "\u001b[1m174/174\u001b[0m \u001b[32m━━━━━━━━━━━━━━━━━━━━\u001b[0m\u001b[37m\u001b[0m \u001b[1m1s\u001b[0m 3ms/step - accuracy: 0.9998 - loss: 0.0110 - val_accuracy: 0.8671 - val_loss: 0.5100 - learning_rate: 3.1250e-05\n",
      "Epoch 73/100\n",
      "\u001b[1m174/174\u001b[0m \u001b[32m━━━━━━━━━━━━━━━━━━━━\u001b[0m\u001b[37m\u001b[0m \u001b[1m1s\u001b[0m 3ms/step - accuracy: 0.9999 - loss: 0.0105 - val_accuracy: 0.8635 - val_loss: 0.5078 - learning_rate: 3.1250e-05\n",
      "Epoch 74/100\n",
      "\u001b[1m174/174\u001b[0m \u001b[32m━━━━━━━━━━━━━━━━━━━━\u001b[0m\u001b[37m\u001b[0m \u001b[1m1s\u001b[0m 3ms/step - accuracy: 1.0000 - loss: 0.0106 - val_accuracy: 0.8628 - val_loss: 0.5111 - learning_rate: 3.1250e-05\n",
      "Epoch 75/100\n",
      "\u001b[1m174/174\u001b[0m \u001b[32m━━━━━━━━━━━━━━━━━━━━\u001b[0m\u001b[37m\u001b[0m \u001b[1m1s\u001b[0m 3ms/step - accuracy: 0.9999 - loss: 0.0104 - val_accuracy: 0.8649 - val_loss: 0.5127 - learning_rate: 3.1250e-05\n",
      "Epoch 76/100\n",
      "\u001b[1m174/174\u001b[0m \u001b[32m━━━━━━━━━━━━━━━━━━━━\u001b[0m\u001b[37m\u001b[0m \u001b[1m1s\u001b[0m 3ms/step - accuracy: 1.0000 - loss: 0.0102 - val_accuracy: 0.8657 - val_loss: 0.5082 - learning_rate: 1.5625e-05\n",
      "Epoch 77/100\n",
      "\u001b[1m174/174\u001b[0m \u001b[32m━━━━━━━━━━━━━━━━━━━━\u001b[0m\u001b[37m\u001b[0m \u001b[1m1s\u001b[0m 3ms/step - accuracy: 1.0000 - loss: 0.0096 - val_accuracy: 0.8621 - val_loss: 0.5099 - learning_rate: 1.5625e-05\n",
      "Epoch 78/100\n",
      "\u001b[1m174/174\u001b[0m \u001b[32m━━━━━━━━━━━━━━━━━━━━\u001b[0m\u001b[37m\u001b[0m \u001b[1m1s\u001b[0m 3ms/step - accuracy: 1.0000 - loss: 0.0099 - val_accuracy: 0.8671 - val_loss: 0.5071 - learning_rate: 1.5625e-05\n",
      "Epoch 79/100\n",
      "\u001b[1m174/174\u001b[0m \u001b[32m━━━━━━━━━━━━━━━━━━━━\u001b[0m\u001b[37m\u001b[0m \u001b[1m1s\u001b[0m 3ms/step - accuracy: 0.9999 - loss: 0.0099 - val_accuracy: 0.8649 - val_loss: 0.5077 - learning_rate: 1.5625e-05\n",
      "Epoch 80/100\n",
      "\u001b[1m174/174\u001b[0m \u001b[32m━━━━━━━━━━━━━━━━━━━━\u001b[0m\u001b[37m\u001b[0m \u001b[1m1s\u001b[0m 3ms/step - accuracy: 1.0000 - loss: 0.0094 - val_accuracy: 0.8635 - val_loss: 0.5102 - learning_rate: 1.5625e-05\n"
     ]
    }
   ],
   "source": [
    "# Train the model\n",
    "Train_model = model.fit(\n",
    "    X_train, Y_train,\n",
    "    validation_data=(X_test, Y_test),\n",
    "    epochs=100,\n",
    "    callbacks= callback_metric\n",
    ")"
   ]
  },
  {
   "cell_type": "code",
   "execution_count": 22,
   "metadata": {},
   "outputs": [],
   "source": [
    "best_hps = tuner.get_best_hyperparameters(num_trials=1)[0]\n",
    "model = build_model(best_hps)"
   ]
  },
  {
   "cell_type": "code",
   "execution_count": 27,
   "metadata": {},
   "outputs": [],
   "source": [
    "model_loss = pd.DataFrame(Train_model.history)"
   ]
  },
  {
   "cell_type": "code",
   "execution_count": 28,
   "metadata": {},
   "outputs": [
    {
     "data": {
      "text/plain": [
       "<Axes: >"
      ]
     },
     "execution_count": 28,
     "metadata": {},
     "output_type": "execute_result"
    },
    {
     "data": {
      "image/png": "[encoded data removed]",
      "text/plain": [
       "<Figure size 640x480 with 1 Axes>"
      ]
     },
     "metadata": {},
     "output_type": "display_data"
    }
   ],
   "source": [
    "model_loss[['accuracy', 'val_accuracy']].plot()"
   ]
  },
  {
   "cell_type": "code",
   "execution_count": null,
   "metadata": {},
   "outputs": [],
   "source": []
  }
 ],
 "metadata": {
  "kernelspec": {
   "display_name": "dlenv",
   "language": "python",
   "name": "python3"
  },
  "language_info": {
   "codemirror_mode": {
    "name": "ipython",
    "version": 3
   },
   "file_extension": ".py",
   "mimetype": "text/x-python",
   "name": "python",
   "nbconvert_exporter": "python",
   "pygments_lexer": "ipython3",
   "version": "3.12.1"
  }
 },
 "nbformat": 4,
 "nbformat_minor": 2
}
