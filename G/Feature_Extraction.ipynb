{
 "cells": [
  {
   "cell_type": "code",
   "execution_count": null,
   "metadata": {},
   "outputs": [],
   "source": [
    "# Basic Libraries\n",
    "\n",
    "import pandas as pd\n",
    "import numpy as np\n",
    "from sklearn.model_selection import train_test_split\n",
    "\n",
    "import os\n",
    "import librosa\n",
    "import librosa.display\n",
    "\n",
    "\n",
    "\n",
    "\n",
    "\n",
    "\n",
    "classes = [\"children_playing\", \"drilling\", \"street_music\", \"siren\", \"gun_shot\", \"car_horn\", \"air_conditioner\", \"engine_idling\",  \"dog_bark\", \"jackhammer\"]\n"
   ]
  },
  {
   "cell_type": "code",
   "execution_count": null,
   "metadata": {},
   "outputs": [],
   "source": [
    "df = pd.read_csv('UrbanSound8K\\\\metadata\\\\UrbanSound8K.csv')\n",
    "df"
   ]
  },
  {
   "cell_type": "markdown",
   "metadata": {},
   "source": [
    "# Defs"
   ]
  },
  {
   "cell_type": "code",
   "execution_count": null,
   "metadata": {},
   "outputs": [],
   "source": [
    "def seperate_folders(csv_file,folder_path):\n",
    "    \n",
    "    # Read CSV file into pandas DataFrame\n",
    "    df = pd.read_csv(csv_file)\n",
    "\n",
    "    # Iterate through each row in the DataFrame\n",
    "    for index, row in df.iterrows():\n",
    "        file_id = str(row['slice_file_name'])  # Construct the WAV file name from ID\n",
    "        category = row['class']  # Get the category\n",
    "        \n",
    "        # Check if the WAV file exists\n",
    "        if os.path.exists(os.path.join(folder_path, file_id)):\n",
    "            # Create folder if it doesn't exist\n",
    "            category_folder = os.path.join(folder_path, category)\n",
    "            if not os.path.exists(category_folder):\n",
    "                os.makedirs(category_folder)\n",
    "            \n",
    "            # Move the WAV file to the corresponding category folder\n",
    "            shutil.move(os.path.join(folder_path, file_id), os.path.join(category_folder, file_id))\n",
    "            print(f\"Moved {file_id} to {category} folder.\")\n",
    "        else:\n",
    "            print(f\"File {file_id} not found.\")\n",
    "\n",
    "    print(\"Task completed.\")"
   ]
  },
  {
   "cell_type": "code",
   "execution_count": null,
   "metadata": {},
   "outputs": [],
   "source": [
    "def move_wav_files(csv_file, destination_folder):\n",
    "\n",
    "    root_dir = \"UrbanSound8K\\\\audio\"\n",
    "    # Create the destination folder if it doesn't exist\n",
    "    if not os.path.exists(destination_folder):\n",
    "        os.makedirs(destination_folder)\n",
    "\n",
    "    # Read the CSV file and create a dictionary with slice_file_name as key and folder as value\n",
    "    wav_mapping = {}\n",
    "    with open(csv_file, 'r') as file:\n",
    "        reader = csv.DictReader(file)\n",
    "        for row in reader:\n",
    "            wav_mapping[row['slice_file_name']] = row['fold']\n",
    "\n",
    "    # Iterate through each folder in the root directory\n",
    "    for folder_name in os.listdir(root_dir):\n",
    "        folder_path = os.path.join(root_dir, folder_name)\n",
    "        # Check if it's a directory\n",
    "        if os.path.isdir(folder_path):\n",
    "            # Check if there is a WAV file in the folder\n",
    "            for file_name in os.listdir(folder_path):\n",
    "                if file_name.endswith('.wav'):\n",
    "                    wav_file = os.path.join(folder_path, file_name)\n",
    "                    # Check if the WAV file matches a slice_file_name in the CSV\n",
    "                    if file_name in wav_mapping:\n",
    "                        # Move the WAV file to the destination folder\n",
    "                        shutil.move(wav_file, destination_folder)\n",
    "                        print(f\"Moved {file_name} to {destination_folder}\")"
   ]
  },
  {
   "cell_type": "code",
   "execution_count": null,
   "metadata": {},
   "outputs": [],
   "source": [
    "def parser_CNN(directory, classes, df):\n",
    "    feature = []\n",
    "    label = []\n",
    "    wav_name = []  \n",
    "    desired_frames = 128\n",
    "\n",
    "    for class_name in classes:\n",
    "        class_directory = os.path.join(directory, class_name)\n",
    "\n",
    "        for file_name in os.listdir(class_directory):\n",
    "            file_path = os.path.join(class_directory, file_name)\n",
    "        \n",
    "            # Load audio file\n",
    "            X, sample_rate = librosa.load(file_path)\n",
    "            \n",
    "            # Extract mel spectrogram\n",
    "            mels = librosa.feature.melspectrogram(y=X, sr=sample_rate)\n",
    "            \n",
    "            # If the number of frames is less than desired_frames, pad it\n",
    "            if mels.shape[1] < desired_frames:\n",
    "                pad_width = desired_frames - mels.shape[1]\n",
    "                mels = np.pad(mels, pad_width=((0, 0), (0, pad_width)), mode='constant')\n",
    "            # If the number of frames is more than desired_frames, trim it\n",
    "            elif mels.shape[1] > desired_frames:\n",
    "                mels = mels[:, :desired_frames]\n",
    "            \n",
    "            # Take the mean along the time axis\n",
    "            mels_mean = np.mean(mels, axis=1)\n",
    "            \n",
    "            feature.append(mels_mean)\n",
    "            \n",
    "            # Find the corresponding label from df using file_name\n",
    "            matching_row = df[df['slice_file_name'] == file_name]\n",
    "            if not matching_row.empty:\n",
    "                label.append(matching_row.iloc[0]['class'])\n",
    "            else:\n",
    "                label.append(None)  # Or handle as per your requirement\n",
    "            \n",
    "            #Keep the file name\n",
    "            wav_name.append(file_name)\n",
    "    # Convert lists to DataFrame\n",
    "    feature_df = pd.DataFrame(data=feature)\n",
    "    feature_df['slice_file_name'] = wav_name\n",
    "    feature_df['Class'] = label\n",
    "\n",
    "    \n",
    "    return feature_df\n",
    "\n",
    "    "
   ]
  },
  {
   "cell_type": "code",
   "execution_count": null,
   "metadata": {},
   "outputs": [],
   "source": [
    "# all files from children playing begingn with 36429 need to be deleted.\n",
    "# 19007 from drilling\n",
    "\n",
    "def extract_features_NN(folder_path):\n",
    "    NN_Features = pd.DataFrame()  # Create an empty DataFrame to store features\n",
    "\n",
    "    for i in range(len(classes)):\n",
    "        folder_name = classes[i]\n",
    "        folder_path = f\"Train_NN\\\\{folder_name}\"\n",
    "        f, _, fn, = dW(folder_path, 1, 1, 0.1, 0.1)  # Store features and corresponding feature names\n",
    "    # Create a DataFrame from the i-th NumPy array\n",
    "        temp_df = pd.DataFrame(f, columns= fn)\n",
    "        for i in range (0,len(_)):\n",
    "            part = _[1].split('\\\\')\n",
    "            class_cat = part[-2]\n",
    "            wav_file = part[-1]\n",
    "        \n",
    "            temp_df['class'] = class_cat\n",
    "            temp_df['slice_file_name'] = wav_file\n",
    "        NN_Features = pd.concat([NN_Features, temp_df], ignore_index=True)\n",
    "    return NN_Features\n",
    "        "
   ]
  },
  {
   "cell_type": "markdown",
   "metadata": {},
   "source": [
    "# Train Test Split"
   ]
  },
  {
   "cell_type": "code",
   "execution_count": null,
   "metadata": {},
   "outputs": [],
   "source": [
    "# Splitting features (X) and labels (y)\n",
    "X = np_array[:, :7]  # Columns 0 to 6\n",
    "y = np_array[:, 7]   # Column 7\n",
    "\n",
    "# Splitting into training and testing sets with stratified sampling\n",
    "X_train, X_test, y_train, y_test = train_test_split(X, y, test_size=0.2, stratify=y, random_state=18)\n",
    "\n",
    "# Reconstructing DataFrames for training and testing sets\n",
    "\n",
    "# Feature names\n",
    "feature_names = ['slice_file_name', 'fsID', 'start', 'end', 'salience', 'fold', 'classID']\n",
    "\n",
    "# Reconstructing DataFrames for training and testing sets with feature names\n",
    "df_train = pd.DataFrame(X_train, columns=feature_names)\n",
    "df_train['class'] = y_train\n",
    "df_test = pd.DataFrame(X_test, columns=feature_names)\n",
    "df_test['class'] = y_test\n",
    "\n",
    "df_train.to_csv('train.csv', index=False)\n",
    "df_test.to_csv('test.csv', index=False)\n",
    "\n"
   ]
  },
  {
   "cell_type": "markdown",
   "metadata": {},
   "source": [
    "# Main"
   ]
  },
  {
   "cell_type": "code",
   "execution_count": null,
   "metadata": {},
   "outputs": [],
   "source": [
    "# Move training files\n",
    "move_wav_files(\"train.csv\", \"Train_NN\")\n",
    "\n",
    "# Move testing files\n",
    "move_wav_files(\"test.csv\", \"Test_NN\")"
   ]
  },
  {
   "cell_type": "code",
   "execution_count": null,
   "metadata": {},
   "outputs": [],
   "source": [
    "seperate_folders(\"train.csv\",\"Train_NN\")"
   ]
  },
  {
   "cell_type": "code",
   "execution_count": null,
   "metadata": {},
   "outputs": [],
   "source": [
    "Extracted_for_CNN = parser_CNN('Train_NN', classes, df_train)\n",
    "\n",
    "Extracted_for_CNN.to_csv('Features_CNN.csv', index=False)"
   ]
  },
  {
   "cell_type": "code",
   "execution_count": null,
   "metadata": {},
   "outputs": [],
   "source": [
    "Extracted_for_NN = extract_features_NN(classes)\n",
    "\n",
    "Extracted_for_NN.to_csv('Features_NN.csv', index=False)"
   ]
  }
 ],
 "metadata": {
  "kernelspec": {
   "display_name": "dlenv",
   "language": "python",
   "name": "python3"
  },
  "language_info": {
   "codemirror_mode": {
    "name": "ipython",
    "version": 3
   },
   "file_extension": ".py",
   "mimetype": "text/x-python",
   "name": "python",
   "nbconvert_exporter": "python",
   "pygments_lexer": "ipython3",
   "version": "3.12.1"
  }
 },
 "nbformat": 4,
 "nbformat_minor": 2
}
