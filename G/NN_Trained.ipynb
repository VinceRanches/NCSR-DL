{
 "cells": [
  {
   "cell_type": "code",
   "execution_count": null,
   "metadata": {},
   "outputs": [],
   "source": [
    "import pandas as pd\n",
    "import numpy as np\n",
    "import plotly.figure_factory as ff\n",
    "from sklearn.metrics import confusion_matrix\n",
    "\n",
    "\n",
    "from sklearn.model_selection import train_test_split\n",
    "from sklearn.preprocessing import LabelEncoder\n",
    "\n",
    "\n",
    "from keras.utils import to_categorical\n",
    "from keras import layers, Sequential\n",
    "from keras.callbacks import EarlyStopping, ReduceLROnPlateau\n",
    "from sklearn.metrics import confusion_matrix\n",
    "from tensorflow.keras import layers\n",
    "from tensorflow.keras.models import Sequential\n",
    "from tensorflow.keras.callbacks import EarlyStopping, ReduceLROnPlateau"
   ]
  },
  {
   "cell_type": "code",
   "execution_count": null,
   "metadata": {},
   "outputs": [],
   "source": [
    "# Replace 'filename.csv' with the path to your CSV file\n",
    "df = pd.read_csv('Features_NN.csv')"
   ]
  },
  {
   "cell_type": "code",
   "execution_count": null,
   "metadata": {},
   "outputs": [],
   "source": [
    "# Convert features into numpy array\n",
    "X = df.drop(columns=['class','slice_file_name']).values\n",
    "\n",
    "# Encode classes\n",
    "encoder = LabelEncoder()\n",
    "Y = encoder.fit_transform(df['class'])\n",
    "Y = to_categorical(Y, num_classes=10)"
   ]
  },
  {
   "cell_type": "code",
   "execution_count": null,
   "metadata": {},
   "outputs": [],
   "source": [
    "# Train-validation split\n",
    "X_train, X_test, Y_train, Y_test = train_test_split(X, Y,test_size=0.2, stratify=Y, random_state=18)"
   ]
  },
  {
   "cell_type": "code",
   "execution_count": null,
   "metadata": {},
   "outputs": [],
   "source": [
    "\n",
    "\n",
    "model = Sequential([\n",
    "    layers.Dense(512, activation='relu', input_shape=(138,)),\n",
    "    layers.BatchNormalization(axis=-1),\n",
    "    layers.Dropout(0.2),\n",
    "    \n",
    "    layers.Dense(512, activation='relu'),\n",
    "    layers.BatchNormalization(axis=-1),\n",
    "    layers.Dropout(0.2),\n",
    "    \n",
    "    layers.Dense(256, activation='relu'),\n",
    "    layers.BatchNormalization(axis=-1),\n",
    "    layers.Dropout(0.2),\n",
    "    \n",
    "    layers.Dense(256, activation='relu'),\n",
    "    layers.BatchNormalization(axis=-1),\n",
    "    layers.Dropout(0.2),\n",
    "    \n",
    "    layers.Dense(128, activation='relu'),\n",
    "    layers.BatchNormalization(axis=-1),\n",
    "    layers.Dropout(0.2),\n",
    "    \n",
    "    layers.Dense(64, activation='relu'),\n",
    "    layers.BatchNormalization(axis=-1),\n",
    "    layers.Dropout(0.2),\n",
    "    \n",
    "    layers.Dense(10, activation='softmax')\n",
    "])\n"
   ]
  },
  {
   "cell_type": "code",
   "execution_count": null,
   "metadata": {},
   "outputs": [],
   "source": [
    "# Compile the model\n",
    "model.compile(optimizer='adam', loss='categorical_crossentropy', metrics=['accuracy'])"
   ]
  },
  {
   "cell_type": "code",
   "execution_count": null,
   "metadata": {},
   "outputs": [],
   "source": [
    "# Define callbacks\n",
    "early_stopping = EarlyStopping(\n",
    "    monitor='val_accuracy',\n",
    "    min_delta=5e-4,\n",
    "    patience=10,\n",
    "    restore_best_weights=True\n",
    ")\n",
    "\n",
    "reduce_lr = ReduceLROnPlateau(\n",
    "    monitor='val_accuracy',\n",
    "    factor=0.5,\n",
    "    patience=3,\n",
    "    min_lr=1e-5\n",
    ")"
   ]
  },
  {
   "cell_type": "code",
   "execution_count": null,
   "metadata": {},
   "outputs": [],
   "source": [
    "# Train the model\n",
    "Train_model = model.fit(\n",
    "    X_train, Y_train,\n",
    "    validation_data=(X_test, Y_test),\n",
    "    epochs=100,\n",
    "    callbacks=[early_stopping, reduce_lr]\n",
    ")"
   ]
  },
  {
   "cell_type": "code",
   "execution_count": null,
   "metadata": {},
   "outputs": [],
   "source": [
    "# Compute confusion matrix\n",
    "predicted = np.argmax(model.predict(X_test), axis=1)\n",
    "true = np.argmax(Y_test, axis=1)\n",
    "matrix = confusion_matrix(true, predicted)\n",
    "\n",
    "# Plot confusion matrix\n",
    "labels = list(encoder.classes_)\n",
    "\n",
    "fig = ff.create_annotated_heatmap(z=matrix, x=labels, y=labels, colorscale='Viridis')\n",
    "fig.update_layout(\n",
    "                  xaxis=dict(title='Predicted Class'),\n",
    "                  yaxis=dict(title='True Class'),\n",
    "                  font=dict(size=12),\n",
    "                  width=1000,\n",
    "                  height=500)"
   ]
  }
 ],
 "metadata": {
  "kernelspec": {
   "display_name": "dlenv",
   "language": "python",
   "name": "python3"
  },
  "language_info": {
   "codemirror_mode": {
    "name": "ipython",
    "version": 3
   },
   "file_extension": ".py",
   "mimetype": "text/x-python",
   "name": "python",
   "nbconvert_exporter": "python",
   "pygments_lexer": "ipython3",
   "version": "3.12.1"
  }
 },
 "nbformat": 4,
 "nbformat_minor": 2
}
