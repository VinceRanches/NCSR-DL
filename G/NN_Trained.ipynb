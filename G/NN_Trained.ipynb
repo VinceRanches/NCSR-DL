{
 "cells": [
  {
   "cell_type": "code",
   "execution_count": 2,
   "metadata": {},
   "outputs": [],
   "source": [
    "import pandas as pd\n",
    "import numpy as np\n",
    "import plotly.figure_factory as ff\n",
    "from sklearn.metrics import confusion_matrix\n",
    "import plotly.express as px\n",
    "import os, librosa\n",
    "from tqdm import tqdm\n",
    "import torchaudio\n",
    "from sklearn.model_selection import train_test_split\n",
    "from sklearn.preprocessing import LabelEncoder\n",
    "import IPython.display as ipd\n",
    "import matplotlib.pyplot as plt\n",
    "import seaborn as sns\n",
    "from tensorflow import keras\n",
    "from keras.utils import to_categorical\n",
    "from keras import layers, Sequential\n",
    "from keras.callbacks import EarlyStopping, ReduceLROnPlateau\n",
    "from sklearn.metrics import confusion_matrix\n",
    "from tensorflow.keras import layers\n",
    "from tensorflow.keras.models import Sequential\n",
    "from tensorflow.keras.optimizers import Adam\n",
    "from tensorflow.keras.callbacks import EarlyStopping, ReduceLROnPlateau\n",
    "from tensorflow.keras import regularizers\n",
    "import tensorflow as tf\n"
   ]
  },
  {
   "cell_type": "code",
   "execution_count": 13,
   "metadata": {},
   "outputs": [
    {
     "name": "stdout",
     "output_type": "stream",
     "text": [
      "[name: \"/device:CPU:0\"\n",
      "device_type: \"CPU\"\n",
      "memory_limit: 268435456\n",
      "locality {\n",
      "}\n",
      "incarnation: 10752792452178624065\n",
      "xla_global_id: -1\n",
      "]\n"
     ]
    }
   ],
   "source": [
    "from tensorflow.python.client import device_lib\n",
    "print(device_lib.list_local_devices())\n",
    "\n"
   ]
  },
  {
   "cell_type": "code",
   "execution_count": 3,
   "metadata": {},
   "outputs": [
    {
     "data": {
      "text/html": [
       "<div>\n",
       "<style scoped>\n",
       "    .dataframe tbody tr th:only-of-type {\n",
       "        vertical-align: middle;\n",
       "    }\n",
       "\n",
       "    .dataframe tbody tr th {\n",
       "        vertical-align: top;\n",
       "    }\n",
       "\n",
       "    .dataframe thead th {\n",
       "        text-align: right;\n",
       "    }\n",
       "</style>\n",
       "<table border=\"1\" class=\"dataframe\">\n",
       "  <thead>\n",
       "    <tr style=\"text-align: right;\">\n",
       "      <th></th>\n",
       "      <th>zcr_mean</th>\n",
       "      <th>energy_mean</th>\n",
       "      <th>energy_entropy_mean</th>\n",
       "      <th>spectral_centroid_mean</th>\n",
       "      <th>spectral_spread_mean</th>\n",
       "      <th>spectral_entropy_mean</th>\n",
       "      <th>spectral_flux_mean</th>\n",
       "      <th>spectral_rolloff_mean</th>\n",
       "      <th>mfcc_1_mean</th>\n",
       "      <th>mfcc_2_mean</th>\n",
       "      <th>...</th>\n",
       "      <th>delta chroma_7_std</th>\n",
       "      <th>delta chroma_8_std</th>\n",
       "      <th>delta chroma_9_std</th>\n",
       "      <th>delta chroma_10_std</th>\n",
       "      <th>delta chroma_11_std</th>\n",
       "      <th>delta chroma_12_std</th>\n",
       "      <th>delta chroma_std_std</th>\n",
       "      <th>bpm</th>\n",
       "      <th>ratio</th>\n",
       "      <th>Classes</th>\n",
       "    </tr>\n",
       "  </thead>\n",
       "  <tbody>\n",
       "    <tr>\n",
       "      <th>0</th>\n",
       "      <td>0.059571</td>\n",
       "      <td>0.013810</td>\n",
       "      <td>2.760099</td>\n",
       "      <td>0.153608</td>\n",
       "      <td>0.208083</td>\n",
       "      <td>0.319367</td>\n",
       "      <td>0.007084</td>\n",
       "      <td>0.073787</td>\n",
       "      <td>-28.106687</td>\n",
       "      <td>2.597397</td>\n",
       "      <td>...</td>\n",
       "      <td>0.031851</td>\n",
       "      <td>0.002397</td>\n",
       "      <td>0.016663</td>\n",
       "      <td>0.012523</td>\n",
       "      <td>0.017773</td>\n",
       "      <td>0.021164</td>\n",
       "      <td>0.016804</td>\n",
       "      <td>150.000000</td>\n",
       "      <td>0.333333</td>\n",
       "      <td>children_playing</td>\n",
       "    </tr>\n",
       "    <tr>\n",
       "      <th>1</th>\n",
       "      <td>0.068853</td>\n",
       "      <td>0.014112</td>\n",
       "      <td>3.098093</td>\n",
       "      <td>0.140553</td>\n",
       "      <td>0.169558</td>\n",
       "      <td>0.410356</td>\n",
       "      <td>0.005330</td>\n",
       "      <td>0.093027</td>\n",
       "      <td>-24.657740</td>\n",
       "      <td>0.601445</td>\n",
       "      <td>...</td>\n",
       "      <td>0.010810</td>\n",
       "      <td>0.005635</td>\n",
       "      <td>0.009398</td>\n",
       "      <td>0.005186</td>\n",
       "      <td>0.004059</td>\n",
       "      <td>0.004634</td>\n",
       "      <td>0.005723</td>\n",
       "      <td>85.714286</td>\n",
       "      <td>0.175000</td>\n",
       "      <td>children_playing</td>\n",
       "    </tr>\n",
       "    <tr>\n",
       "      <th>2</th>\n",
       "      <td>0.091936</td>\n",
       "      <td>0.038419</td>\n",
       "      <td>3.210188</td>\n",
       "      <td>0.150212</td>\n",
       "      <td>0.186407</td>\n",
       "      <td>0.992321</td>\n",
       "      <td>0.002087</td>\n",
       "      <td>0.120240</td>\n",
       "      <td>-22.550267</td>\n",
       "      <td>-0.042209</td>\n",
       "      <td>...</td>\n",
       "      <td>0.024040</td>\n",
       "      <td>0.004511</td>\n",
       "      <td>0.003712</td>\n",
       "      <td>0.007746</td>\n",
       "      <td>0.011042</td>\n",
       "      <td>0.001289</td>\n",
       "      <td>0.007112</td>\n",
       "      <td>75.000000</td>\n",
       "      <td>0.161290</td>\n",
       "      <td>children_playing</td>\n",
       "    </tr>\n",
       "    <tr>\n",
       "      <th>3</th>\n",
       "      <td>0.059038</td>\n",
       "      <td>0.040164</td>\n",
       "      <td>3.264842</td>\n",
       "      <td>0.106313</td>\n",
       "      <td>0.135973</td>\n",
       "      <td>0.436038</td>\n",
       "      <td>0.001945</td>\n",
       "      <td>0.085057</td>\n",
       "      <td>-20.523216</td>\n",
       "      <td>1.338314</td>\n",
       "      <td>...</td>\n",
       "      <td>0.010670</td>\n",
       "      <td>0.005959</td>\n",
       "      <td>0.005821</td>\n",
       "      <td>0.003573</td>\n",
       "      <td>0.006179</td>\n",
       "      <td>0.004083</td>\n",
       "      <td>0.003294</td>\n",
       "      <td>42.857143</td>\n",
       "      <td>0.133333</td>\n",
       "      <td>children_playing</td>\n",
       "    </tr>\n",
       "    <tr>\n",
       "      <th>4</th>\n",
       "      <td>0.015945</td>\n",
       "      <td>0.041795</td>\n",
       "      <td>2.936177</td>\n",
       "      <td>0.087112</td>\n",
       "      <td>0.164892</td>\n",
       "      <td>0.049966</td>\n",
       "      <td>0.011352</td>\n",
       "      <td>0.014921</td>\n",
       "      <td>-24.693257</td>\n",
       "      <td>2.411662</td>\n",
       "      <td>...</td>\n",
       "      <td>0.181156</td>\n",
       "      <td>0.002499</td>\n",
       "      <td>0.004122</td>\n",
       "      <td>0.006625</td>\n",
       "      <td>0.023765</td>\n",
       "      <td>0.008123</td>\n",
       "      <td>0.038304</td>\n",
       "      <td>100.000000</td>\n",
       "      <td>0.179487</td>\n",
       "      <td>children_playing</td>\n",
       "    </tr>\n",
       "    <tr>\n",
       "      <th>...</th>\n",
       "      <td>...</td>\n",
       "      <td>...</td>\n",
       "      <td>...</td>\n",
       "      <td>...</td>\n",
       "      <td>...</td>\n",
       "      <td>...</td>\n",
       "      <td>...</td>\n",
       "      <td>...</td>\n",
       "      <td>...</td>\n",
       "      <td>...</td>\n",
       "      <td>...</td>\n",
       "      <td>...</td>\n",
       "      <td>...</td>\n",
       "      <td>...</td>\n",
       "      <td>...</td>\n",
       "      <td>...</td>\n",
       "      <td>...</td>\n",
       "      <td>...</td>\n",
       "      <td>...</td>\n",
       "      <td>...</td>\n",
       "      <td>...</td>\n",
       "    </tr>\n",
       "    <tr>\n",
       "      <th>5337</th>\n",
       "      <td>0.147925</td>\n",
       "      <td>0.017386</td>\n",
       "      <td>2.770395</td>\n",
       "      <td>0.212368</td>\n",
       "      <td>0.197951</td>\n",
       "      <td>0.762406</td>\n",
       "      <td>0.004987</td>\n",
       "      <td>0.162449</td>\n",
       "      <td>-27.419145</td>\n",
       "      <td>0.153562</td>\n",
       "      <td>...</td>\n",
       "      <td>0.007328</td>\n",
       "      <td>0.003617</td>\n",
       "      <td>0.002804</td>\n",
       "      <td>0.003573</td>\n",
       "      <td>0.001756</td>\n",
       "      <td>0.002327</td>\n",
       "      <td>0.001542</td>\n",
       "      <td>600.000000</td>\n",
       "      <td>0.000000</td>\n",
       "      <td>dog_bark</td>\n",
       "    </tr>\n",
       "    <tr>\n",
       "      <th>5338</th>\n",
       "      <td>0.020674</td>\n",
       "      <td>0.011507</td>\n",
       "      <td>2.094007</td>\n",
       "      <td>0.097402</td>\n",
       "      <td>0.132085</td>\n",
       "      <td>0.213117</td>\n",
       "      <td>0.102750</td>\n",
       "      <td>0.041304</td>\n",
       "      <td>-44.146212</td>\n",
       "      <td>1.485591</td>\n",
       "      <td>...</td>\n",
       "      <td>0.005292</td>\n",
       "      <td>0.004837</td>\n",
       "      <td>0.005457</td>\n",
       "      <td>0.008903</td>\n",
       "      <td>0.012438</td>\n",
       "      <td>0.017566</td>\n",
       "      <td>0.010079</td>\n",
       "      <td>75.000000</td>\n",
       "      <td>0.333333</td>\n",
       "      <td>dog_bark</td>\n",
       "    </tr>\n",
       "    <tr>\n",
       "      <th>5339</th>\n",
       "      <td>0.059832</td>\n",
       "      <td>0.021739</td>\n",
       "      <td>2.960517</td>\n",
       "      <td>0.135032</td>\n",
       "      <td>0.200646</td>\n",
       "      <td>0.495383</td>\n",
       "      <td>0.003148</td>\n",
       "      <td>0.072880</td>\n",
       "      <td>-22.306442</td>\n",
       "      <td>1.902591</td>\n",
       "      <td>...</td>\n",
       "      <td>0.012886</td>\n",
       "      <td>0.007575</td>\n",
       "      <td>0.004371</td>\n",
       "      <td>0.007339</td>\n",
       "      <td>0.008028</td>\n",
       "      <td>0.005705</td>\n",
       "      <td>0.002457</td>\n",
       "      <td>200.000000</td>\n",
       "      <td>1.000000</td>\n",
       "      <td>dog_bark</td>\n",
       "    </tr>\n",
       "    <tr>\n",
       "      <th>5340</th>\n",
       "      <td>0.069025</td>\n",
       "      <td>0.028611</td>\n",
       "      <td>2.586032</td>\n",
       "      <td>0.117883</td>\n",
       "      <td>0.131261</td>\n",
       "      <td>0.612880</td>\n",
       "      <td>0.001446</td>\n",
       "      <td>0.102041</td>\n",
       "      <td>-25.519868</td>\n",
       "      <td>-2.746113</td>\n",
       "      <td>...</td>\n",
       "      <td>0.000476</td>\n",
       "      <td>0.001529</td>\n",
       "      <td>0.000647</td>\n",
       "      <td>0.000310</td>\n",
       "      <td>0.003288</td>\n",
       "      <td>0.003033</td>\n",
       "      <td>0.000554</td>\n",
       "      <td>600.000000</td>\n",
       "      <td>0.000000</td>\n",
       "      <td>dog_bark</td>\n",
       "    </tr>\n",
       "    <tr>\n",
       "      <th>5341</th>\n",
       "      <td>0.021116</td>\n",
       "      <td>0.081934</td>\n",
       "      <td>3.042614</td>\n",
       "      <td>0.103133</td>\n",
       "      <td>0.190951</td>\n",
       "      <td>0.055668</td>\n",
       "      <td>0.003981</td>\n",
       "      <td>0.017075</td>\n",
       "      <td>-21.927392</td>\n",
       "      <td>1.882131</td>\n",
       "      <td>...</td>\n",
       "      <td>0.066450</td>\n",
       "      <td>0.000438</td>\n",
       "      <td>0.001212</td>\n",
       "      <td>0.014103</td>\n",
       "      <td>0.028178</td>\n",
       "      <td>0.001203</td>\n",
       "      <td>0.023162</td>\n",
       "      <td>85.714286</td>\n",
       "      <td>0.139535</td>\n",
       "      <td>dog_bark</td>\n",
       "    </tr>\n",
       "  </tbody>\n",
       "</table>\n",
       "<p>5342 rows × 139 columns</p>\n",
       "</div>"
      ],
      "text/plain": [
       "      zcr_mean  energy_mean  energy_entropy_mean  spectral_centroid_mean  \\\n",
       "0     0.059571     0.013810             2.760099                0.153608   \n",
       "1     0.068853     0.014112             3.098093                0.140553   \n",
       "2     0.091936     0.038419             3.210188                0.150212   \n",
       "3     0.059038     0.040164             3.264842                0.106313   \n",
       "4     0.015945     0.041795             2.936177                0.087112   \n",
       "...        ...          ...                  ...                     ...   \n",
       "5337  0.147925     0.017386             2.770395                0.212368   \n",
       "5338  0.020674     0.011507             2.094007                0.097402   \n",
       "5339  0.059832     0.021739             2.960517                0.135032   \n",
       "5340  0.069025     0.028611             2.586032                0.117883   \n",
       "5341  0.021116     0.081934             3.042614                0.103133   \n",
       "\n",
       "      spectral_spread_mean  spectral_entropy_mean  spectral_flux_mean  \\\n",
       "0                 0.208083               0.319367            0.007084   \n",
       "1                 0.169558               0.410356            0.005330   \n",
       "2                 0.186407               0.992321            0.002087   \n",
       "3                 0.135973               0.436038            0.001945   \n",
       "4                 0.164892               0.049966            0.011352   \n",
       "...                    ...                    ...                 ...   \n",
       "5337              0.197951               0.762406            0.004987   \n",
       "5338              0.132085               0.213117            0.102750   \n",
       "5339              0.200646               0.495383            0.003148   \n",
       "5340              0.131261               0.612880            0.001446   \n",
       "5341              0.190951               0.055668            0.003981   \n",
       "\n",
       "      spectral_rolloff_mean  mfcc_1_mean  mfcc_2_mean  ...  \\\n",
       "0                  0.073787   -28.106687     2.597397  ...   \n",
       "1                  0.093027   -24.657740     0.601445  ...   \n",
       "2                  0.120240   -22.550267    -0.042209  ...   \n",
       "3                  0.085057   -20.523216     1.338314  ...   \n",
       "4                  0.014921   -24.693257     2.411662  ...   \n",
       "...                     ...          ...          ...  ...   \n",
       "5337               0.162449   -27.419145     0.153562  ...   \n",
       "5338               0.041304   -44.146212     1.485591  ...   \n",
       "5339               0.072880   -22.306442     1.902591  ...   \n",
       "5340               0.102041   -25.519868    -2.746113  ...   \n",
       "5341               0.017075   -21.927392     1.882131  ...   \n",
       "\n",
       "      delta chroma_7_std  delta chroma_8_std  delta chroma_9_std  \\\n",
       "0               0.031851            0.002397            0.016663   \n",
       "1               0.010810            0.005635            0.009398   \n",
       "2               0.024040            0.004511            0.003712   \n",
       "3               0.010670            0.005959            0.005821   \n",
       "4               0.181156            0.002499            0.004122   \n",
       "...                  ...                 ...                 ...   \n",
       "5337            0.007328            0.003617            0.002804   \n",
       "5338            0.005292            0.004837            0.005457   \n",
       "5339            0.012886            0.007575            0.004371   \n",
       "5340            0.000476            0.001529            0.000647   \n",
       "5341            0.066450            0.000438            0.001212   \n",
       "\n",
       "      delta chroma_10_std  delta chroma_11_std  delta chroma_12_std  \\\n",
       "0                0.012523             0.017773             0.021164   \n",
       "1                0.005186             0.004059             0.004634   \n",
       "2                0.007746             0.011042             0.001289   \n",
       "3                0.003573             0.006179             0.004083   \n",
       "4                0.006625             0.023765             0.008123   \n",
       "...                   ...                  ...                  ...   \n",
       "5337             0.003573             0.001756             0.002327   \n",
       "5338             0.008903             0.012438             0.017566   \n",
       "5339             0.007339             0.008028             0.005705   \n",
       "5340             0.000310             0.003288             0.003033   \n",
       "5341             0.014103             0.028178             0.001203   \n",
       "\n",
       "      delta chroma_std_std         bpm     ratio           Classes  \n",
       "0                 0.016804  150.000000  0.333333  children_playing  \n",
       "1                 0.005723   85.714286  0.175000  children_playing  \n",
       "2                 0.007112   75.000000  0.161290  children_playing  \n",
       "3                 0.003294   42.857143  0.133333  children_playing  \n",
       "4                 0.038304  100.000000  0.179487  children_playing  \n",
       "...                    ...         ...       ...               ...  \n",
       "5337              0.001542  600.000000  0.000000          dog_bark  \n",
       "5338              0.010079   75.000000  0.333333          dog_bark  \n",
       "5339              0.002457  200.000000  1.000000          dog_bark  \n",
       "5340              0.000554  600.000000  0.000000          dog_bark  \n",
       "5341              0.023162   85.714286  0.139535          dog_bark  \n",
       "\n",
       "[5342 rows x 139 columns]"
      ]
     },
     "execution_count": 3,
     "metadata": {},
     "output_type": "execute_result"
    }
   ],
   "source": [
    "\n",
    "\n",
    "# Replace 'filename.csv' with the path to your CSV file\n",
    "df = pd.read_csv('extracted_features.csv')\n",
    "\n",
    "# Print the DataFrame\n",
    "df"
   ]
  },
  {
   "cell_type": "code",
   "execution_count": 4,
   "metadata": {},
   "outputs": [],
   "source": [
    "# Convert features into numpy array\n",
    "x = df.drop(columns=['Classes']).values\n",
    "\n",
    "# Encode classes\n",
    "encoder = LabelEncoder()\n",
    "y = encoder.fit_transform(df['Classes'])\n",
    "y = to_categorical(y, num_classes=10)\n",
    "\n"
   ]
  },
  {
   "cell_type": "code",
   "execution_count": 8,
   "metadata": {},
   "outputs": [
    {
     "data": {
      "text/plain": [
       "(5342, 138)"
      ]
     },
     "execution_count": 8,
     "metadata": {},
     "output_type": "execute_result"
    }
   ],
   "source": [
    "x.shape"
   ]
  },
  {
   "cell_type": "code",
   "execution_count": 5,
   "metadata": {},
   "outputs": [],
   "source": [
    "# Train-validation split\n",
    "trainX, testX, trainY, testY = train_test_split(x, y, stratify=y, random_state=0)"
   ]
  },
  {
   "cell_type": "code",
   "execution_count": 11,
   "metadata": {},
   "outputs": [],
   "source": [
    "\n",
    "\n",
    "model = Sequential([\n",
    "    layers.Dense(512, activation='relu', input_shape=(138,)),\n",
    "    layers.BatchNormalization(axis=-1),\n",
    "    layers.Dropout(0.2),\n",
    "    \n",
    "    layers.Dense(256, activation='relu'),\n",
    "    layers.BatchNormalization(axis=-1),\n",
    "    layers.Dropout(0.2),\n",
    "    \n",
    "    layers.Dense(256, activation='relu'),\n",
    "    layers.BatchNormalization(axis=-1),\n",
    "    layers.Dropout(0.2),\n",
    "    \n",
    "    layers.Dense(128, activation='relu'),\n",
    "    layers.BatchNormalization(axis=-1),\n",
    "    layers.Dropout(0.2),\n",
    "    \n",
    "    layers.Dense(128, activation='relu'),\n",
    "    layers.BatchNormalization(axis=-1),\n",
    "    layers.Dropout(0.2),\n",
    "    \n",
    "    layers.Dense(64, activation='relu'),\n",
    "    layers.BatchNormalization(axis=-1),\n",
    "    layers.Dropout(0.2),\n",
    "    \n",
    "    layers.Dense(10, activation='softmax')\n",
    "])\n"
   ]
  },
  {
   "cell_type": "code",
   "execution_count": 15,
   "metadata": {},
   "outputs": [],
   "source": [
    "# Compile the model\n",
    "model.compile(optimizer='adam', loss='categorical_crossentropy', metrics=['accuracy'])"
   ]
  },
  {
   "cell_type": "code",
   "execution_count": 16,
   "metadata": {},
   "outputs": [],
   "source": [
    "# Define callbacks\n",
    "early_stopping = EarlyStopping(\n",
    "    monitor='val_accuracy',\n",
    "    min_delta=5e-4,\n",
    "    patience=10,\n",
    "    restore_best_weights=True\n",
    ")\n",
    "\n",
    "reduce_lr = ReduceLROnPlateau(\n",
    "    monitor='val_accuracy',\n",
    "    factor=0.5,\n",
    "    patience=3,\n",
    "    min_lr=1e-5\n",
    ")"
   ]
  },
  {
   "cell_type": "code",
   "execution_count": 17,
   "metadata": {},
   "outputs": [
    {
     "name": "stdout",
     "output_type": "stream",
     "text": [
      "Epoch 1/100\n",
      "\u001b[1m126/126\u001b[0m \u001b[32m━━━━━━━━━━━━━━━━━━━━\u001b[0m\u001b[37m\u001b[0m \u001b[1m4s\u001b[0m 6ms/step - accuracy: 0.1605 - loss: 2.6871 - val_accuracy: 0.2680 - val_loss: 2.0818 - learning_rate: 0.0010\n",
      "Epoch 2/100\n",
      "\u001b[1m126/126\u001b[0m \u001b[32m━━━━━━━━━━━━━━━━━━━━\u001b[0m\u001b[37m\u001b[0m \u001b[1m0s\u001b[0m 4ms/step - accuracy: 0.3046 - loss: 2.0225 - val_accuracy: 0.2927 - val_loss: 1.8743 - learning_rate: 0.0010\n",
      "Epoch 3/100\n",
      "\u001b[1m126/126\u001b[0m \u001b[32m━━━━━━━━━━━━━━━━━━━━\u001b[0m\u001b[37m\u001b[0m \u001b[1m1s\u001b[0m 4ms/step - accuracy: 0.3803 - loss: 1.7148 - val_accuracy: 0.3503 - val_loss: 1.7367 - learning_rate: 0.0010\n",
      "Epoch 4/100\n",
      "\u001b[1m126/126\u001b[0m \u001b[32m━━━━━━━━━━━━━━━━━━━━\u001b[0m\u001b[37m\u001b[0m \u001b[1m0s\u001b[0m 4ms/step - accuracy: 0.4659 - loss: 1.5016 - val_accuracy: 0.3765 - val_loss: 1.7066 - learning_rate: 0.0010\n",
      "Epoch 5/100\n",
      "\u001b[1m126/126\u001b[0m \u001b[32m━━━━━━━━━━━━━━━━━━━━\u001b[0m\u001b[37m\u001b[0m \u001b[1m1s\u001b[0m 4ms/step - accuracy: 0.4807 - loss: 1.4299 - val_accuracy: 0.4558 - val_loss: 1.3984 - learning_rate: 0.0010\n",
      "Epoch 6/100\n",
      "\u001b[1m126/126\u001b[0m \u001b[32m━━━━━━━━━━━━━━━━━━━━\u001b[0m\u001b[37m\u001b[0m \u001b[1m0s\u001b[0m 4ms/step - accuracy: 0.5092 - loss: 1.3628 - val_accuracy: 0.4633 - val_loss: 1.4817 - learning_rate: 0.0010\n",
      "Epoch 7/100\n",
      "\u001b[1m126/126\u001b[0m \u001b[32m━━━━━━━━━━━━━━━━━━━━\u001b[0m\u001b[37m\u001b[0m \u001b[1m0s\u001b[0m 4ms/step - accuracy: 0.5452 - loss: 1.2686 - val_accuracy: 0.3967 - val_loss: 1.7135 - learning_rate: 0.0010\n",
      "Epoch 8/100\n",
      "\u001b[1m126/126\u001b[0m \u001b[32m━━━━━━━━━━━━━━━━━━━━\u001b[0m\u001b[37m\u001b[0m \u001b[1m0s\u001b[0m 4ms/step - accuracy: 0.5694 - loss: 1.1854 - val_accuracy: 0.5576 - val_loss: 1.2156 - learning_rate: 0.0010\n",
      "Epoch 9/100\n",
      "\u001b[1m126/126\u001b[0m \u001b[32m━━━━━━━━━━━━━━━━━━━━\u001b[0m\u001b[37m\u001b[0m \u001b[1m1s\u001b[0m 4ms/step - accuracy: 0.5954 - loss: 1.1395 - val_accuracy: 0.3870 - val_loss: 1.8069 - learning_rate: 0.0010\n",
      "Epoch 10/100\n",
      "\u001b[1m126/126\u001b[0m \u001b[32m━━━━━━━━━━━━━━━━━━━━\u001b[0m\u001b[37m\u001b[0m \u001b[1m0s\u001b[0m 4ms/step - accuracy: 0.5875 - loss: 1.1532 - val_accuracy: 0.4124 - val_loss: 1.6372 - learning_rate: 0.0010\n",
      "Epoch 11/100\n",
      "\u001b[1m126/126\u001b[0m \u001b[32m━━━━━━━━━━━━━━━━━━━━\u001b[0m\u001b[37m\u001b[0m \u001b[1m1s\u001b[0m 4ms/step - accuracy: 0.5849 - loss: 1.1439 - val_accuracy: 0.5501 - val_loss: 1.2715 - learning_rate: 0.0010\n",
      "Epoch 12/100\n",
      "\u001b[1m126/126\u001b[0m \u001b[32m━━━━━━━━━━━━━━━━━━━━\u001b[0m\u001b[37m\u001b[0m \u001b[1m0s\u001b[0m 4ms/step - accuracy: 0.6220 - loss: 1.0289 - val_accuracy: 0.6587 - val_loss: 0.9502 - learning_rate: 5.0000e-04\n",
      "Epoch 13/100\n",
      "\u001b[1m126/126\u001b[0m \u001b[32m━━━━━━━━━━━━━━━━━━━━\u001b[0m\u001b[37m\u001b[0m \u001b[1m0s\u001b[0m 4ms/step - accuracy: 0.6475 - loss: 0.9971 - val_accuracy: 0.6370 - val_loss: 0.9687 - learning_rate: 5.0000e-04\n",
      "Epoch 14/100\n",
      "\u001b[1m126/126\u001b[0m \u001b[32m━━━━━━━━━━━━━━━━━━━━\u001b[0m\u001b[37m\u001b[0m \u001b[1m1s\u001b[0m 4ms/step - accuracy: 0.6484 - loss: 0.9860 - val_accuracy: 0.7126 - val_loss: 0.8198 - learning_rate: 5.0000e-04\n",
      "Epoch 15/100\n",
      "\u001b[1m126/126\u001b[0m \u001b[32m━━━━━━━━━━━━━━━━━━━━\u001b[0m\u001b[37m\u001b[0m \u001b[1m0s\u001b[0m 4ms/step - accuracy: 0.6440 - loss: 0.9756 - val_accuracy: 0.4903 - val_loss: 1.4875 - learning_rate: 5.0000e-04\n",
      "Epoch 16/100\n",
      "\u001b[1m126/126\u001b[0m \u001b[32m━━━━━━━━━━━━━━━━━━━━\u001b[0m\u001b[37m\u001b[0m \u001b[1m0s\u001b[0m 4ms/step - accuracy: 0.6689 - loss: 0.9432 - val_accuracy: 0.6759 - val_loss: 0.9078 - learning_rate: 5.0000e-04\n",
      "Epoch 17/100\n",
      "\u001b[1m126/126\u001b[0m \u001b[32m━━━━━━━━━━━━━━━━━━━━\u001b[0m\u001b[37m\u001b[0m \u001b[1m0s\u001b[0m 4ms/step - accuracy: 0.6722 - loss: 0.9216 - val_accuracy: 0.7171 - val_loss: 0.8209 - learning_rate: 5.0000e-04\n",
      "Epoch 18/100\n",
      "\u001b[1m126/126\u001b[0m \u001b[32m━━━━━━━━━━━━━━━━━━━━\u001b[0m\u001b[37m\u001b[0m \u001b[1m0s\u001b[0m 4ms/step - accuracy: 0.6875 - loss: 0.8995 - val_accuracy: 0.7096 - val_loss: 0.8297 - learning_rate: 5.0000e-04\n",
      "Epoch 19/100\n",
      "\u001b[1m126/126\u001b[0m \u001b[32m━━━━━━━━━━━━━━━━━━━━\u001b[0m\u001b[37m\u001b[0m \u001b[1m0s\u001b[0m 4ms/step - accuracy: 0.6764 - loss: 0.9077 - val_accuracy: 0.7305 - val_loss: 0.7802 - learning_rate: 5.0000e-04\n",
      "Epoch 20/100\n",
      "\u001b[1m126/126\u001b[0m \u001b[32m━━━━━━━━━━━━━━━━━━━━\u001b[0m\u001b[37m\u001b[0m \u001b[1m0s\u001b[0m 4ms/step - accuracy: 0.6830 - loss: 0.9047 - val_accuracy: 0.6901 - val_loss: 0.8335 - learning_rate: 5.0000e-04\n",
      "Epoch 21/100\n",
      "\u001b[1m126/126\u001b[0m \u001b[32m━━━━━━━━━━━━━━━━━━━━\u001b[0m\u001b[37m\u001b[0m \u001b[1m0s\u001b[0m 4ms/step - accuracy: 0.6857 - loss: 0.8903 - val_accuracy: 0.7081 - val_loss: 0.8528 - learning_rate: 5.0000e-04\n",
      "Epoch 22/100\n",
      "\u001b[1m126/126\u001b[0m \u001b[32m━━━━━━━━━━━━━━━━━━━━\u001b[0m\u001b[37m\u001b[0m \u001b[1m0s\u001b[0m 4ms/step - accuracy: 0.7068 - loss: 0.8585 - val_accuracy: 0.6722 - val_loss: 0.9472 - learning_rate: 5.0000e-04\n",
      "Epoch 23/100\n",
      "\u001b[1m126/126\u001b[0m \u001b[32m━━━━━━━━━━━━━━━━━━━━\u001b[0m\u001b[37m\u001b[0m \u001b[1m0s\u001b[0m 4ms/step - accuracy: 0.7040 - loss: 0.8412 - val_accuracy: 0.7470 - val_loss: 0.7159 - learning_rate: 2.5000e-04\n",
      "Epoch 24/100\n",
      "\u001b[1m126/126\u001b[0m \u001b[32m━━━━━━━━━━━━━━━━━━━━\u001b[0m\u001b[37m\u001b[0m \u001b[1m0s\u001b[0m 4ms/step - accuracy: 0.7208 - loss: 0.8096 - val_accuracy: 0.7343 - val_loss: 0.7235 - learning_rate: 2.5000e-04\n",
      "Epoch 25/100\n",
      "\u001b[1m126/126\u001b[0m \u001b[32m━━━━━━━━━━━━━━━━━━━━\u001b[0m\u001b[37m\u001b[0m \u001b[1m1s\u001b[0m 4ms/step - accuracy: 0.7313 - loss: 0.8033 - val_accuracy: 0.7373 - val_loss: 0.7318 - learning_rate: 2.5000e-04\n",
      "Epoch 26/100\n",
      "\u001b[1m126/126\u001b[0m \u001b[32m━━━━━━━━━━━━━━━━━━━━\u001b[0m\u001b[37m\u001b[0m \u001b[1m0s\u001b[0m 3ms/step - accuracy: 0.7215 - loss: 0.7816 - val_accuracy: 0.7305 - val_loss: 0.7387 - learning_rate: 2.5000e-04\n",
      "Epoch 27/100\n",
      "\u001b[1m126/126\u001b[0m \u001b[32m━━━━━━━━━━━━━━━━━━━━\u001b[0m\u001b[37m\u001b[0m \u001b[1m0s\u001b[0m 4ms/step - accuracy: 0.7282 - loss: 0.7843 - val_accuracy: 0.7680 - val_loss: 0.6625 - learning_rate: 1.2500e-04\n",
      "Epoch 28/100\n",
      "\u001b[1m126/126\u001b[0m \u001b[32m━━━━━━━━━━━━━━━━━━━━\u001b[0m\u001b[37m\u001b[0m \u001b[1m0s\u001b[0m 4ms/step - accuracy: 0.7327 - loss: 0.7613 - val_accuracy: 0.7657 - val_loss: 0.6552 - learning_rate: 1.2500e-04\n",
      "Epoch 29/100\n",
      "\u001b[1m126/126\u001b[0m \u001b[32m━━━━━━━━━━━━━━━━━━━━\u001b[0m\u001b[37m\u001b[0m \u001b[1m0s\u001b[0m 4ms/step - accuracy: 0.7346 - loss: 0.7644 - val_accuracy: 0.7650 - val_loss: 0.6582 - learning_rate: 1.2500e-04\n",
      "Epoch 30/100\n",
      "\u001b[1m126/126\u001b[0m \u001b[32m━━━━━━━━━━━━━━━━━━━━\u001b[0m\u001b[37m\u001b[0m \u001b[1m0s\u001b[0m 4ms/step - accuracy: 0.7349 - loss: 0.7796 - val_accuracy: 0.7844 - val_loss: 0.6201 - learning_rate: 1.2500e-04\n",
      "Epoch 31/100\n",
      "\u001b[1m126/126\u001b[0m \u001b[32m━━━━━━━━━━━━━━━━━━━━\u001b[0m\u001b[37m\u001b[0m \u001b[1m1s\u001b[0m 4ms/step - accuracy: 0.7541 - loss: 0.7094 - val_accuracy: 0.7852 - val_loss: 0.6241 - learning_rate: 1.2500e-04\n",
      "Epoch 32/100\n",
      "\u001b[1m126/126\u001b[0m \u001b[32m━━━━━━━━━━━━━━━━━━━━\u001b[0m\u001b[37m\u001b[0m \u001b[1m0s\u001b[0m 4ms/step - accuracy: 0.7666 - loss: 0.6782 - val_accuracy: 0.7837 - val_loss: 0.6176 - learning_rate: 1.2500e-04\n",
      "Epoch 33/100\n",
      "\u001b[1m126/126\u001b[0m \u001b[32m━━━━━━━━━━━━━━━━━━━━\u001b[0m\u001b[37m\u001b[0m \u001b[1m0s\u001b[0m 4ms/step - accuracy: 0.7431 - loss: 0.7319 - val_accuracy: 0.7957 - val_loss: 0.5914 - learning_rate: 1.2500e-04\n",
      "Epoch 34/100\n",
      "\u001b[1m126/126\u001b[0m \u001b[32m━━━━━━━━━━━━━━━━━━━━\u001b[0m\u001b[37m\u001b[0m \u001b[1m0s\u001b[0m 4ms/step - accuracy: 0.7656 - loss: 0.6944 - val_accuracy: 0.7740 - val_loss: 0.6154 - learning_rate: 1.2500e-04\n",
      "Epoch 35/100\n",
      "\u001b[1m126/126\u001b[0m \u001b[32m━━━━━━━━━━━━━━━━━━━━\u001b[0m\u001b[37m\u001b[0m \u001b[1m0s\u001b[0m 4ms/step - accuracy: 0.7476 - loss: 0.7132 - val_accuracy: 0.7942 - val_loss: 0.5990 - learning_rate: 1.2500e-04\n",
      "Epoch 36/100\n",
      "\u001b[1m126/126\u001b[0m \u001b[32m━━━━━━━━━━━━━━━━━━━━\u001b[0m\u001b[37m\u001b[0m \u001b[1m1s\u001b[0m 4ms/step - accuracy: 0.7621 - loss: 0.6841 - val_accuracy: 0.7844 - val_loss: 0.6169 - learning_rate: 1.2500e-04\n",
      "Epoch 37/100\n",
      "\u001b[1m126/126\u001b[0m \u001b[32m━━━━━━━━━━━━━━━━━━━━\u001b[0m\u001b[37m\u001b[0m \u001b[1m0s\u001b[0m 4ms/step - accuracy: 0.7610 - loss: 0.7013 - val_accuracy: 0.8031 - val_loss: 0.5767 - learning_rate: 6.2500e-05\n",
      "Epoch 38/100\n",
      "\u001b[1m126/126\u001b[0m \u001b[32m━━━━━━━━━━━━━━━━━━━━\u001b[0m\u001b[37m\u001b[0m \u001b[1m0s\u001b[0m 4ms/step - accuracy: 0.7694 - loss: 0.6771 - val_accuracy: 0.7934 - val_loss: 0.5912 - learning_rate: 6.2500e-05\n",
      "Epoch 39/100\n",
      "\u001b[1m126/126\u001b[0m \u001b[32m━━━━━━━━━━━━━━━━━━━━\u001b[0m\u001b[37m\u001b[0m \u001b[1m0s\u001b[0m 4ms/step - accuracy: 0.7757 - loss: 0.6626 - val_accuracy: 0.7987 - val_loss: 0.5811 - learning_rate: 6.2500e-05\n",
      "Epoch 40/100\n",
      "\u001b[1m126/126\u001b[0m \u001b[32m━━━━━━━━━━━━━━━━━━━━\u001b[0m\u001b[37m\u001b[0m \u001b[1m0s\u001b[0m 4ms/step - accuracy: 0.7650 - loss: 0.6991 - val_accuracy: 0.8039 - val_loss: 0.5690 - learning_rate: 6.2500e-05\n",
      "Epoch 41/100\n",
      "\u001b[1m126/126\u001b[0m \u001b[32m━━━━━━━━━━━━━━━━━━━━\u001b[0m\u001b[37m\u001b[0m \u001b[1m0s\u001b[0m 4ms/step - accuracy: 0.7701 - loss: 0.6892 - val_accuracy: 0.8046 - val_loss: 0.5810 - learning_rate: 6.2500e-05\n",
      "Epoch 42/100\n",
      "\u001b[1m126/126\u001b[0m \u001b[32m━━━━━━━━━━━━━━━━━━━━\u001b[0m\u001b[37m\u001b[0m \u001b[1m0s\u001b[0m 4ms/step - accuracy: 0.7686 - loss: 0.6646 - val_accuracy: 0.8016 - val_loss: 0.5709 - learning_rate: 6.2500e-05\n",
      "Epoch 43/100\n",
      "\u001b[1m126/126\u001b[0m \u001b[32m━━━━━━━━━━━━━━━━━━━━\u001b[0m\u001b[37m\u001b[0m \u001b[1m0s\u001b[0m 3ms/step - accuracy: 0.7695 - loss: 0.6668 - val_accuracy: 0.8009 - val_loss: 0.5688 - learning_rate: 6.2500e-05\n",
      "Epoch 44/100\n",
      "\u001b[1m126/126\u001b[0m \u001b[32m━━━━━━━━━━━━━━━━━━━━\u001b[0m\u001b[37m\u001b[0m \u001b[1m0s\u001b[0m 4ms/step - accuracy: 0.7687 - loss: 0.7009 - val_accuracy: 0.8039 - val_loss: 0.5690 - learning_rate: 6.2500e-05\n",
      "Epoch 45/100\n",
      "\u001b[1m126/126\u001b[0m \u001b[32m━━━━━━━━━━━━━━━━━━━━\u001b[0m\u001b[37m\u001b[0m \u001b[1m1s\u001b[0m 4ms/step - accuracy: 0.7820 - loss: 0.6617 - val_accuracy: 0.8106 - val_loss: 0.5528 - learning_rate: 3.1250e-05\n",
      "Epoch 46/100\n",
      "\u001b[1m126/126\u001b[0m \u001b[32m━━━━━━━━━━━━━━━━━━━━\u001b[0m\u001b[37m\u001b[0m \u001b[1m1s\u001b[0m 4ms/step - accuracy: 0.7778 - loss: 0.6590 - val_accuracy: 0.8091 - val_loss: 0.5575 - learning_rate: 3.1250e-05\n",
      "Epoch 47/100\n",
      "\u001b[1m126/126\u001b[0m \u001b[32m━━━━━━━━━━━━━━━━━━━━\u001b[0m\u001b[37m\u001b[0m \u001b[1m0s\u001b[0m 3ms/step - accuracy: 0.7707 - loss: 0.6857 - val_accuracy: 0.8046 - val_loss: 0.5514 - learning_rate: 3.1250e-05\n",
      "Epoch 48/100\n",
      "\u001b[1m126/126\u001b[0m \u001b[32m━━━━━━━━━━━━━━━━━━━━\u001b[0m\u001b[37m\u001b[0m \u001b[1m0s\u001b[0m 4ms/step - accuracy: 0.7802 - loss: 0.6566 - val_accuracy: 0.8121 - val_loss: 0.5473 - learning_rate: 3.1250e-05\n",
      "Epoch 49/100\n",
      "\u001b[1m126/126\u001b[0m \u001b[32m━━━━━━━━━━━━━━━━━━━━\u001b[0m\u001b[37m\u001b[0m \u001b[1m0s\u001b[0m 4ms/step - accuracy: 0.7636 - loss: 0.6699 - val_accuracy: 0.8166 - val_loss: 0.5384 - learning_rate: 3.1250e-05\n",
      "Epoch 50/100\n",
      "\u001b[1m126/126\u001b[0m \u001b[32m━━━━━━━━━━━━━━━━━━━━\u001b[0m\u001b[37m\u001b[0m \u001b[1m0s\u001b[0m 4ms/step - accuracy: 0.7756 - loss: 0.6515 - val_accuracy: 0.8099 - val_loss: 0.5510 - learning_rate: 3.1250e-05\n",
      "Epoch 51/100\n",
      "\u001b[1m126/126\u001b[0m \u001b[32m━━━━━━━━━━━━━━━━━━━━\u001b[0m\u001b[37m\u001b[0m \u001b[1m0s\u001b[0m 4ms/step - accuracy: 0.7910 - loss: 0.6091 - val_accuracy: 0.8144 - val_loss: 0.5451 - learning_rate: 3.1250e-05\n",
      "Epoch 52/100\n",
      "\u001b[1m126/126\u001b[0m \u001b[32m━━━━━━━━━━━━━━━━━━━━\u001b[0m\u001b[37m\u001b[0m \u001b[1m0s\u001b[0m 4ms/step - accuracy: 0.7751 - loss: 0.6469 - val_accuracy: 0.8046 - val_loss: 0.5486 - learning_rate: 3.1250e-05\n",
      "Epoch 53/100\n",
      "\u001b[1m126/126\u001b[0m \u001b[32m━━━━━━━━━━━━━━━━━━━━\u001b[0m\u001b[37m\u001b[0m \u001b[1m1s\u001b[0m 4ms/step - accuracy: 0.7946 - loss: 0.6241 - val_accuracy: 0.8166 - val_loss: 0.5348 - learning_rate: 1.5625e-05\n",
      "Epoch 54/100\n",
      "\u001b[1m126/126\u001b[0m \u001b[32m━━━━━━━━━━━━━━━━━━━━\u001b[0m\u001b[37m\u001b[0m \u001b[1m1s\u001b[0m 4ms/step - accuracy: 0.7765 - loss: 0.6560 - val_accuracy: 0.8144 - val_loss: 0.5355 - learning_rate: 1.5625e-05\n",
      "Epoch 55/100\n",
      "\u001b[1m126/126\u001b[0m \u001b[32m━━━━━━━━━━━━━━━━━━━━\u001b[0m\u001b[37m\u001b[0m \u001b[1m0s\u001b[0m 4ms/step - accuracy: 0.7805 - loss: 0.6427 - val_accuracy: 0.8174 - val_loss: 0.5391 - learning_rate: 1.5625e-05\n",
      "Epoch 56/100\n",
      "\u001b[1m126/126\u001b[0m \u001b[32m━━━━━━━━━━━━━━━━━━━━\u001b[0m\u001b[37m\u001b[0m \u001b[1m0s\u001b[0m 4ms/step - accuracy: 0.7642 - loss: 0.6491 - val_accuracy: 0.8129 - val_loss: 0.5313 - learning_rate: 1.5625e-05\n",
      "Epoch 57/100\n",
      "\u001b[1m126/126\u001b[0m \u001b[32m━━━━━━━━━━━━━━━━━━━━\u001b[0m\u001b[37m\u001b[0m \u001b[1m1s\u001b[0m 4ms/step - accuracy: 0.7913 - loss: 0.6235 - val_accuracy: 0.8129 - val_loss: 0.5298 - learning_rate: 1.5625e-05\n",
      "Epoch 58/100\n",
      "\u001b[1m126/126\u001b[0m \u001b[32m━━━━━━━━━━━━━━━━━━━━\u001b[0m\u001b[37m\u001b[0m \u001b[1m0s\u001b[0m 4ms/step - accuracy: 0.7752 - loss: 0.6494 - val_accuracy: 0.8166 - val_loss: 0.5326 - learning_rate: 1.5625e-05\n",
      "Epoch 59/100\n",
      "\u001b[1m126/126\u001b[0m \u001b[32m━━━━━━━━━━━━━━━━━━━━\u001b[0m\u001b[37m\u001b[0m \u001b[1m0s\u001b[0m 4ms/step - accuracy: 0.7927 - loss: 0.6187 - val_accuracy: 0.8166 - val_loss: 0.5279 - learning_rate: 1.0000e-05\n",
      "Epoch 60/100\n",
      "\u001b[1m126/126\u001b[0m \u001b[32m━━━━━━━━━━━━━━━━━━━━\u001b[0m\u001b[37m\u001b[0m \u001b[1m1s\u001b[0m 4ms/step - accuracy: 0.7944 - loss: 0.6189 - val_accuracy: 0.8151 - val_loss: 0.5316 - learning_rate: 1.0000e-05\n",
      "Epoch 61/100\n",
      "\u001b[1m126/126\u001b[0m \u001b[32m━━━━━━━━━━━━━━━━━━━━\u001b[0m\u001b[37m\u001b[0m \u001b[1m0s\u001b[0m 4ms/step - accuracy: 0.7928 - loss: 0.6243 - val_accuracy: 0.8151 - val_loss: 0.5303 - learning_rate: 1.0000e-05\n",
      "Epoch 62/100\n",
      "\u001b[1m126/126\u001b[0m \u001b[32m━━━━━━━━━━━━━━━━━━━━\u001b[0m\u001b[37m\u001b[0m \u001b[1m0s\u001b[0m 4ms/step - accuracy: 0.7920 - loss: 0.6386 - val_accuracy: 0.8129 - val_loss: 0.5297 - learning_rate: 1.0000e-05\n",
      "Epoch 63/100\n",
      "\u001b[1m126/126\u001b[0m \u001b[32m━━━━━━━━━━━━━━━━━━━━\u001b[0m\u001b[37m\u001b[0m \u001b[1m0s\u001b[0m 4ms/step - accuracy: 0.7828 - loss: 0.6329 - val_accuracy: 0.8159 - val_loss: 0.5305 - learning_rate: 1.0000e-05\n",
      "Epoch 64/100\n",
      "\u001b[1m126/126\u001b[0m \u001b[32m━━━━━━━━━━━━━━━━━━━━\u001b[0m\u001b[37m\u001b[0m \u001b[1m0s\u001b[0m 4ms/step - accuracy: 0.7838 - loss: 0.6306 - val_accuracy: 0.8204 - val_loss: 0.5290 - learning_rate: 1.0000e-05\n",
      "Epoch 65/100\n",
      "\u001b[1m126/126\u001b[0m \u001b[32m━━━━━━━━━━━━━━━━━━━━\u001b[0m\u001b[37m\u001b[0m \u001b[1m1s\u001b[0m 4ms/step - accuracy: 0.7835 - loss: 0.6495 - val_accuracy: 0.8181 - val_loss: 0.5283 - learning_rate: 1.0000e-05\n",
      "Epoch 66/100\n",
      "\u001b[1m126/126\u001b[0m \u001b[32m━━━━━━━━━━━━━━━━━━━━\u001b[0m\u001b[37m\u001b[0m \u001b[1m0s\u001b[0m 4ms/step - accuracy: 0.7822 - loss: 0.6518 - val_accuracy: 0.8174 - val_loss: 0.5284 - learning_rate: 1.0000e-05\n",
      "Epoch 67/100\n",
      "\u001b[1m126/126\u001b[0m \u001b[32m━━━━━━━━━━━━━━━━━━━━\u001b[0m\u001b[37m\u001b[0m \u001b[1m0s\u001b[0m 4ms/step - accuracy: 0.8060 - loss: 0.5843 - val_accuracy: 0.8196 - val_loss: 0.5264 - learning_rate: 1.0000e-05\n",
      "Epoch 68/100\n",
      "\u001b[1m126/126\u001b[0m \u001b[32m━━━━━━━━━━━━━━━━━━━━\u001b[0m\u001b[37m\u001b[0m \u001b[1m0s\u001b[0m 4ms/step - accuracy: 0.7911 - loss: 0.6233 - val_accuracy: 0.8166 - val_loss: 0.5264 - learning_rate: 1.0000e-05\n",
      "Epoch 69/100\n",
      "\u001b[1m126/126\u001b[0m \u001b[32m━━━━━━━━━━━━━━━━━━━━\u001b[0m\u001b[37m\u001b[0m \u001b[1m1s\u001b[0m 4ms/step - accuracy: 0.7855 - loss: 0.6360 - val_accuracy: 0.8181 - val_loss: 0.5256 - learning_rate: 1.0000e-05\n",
      "Epoch 70/100\n",
      "\u001b[1m126/126\u001b[0m \u001b[32m━━━━━━━━━━━━━━━━━━━━\u001b[0m\u001b[37m\u001b[0m \u001b[1m0s\u001b[0m 3ms/step - accuracy: 0.7924 - loss: 0.6113 - val_accuracy: 0.8151 - val_loss: 0.5271 - learning_rate: 1.0000e-05\n",
      "Epoch 71/100\n",
      "\u001b[1m126/126\u001b[0m \u001b[32m━━━━━━━━━━━━━━━━━━━━\u001b[0m\u001b[37m\u001b[0m \u001b[1m0s\u001b[0m 4ms/step - accuracy: 0.7873 - loss: 0.6328 - val_accuracy: 0.8181 - val_loss: 0.5267 - learning_rate: 1.0000e-05\n",
      "Epoch 72/100\n",
      "\u001b[1m126/126\u001b[0m \u001b[32m━━━━━━━━━━━━━━━━━━━━\u001b[0m\u001b[37m\u001b[0m \u001b[1m1s\u001b[0m 4ms/step - accuracy: 0.7916 - loss: 0.6154 - val_accuracy: 0.8181 - val_loss: 0.5252 - learning_rate: 1.0000e-05\n",
      "Epoch 73/100\n",
      "\u001b[1m126/126\u001b[0m \u001b[32m━━━━━━━━━━━━━━━━━━━━\u001b[0m\u001b[37m\u001b[0m \u001b[1m1s\u001b[0m 4ms/step - accuracy: 0.7890 - loss: 0.6300 - val_accuracy: 0.8174 - val_loss: 0.5231 - learning_rate: 1.0000e-05\n",
      "Epoch 74/100\n",
      "\u001b[1m126/126\u001b[0m \u001b[32m━━━━━━━━━━━━━━━━━━━━\u001b[0m\u001b[37m\u001b[0m \u001b[1m0s\u001b[0m 4ms/step - accuracy: 0.7808 - loss: 0.6614 - val_accuracy: 0.8219 - val_loss: 0.5244 - learning_rate: 1.0000e-05\n",
      "Epoch 75/100\n",
      "\u001b[1m126/126\u001b[0m \u001b[32m━━━━━━━━━━━━━━━━━━━━\u001b[0m\u001b[37m\u001b[0m \u001b[1m0s\u001b[0m 4ms/step - accuracy: 0.7887 - loss: 0.6148 - val_accuracy: 0.8189 - val_loss: 0.5218 - learning_rate: 1.0000e-05\n",
      "Epoch 76/100\n",
      "\u001b[1m126/126\u001b[0m \u001b[32m━━━━━━━━━━━━━━━━━━━━\u001b[0m\u001b[37m\u001b[0m \u001b[1m0s\u001b[0m 4ms/step - accuracy: 0.7903 - loss: 0.6656 - val_accuracy: 0.8196 - val_loss: 0.5227 - learning_rate: 1.0000e-05\n",
      "Epoch 77/100\n",
      "\u001b[1m126/126\u001b[0m \u001b[32m━━━━━━━━━━━━━━━━━━━━\u001b[0m\u001b[37m\u001b[0m \u001b[1m0s\u001b[0m 4ms/step - accuracy: 0.8007 - loss: 0.6196 - val_accuracy: 0.8166 - val_loss: 0.5268 - learning_rate: 1.0000e-05\n",
      "Epoch 78/100\n",
      "\u001b[1m126/126\u001b[0m \u001b[32m━━━━━━━━━━━━━━━━━━━━\u001b[0m\u001b[37m\u001b[0m \u001b[1m1s\u001b[0m 4ms/step - accuracy: 0.7968 - loss: 0.6344 - val_accuracy: 0.8121 - val_loss: 0.5261 - learning_rate: 1.0000e-05\n",
      "Epoch 79/100\n",
      "\u001b[1m126/126\u001b[0m \u001b[32m━━━━━━━━━━━━━━━━━━━━\u001b[0m\u001b[37m\u001b[0m \u001b[1m0s\u001b[0m 4ms/step - accuracy: 0.7992 - loss: 0.6121 - val_accuracy: 0.8174 - val_loss: 0.5241 - learning_rate: 1.0000e-05\n",
      "Epoch 80/100\n",
      "\u001b[1m126/126\u001b[0m \u001b[32m━━━━━━━━━━━━━━━━━━━━\u001b[0m\u001b[37m\u001b[0m \u001b[1m0s\u001b[0m 4ms/step - accuracy: 0.7886 - loss: 0.6276 - val_accuracy: 0.8226 - val_loss: 0.5214 - learning_rate: 1.0000e-05\n",
      "Epoch 81/100\n",
      "\u001b[1m126/126\u001b[0m \u001b[32m━━━━━━━━━━━━━━━━━━━━\u001b[0m\u001b[37m\u001b[0m \u001b[1m1s\u001b[0m 4ms/step - accuracy: 0.7887 - loss: 0.6298 - val_accuracy: 0.8189 - val_loss: 0.5210 - learning_rate: 1.0000e-05\n",
      "Epoch 82/100\n",
      "\u001b[1m126/126\u001b[0m \u001b[32m━━━━━━━━━━━━━━━━━━━━\u001b[0m\u001b[37m\u001b[0m \u001b[1m0s\u001b[0m 4ms/step - accuracy: 0.7768 - loss: 0.6337 - val_accuracy: 0.8174 - val_loss: 0.5220 - learning_rate: 1.0000e-05\n",
      "Epoch 83/100\n",
      "\u001b[1m126/126\u001b[0m \u001b[32m━━━━━━━━━━━━━━━━━━━━\u001b[0m\u001b[37m\u001b[0m \u001b[1m0s\u001b[0m 4ms/step - accuracy: 0.7858 - loss: 0.6253 - val_accuracy: 0.8151 - val_loss: 0.5208 - learning_rate: 1.0000e-05\n",
      "Epoch 84/100\n",
      "\u001b[1m126/126\u001b[0m \u001b[32m━━━━━━━━━━━━━━━━━━━━\u001b[0m\u001b[37m\u001b[0m \u001b[1m1s\u001b[0m 4ms/step - accuracy: 0.7914 - loss: 0.6044 - val_accuracy: 0.8174 - val_loss: 0.5216 - learning_rate: 1.0000e-05\n",
      "Epoch 85/100\n",
      "\u001b[1m126/126\u001b[0m \u001b[32m━━━━━━━━━━━━━━━━━━━━\u001b[0m\u001b[37m\u001b[0m \u001b[1m1s\u001b[0m 4ms/step - accuracy: 0.7857 - loss: 0.6247 - val_accuracy: 0.8136 - val_loss: 0.5233 - learning_rate: 1.0000e-05\n",
      "Epoch 86/100\n",
      "\u001b[1m126/126\u001b[0m \u001b[32m━━━━━━━━━━━━━━━━━━━━\u001b[0m\u001b[37m\u001b[0m \u001b[1m1s\u001b[0m 4ms/step - accuracy: 0.7958 - loss: 0.6234 - val_accuracy: 0.8196 - val_loss: 0.5201 - learning_rate: 1.0000e-05\n",
      "Epoch 87/100\n",
      "\u001b[1m126/126\u001b[0m \u001b[32m━━━━━━━━━━━━━━━━━━━━\u001b[0m\u001b[37m\u001b[0m \u001b[1m1s\u001b[0m 4ms/step - accuracy: 0.7870 - loss: 0.6269 - val_accuracy: 0.8174 - val_loss: 0.5195 - learning_rate: 1.0000e-05\n",
      "Epoch 88/100\n",
      "\u001b[1m126/126\u001b[0m \u001b[32m━━━━━━━━━━━━━━━━━━━━\u001b[0m\u001b[37m\u001b[0m \u001b[1m0s\u001b[0m 4ms/step - accuracy: 0.7933 - loss: 0.5995 - val_accuracy: 0.8166 - val_loss: 0.5219 - learning_rate: 1.0000e-05\n",
      "Epoch 89/100\n",
      "\u001b[1m126/126\u001b[0m \u001b[32m━━━━━━━━━━━━━━━━━━━━\u001b[0m\u001b[37m\u001b[0m \u001b[1m0s\u001b[0m 4ms/step - accuracy: 0.7835 - loss: 0.6617 - val_accuracy: 0.8204 - val_loss: 0.5180 - learning_rate: 1.0000e-05\n",
      "Epoch 90/100\n",
      "\u001b[1m126/126\u001b[0m \u001b[32m━━━━━━━━━━━━━━━━━━━━\u001b[0m\u001b[37m\u001b[0m \u001b[1m0s\u001b[0m 3ms/step - accuracy: 0.8000 - loss: 0.6079 - val_accuracy: 0.8219 - val_loss: 0.5171 - learning_rate: 1.0000e-05\n"
     ]
    }
   ],
   "source": [
    "# Train the model\n",
    "Train_model = model.fit(\n",
    "    trainX, trainY,\n",
    "    validation_data=(testX, testY),\n",
    "    epochs=100,\n",
    "    callbacks=[early_stopping, reduce_lr]\n",
    ")"
   ]
  },
  {
   "cell_type": "code",
   "execution_count": 19,
   "metadata": {},
   "outputs": [
    {
     "name": "stdout",
     "output_type": "stream",
     "text": [
      "\u001b[1m42/42\u001b[0m \u001b[32m━━━━━━━━━━━━━━━━━━━━\u001b[0m\u001b[37m\u001b[0m \u001b[1m0s\u001b[0m 1ms/step \n"
     ]
    },
    {
     "data": {
      "application/vnd.plotly.v1+json": {
       "config": {
        "plotlyServerURL": "https://plot.ly"
       },
       "data": [
        {
         "colorscale": [
          [
           0,
           "#440154"
          ],
          [
           0.1111111111111111,
           "#482878"
          ],
          [
           0.2222222222222222,
           "#3e4989"
          ],
          [
           0.3333333333333333,
           "#31688e"
          ],
          [
           0.4444444444444444,
           "#26828e"
          ],
          [
           0.5555555555555556,
           "#1f9e89"
          ],
          [
           0.6666666666666666,
           "#35b779"
          ],
          [
           0.7777777777777778,
           "#6ece58"
          ],
          [
           0.8888888888888888,
           "#b5de2b"
          ],
          [
           1,
           "#fde725"
          ]
         ],
         "reversescale": false,
         "showscale": false,
         "type": "heatmap",
         "x": [
          "air_conditioner",
          "car_horn",
          "children_playing",
          "dog_bark",
          "drilling",
          "engine_idling",
          "gun_shot",
          "siren",
          "street_music"
         ],
         "y": [
          "air_conditioner",
          "car_horn",
          "children_playing",
          "dog_bark",
          "drilling",
          "engine_idling",
          "gun_shot",
          "siren",
          "street_music"
         ],
         "z": [
          [
           133,
           0,
           2,
           2,
           3,
           10,
           0,
           0,
           0
          ],
          [
           2,
           56,
           1,
           2,
           5,
           1,
           5,
           0,
           0
          ],
          [
           9,
           1,
           261,
           1,
           3,
           0,
           1,
           0,
           24
          ],
          [
           3,
           4,
           17,
           105,
           5,
           4,
           6,
           0,
           5
          ],
          [
           1,
           8,
           3,
           4,
           123,
           3,
           3,
           1,
           4
          ],
          [
           12,
           0,
           1,
           2,
           2,
           136,
           0,
           0,
           3
          ],
          [
           0,
           2,
           0,
           3,
           5,
           0,
           47,
           0,
           0
          ],
          [
           3,
           0,
           4,
           0,
           0,
           2,
           0,
           139,
           4
          ],
          [
           7,
           0,
           34,
           1,
           0,
           5,
           0,
           4,
           99
          ]
         ]
        }
       ],
       "layout": {
        "annotations": [
         {
          "font": {
           "color": "#000000"
          },
          "showarrow": false,
          "text": "133",
          "x": "air_conditioner",
          "xref": "x",
          "y": "air_conditioner",
          "yref": "y"
         },
         {
          "font": {
           "color": "#FFFFFF"
          },
          "showarrow": false,
          "text": "0",
          "x": "car_horn",
          "xref": "x",
          "y": "air_conditioner",
          "yref": "y"
         },
         {
          "font": {
           "color": "#FFFFFF"
          },
          "showarrow": false,
          "text": "2",
          "x": "children_playing",
          "xref": "x",
          "y": "air_conditioner",
          "yref": "y"
         },
         {
          "font": {
           "color": "#FFFFFF"
          },
          "showarrow": false,
          "text": "2",
          "x": "dog_bark",
          "xref": "x",
          "y": "air_conditioner",
          "yref": "y"
         },
         {
          "font": {
           "color": "#FFFFFF"
          },
          "showarrow": false,
          "text": "3",
          "x": "drilling",
          "xref": "x",
          "y": "air_conditioner",
          "yref": "y"
         },
         {
          "font": {
           "color": "#FFFFFF"
          },
          "showarrow": false,
          "text": "10",
          "x": "engine_idling",
          "xref": "x",
          "y": "air_conditioner",
          "yref": "y"
         },
         {
          "font": {
           "color": "#FFFFFF"
          },
          "showarrow": false,
          "text": "0",
          "x": "gun_shot",
          "xref": "x",
          "y": "air_conditioner",
          "yref": "y"
         },
         {
          "font": {
           "color": "#FFFFFF"
          },
          "showarrow": false,
          "text": "0",
          "x": "siren",
          "xref": "x",
          "y": "air_conditioner",
          "yref": "y"
         },
         {
          "font": {
           "color": "#FFFFFF"
          },
          "showarrow": false,
          "text": "0",
          "x": "street_music",
          "xref": "x",
          "y": "air_conditioner",
          "yref": "y"
         },
         {
          "font": {
           "color": "#FFFFFF"
          },
          "showarrow": false,
          "text": "2",
          "x": "air_conditioner",
          "xref": "x",
          "y": "car_horn",
          "yref": "y"
         },
         {
          "font": {
           "color": "#FFFFFF"
          },
          "showarrow": false,
          "text": "56",
          "x": "car_horn",
          "xref": "x",
          "y": "car_horn",
          "yref": "y"
         },
         {
          "font": {
           "color": "#FFFFFF"
          },
          "showarrow": false,
          "text": "1",
          "x": "children_playing",
          "xref": "x",
          "y": "car_horn",
          "yref": "y"
         },
         {
          "font": {
           "color": "#FFFFFF"
          },
          "showarrow": false,
          "text": "2",
          "x": "dog_bark",
          "xref": "x",
          "y": "car_horn",
          "yref": "y"
         },
         {
          "font": {
           "color": "#FFFFFF"
          },
          "showarrow": false,
          "text": "5",
          "x": "drilling",
          "xref": "x",
          "y": "car_horn",
          "yref": "y"
         },
         {
          "font": {
           "color": "#FFFFFF"
          },
          "showarrow": false,
          "text": "1",
          "x": "engine_idling",
          "xref": "x",
          "y": "car_horn",
          "yref": "y"
         },
         {
          "font": {
           "color": "#FFFFFF"
          },
          "showarrow": false,
          "text": "5",
          "x": "gun_shot",
          "xref": "x",
          "y": "car_horn",
          "yref": "y"
         },
         {
          "font": {
           "color": "#FFFFFF"
          },
          "showarrow": false,
          "text": "0",
          "x": "siren",
          "xref": "x",
          "y": "car_horn",
          "yref": "y"
         },
         {
          "font": {
           "color": "#FFFFFF"
          },
          "showarrow": false,
          "text": "0",
          "x": "street_music",
          "xref": "x",
          "y": "car_horn",
          "yref": "y"
         },
         {
          "font": {
           "color": "#FFFFFF"
          },
          "showarrow": false,
          "text": "9",
          "x": "air_conditioner",
          "xref": "x",
          "y": "children_playing",
          "yref": "y"
         },
         {
          "font": {
           "color": "#FFFFFF"
          },
          "showarrow": false,
          "text": "1",
          "x": "car_horn",
          "xref": "x",
          "y": "children_playing",
          "yref": "y"
         },
         {
          "font": {
           "color": "#000000"
          },
          "showarrow": false,
          "text": "261",
          "x": "children_playing",
          "xref": "x",
          "y": "children_playing",
          "yref": "y"
         },
         {
          "font": {
           "color": "#FFFFFF"
          },
          "showarrow": false,
          "text": "1",
          "x": "dog_bark",
          "xref": "x",
          "y": "children_playing",
          "yref": "y"
         },
         {
          "font": {
           "color": "#FFFFFF"
          },
          "showarrow": false,
          "text": "3",
          "x": "drilling",
          "xref": "x",
          "y": "children_playing",
          "yref": "y"
         },
         {
          "font": {
           "color": "#FFFFFF"
          },
          "showarrow": false,
          "text": "0",
          "x": "engine_idling",
          "xref": "x",
          "y": "children_playing",
          "yref": "y"
         },
         {
          "font": {
           "color": "#FFFFFF"
          },
          "showarrow": false,
          "text": "1",
          "x": "gun_shot",
          "xref": "x",
          "y": "children_playing",
          "yref": "y"
         },
         {
          "font": {
           "color": "#FFFFFF"
          },
          "showarrow": false,
          "text": "0",
          "x": "siren",
          "xref": "x",
          "y": "children_playing",
          "yref": "y"
         },
         {
          "font": {
           "color": "#FFFFFF"
          },
          "showarrow": false,
          "text": "24",
          "x": "street_music",
          "xref": "x",
          "y": "children_playing",
          "yref": "y"
         },
         {
          "font": {
           "color": "#FFFFFF"
          },
          "showarrow": false,
          "text": "3",
          "x": "air_conditioner",
          "xref": "x",
          "y": "dog_bark",
          "yref": "y"
         },
         {
          "font": {
           "color": "#FFFFFF"
          },
          "showarrow": false,
          "text": "4",
          "x": "car_horn",
          "xref": "x",
          "y": "dog_bark",
          "yref": "y"
         },
         {
          "font": {
           "color": "#FFFFFF"
          },
          "showarrow": false,
          "text": "17",
          "x": "children_playing",
          "xref": "x",
          "y": "dog_bark",
          "yref": "y"
         },
         {
          "font": {
           "color": "#FFFFFF"
          },
          "showarrow": false,
          "text": "105",
          "x": "dog_bark",
          "xref": "x",
          "y": "dog_bark",
          "yref": "y"
         },
         {
          "font": {
           "color": "#FFFFFF"
          },
          "showarrow": false,
          "text": "5",
          "x": "drilling",
          "xref": "x",
          "y": "dog_bark",
          "yref": "y"
         },
         {
          "font": {
           "color": "#FFFFFF"
          },
          "showarrow": false,
          "text": "4",
          "x": "engine_idling",
          "xref": "x",
          "y": "dog_bark",
          "yref": "y"
         },
         {
          "font": {
           "color": "#FFFFFF"
          },
          "showarrow": false,
          "text": "6",
          "x": "gun_shot",
          "xref": "x",
          "y": "dog_bark",
          "yref": "y"
         },
         {
          "font": {
           "color": "#FFFFFF"
          },
          "showarrow": false,
          "text": "0",
          "x": "siren",
          "xref": "x",
          "y": "dog_bark",
          "yref": "y"
         },
         {
          "font": {
           "color": "#FFFFFF"
          },
          "showarrow": false,
          "text": "5",
          "x": "street_music",
          "xref": "x",
          "y": "dog_bark",
          "yref": "y"
         },
         {
          "font": {
           "color": "#FFFFFF"
          },
          "showarrow": false,
          "text": "1",
          "x": "air_conditioner",
          "xref": "x",
          "y": "drilling",
          "yref": "y"
         },
         {
          "font": {
           "color": "#FFFFFF"
          },
          "showarrow": false,
          "text": "8",
          "x": "car_horn",
          "xref": "x",
          "y": "drilling",
          "yref": "y"
         },
         {
          "font": {
           "color": "#FFFFFF"
          },
          "showarrow": false,
          "text": "3",
          "x": "children_playing",
          "xref": "x",
          "y": "drilling",
          "yref": "y"
         },
         {
          "font": {
           "color": "#FFFFFF"
          },
          "showarrow": false,
          "text": "4",
          "x": "dog_bark",
          "xref": "x",
          "y": "drilling",
          "yref": "y"
         },
         {
          "font": {
           "color": "#FFFFFF"
          },
          "showarrow": false,
          "text": "123",
          "x": "drilling",
          "xref": "x",
          "y": "drilling",
          "yref": "y"
         },
         {
          "font": {
           "color": "#FFFFFF"
          },
          "showarrow": false,
          "text": "3",
          "x": "engine_idling",
          "xref": "x",
          "y": "drilling",
          "yref": "y"
         },
         {
          "font": {
           "color": "#FFFFFF"
          },
          "showarrow": false,
          "text": "3",
          "x": "gun_shot",
          "xref": "x",
          "y": "drilling",
          "yref": "y"
         },
         {
          "font": {
           "color": "#FFFFFF"
          },
          "showarrow": false,
          "text": "1",
          "x": "siren",
          "xref": "x",
          "y": "drilling",
          "yref": "y"
         },
         {
          "font": {
           "color": "#FFFFFF"
          },
          "showarrow": false,
          "text": "4",
          "x": "street_music",
          "xref": "x",
          "y": "drilling",
          "yref": "y"
         },
         {
          "font": {
           "color": "#FFFFFF"
          },
          "showarrow": false,
          "text": "12",
          "x": "air_conditioner",
          "xref": "x",
          "y": "engine_idling",
          "yref": "y"
         },
         {
          "font": {
           "color": "#FFFFFF"
          },
          "showarrow": false,
          "text": "0",
          "x": "car_horn",
          "xref": "x",
          "y": "engine_idling",
          "yref": "y"
         },
         {
          "font": {
           "color": "#FFFFFF"
          },
          "showarrow": false,
          "text": "1",
          "x": "children_playing",
          "xref": "x",
          "y": "engine_idling",
          "yref": "y"
         },
         {
          "font": {
           "color": "#FFFFFF"
          },
          "showarrow": false,
          "text": "2",
          "x": "dog_bark",
          "xref": "x",
          "y": "engine_idling",
          "yref": "y"
         },
         {
          "font": {
           "color": "#FFFFFF"
          },
          "showarrow": false,
          "text": "2",
          "x": "drilling",
          "xref": "x",
          "y": "engine_idling",
          "yref": "y"
         },
         {
          "font": {
           "color": "#000000"
          },
          "showarrow": false,
          "text": "136",
          "x": "engine_idling",
          "xref": "x",
          "y": "engine_idling",
          "yref": "y"
         },
         {
          "font": {
           "color": "#FFFFFF"
          },
          "showarrow": false,
          "text": "0",
          "x": "gun_shot",
          "xref": "x",
          "y": "engine_idling",
          "yref": "y"
         },
         {
          "font": {
           "color": "#FFFFFF"
          },
          "showarrow": false,
          "text": "0",
          "x": "siren",
          "xref": "x",
          "y": "engine_idling",
          "yref": "y"
         },
         {
          "font": {
           "color": "#FFFFFF"
          },
          "showarrow": false,
          "text": "3",
          "x": "street_music",
          "xref": "x",
          "y": "engine_idling",
          "yref": "y"
         },
         {
          "font": {
           "color": "#FFFFFF"
          },
          "showarrow": false,
          "text": "0",
          "x": "air_conditioner",
          "xref": "x",
          "y": "gun_shot",
          "yref": "y"
         },
         {
          "font": {
           "color": "#FFFFFF"
          },
          "showarrow": false,
          "text": "2",
          "x": "car_horn",
          "xref": "x",
          "y": "gun_shot",
          "yref": "y"
         },
         {
          "font": {
           "color": "#FFFFFF"
          },
          "showarrow": false,
          "text": "0",
          "x": "children_playing",
          "xref": "x",
          "y": "gun_shot",
          "yref": "y"
         },
         {
          "font": {
           "color": "#FFFFFF"
          },
          "showarrow": false,
          "text": "3",
          "x": "dog_bark",
          "xref": "x",
          "y": "gun_shot",
          "yref": "y"
         },
         {
          "font": {
           "color": "#FFFFFF"
          },
          "showarrow": false,
          "text": "5",
          "x": "drilling",
          "xref": "x",
          "y": "gun_shot",
          "yref": "y"
         },
         {
          "font": {
           "color": "#FFFFFF"
          },
          "showarrow": false,
          "text": "0",
          "x": "engine_idling",
          "xref": "x",
          "y": "gun_shot",
          "yref": "y"
         },
         {
          "font": {
           "color": "#FFFFFF"
          },
          "showarrow": false,
          "text": "47",
          "x": "gun_shot",
          "xref": "x",
          "y": "gun_shot",
          "yref": "y"
         },
         {
          "font": {
           "color": "#FFFFFF"
          },
          "showarrow": false,
          "text": "0",
          "x": "siren",
          "xref": "x",
          "y": "gun_shot",
          "yref": "y"
         },
         {
          "font": {
           "color": "#FFFFFF"
          },
          "showarrow": false,
          "text": "0",
          "x": "street_music",
          "xref": "x",
          "y": "gun_shot",
          "yref": "y"
         },
         {
          "font": {
           "color": "#FFFFFF"
          },
          "showarrow": false,
          "text": "3",
          "x": "air_conditioner",
          "xref": "x",
          "y": "siren",
          "yref": "y"
         },
         {
          "font": {
           "color": "#FFFFFF"
          },
          "showarrow": false,
          "text": "0",
          "x": "car_horn",
          "xref": "x",
          "y": "siren",
          "yref": "y"
         },
         {
          "font": {
           "color": "#FFFFFF"
          },
          "showarrow": false,
          "text": "4",
          "x": "children_playing",
          "xref": "x",
          "y": "siren",
          "yref": "y"
         },
         {
          "font": {
           "color": "#FFFFFF"
          },
          "showarrow": false,
          "text": "0",
          "x": "dog_bark",
          "xref": "x",
          "y": "siren",
          "yref": "y"
         },
         {
          "font": {
           "color": "#FFFFFF"
          },
          "showarrow": false,
          "text": "0",
          "x": "drilling",
          "xref": "x",
          "y": "siren",
          "yref": "y"
         },
         {
          "font": {
           "color": "#FFFFFF"
          },
          "showarrow": false,
          "text": "2",
          "x": "engine_idling",
          "xref": "x",
          "y": "siren",
          "yref": "y"
         },
         {
          "font": {
           "color": "#FFFFFF"
          },
          "showarrow": false,
          "text": "0",
          "x": "gun_shot",
          "xref": "x",
          "y": "siren",
          "yref": "y"
         },
         {
          "font": {
           "color": "#000000"
          },
          "showarrow": false,
          "text": "139",
          "x": "siren",
          "xref": "x",
          "y": "siren",
          "yref": "y"
         },
         {
          "font": {
           "color": "#FFFFFF"
          },
          "showarrow": false,
          "text": "4",
          "x": "street_music",
          "xref": "x",
          "y": "siren",
          "yref": "y"
         },
         {
          "font": {
           "color": "#FFFFFF"
          },
          "showarrow": false,
          "text": "7",
          "x": "air_conditioner",
          "xref": "x",
          "y": "street_music",
          "yref": "y"
         },
         {
          "font": {
           "color": "#FFFFFF"
          },
          "showarrow": false,
          "text": "0",
          "x": "car_horn",
          "xref": "x",
          "y": "street_music",
          "yref": "y"
         },
         {
          "font": {
           "color": "#FFFFFF"
          },
          "showarrow": false,
          "text": "34",
          "x": "children_playing",
          "xref": "x",
          "y": "street_music",
          "yref": "y"
         },
         {
          "font": {
           "color": "#FFFFFF"
          },
          "showarrow": false,
          "text": "1",
          "x": "dog_bark",
          "xref": "x",
          "y": "street_music",
          "yref": "y"
         },
         {
          "font": {
           "color": "#FFFFFF"
          },
          "showarrow": false,
          "text": "0",
          "x": "drilling",
          "xref": "x",
          "y": "street_music",
          "yref": "y"
         },
         {
          "font": {
           "color": "#FFFFFF"
          },
          "showarrow": false,
          "text": "5",
          "x": "engine_idling",
          "xref": "x",
          "y": "street_music",
          "yref": "y"
         },
         {
          "font": {
           "color": "#FFFFFF"
          },
          "showarrow": false,
          "text": "0",
          "x": "gun_shot",
          "xref": "x",
          "y": "street_music",
          "yref": "y"
         },
         {
          "font": {
           "color": "#FFFFFF"
          },
          "showarrow": false,
          "text": "4",
          "x": "siren",
          "xref": "x",
          "y": "street_music",
          "yref": "y"
         },
         {
          "font": {
           "color": "#FFFFFF"
          },
          "showarrow": false,
          "text": "99",
          "x": "street_music",
          "xref": "x",
          "y": "street_music",
          "yref": "y"
         }
        ],
        "font": {
         "size": 12
        },
        "height": 500,
        "template": {
         "data": {
          "bar": [
           {
            "error_x": {
             "color": "#2a3f5f"
            },
            "error_y": {
             "color": "#2a3f5f"
            },
            "marker": {
             "line": {
              "color": "#E5ECF6",
              "width": 0.5
             },
             "pattern": {
              "fillmode": "overlay",
              "size": 10,
              "solidity": 0.2
             }
            },
            "type": "bar"
           }
          ],
          "barpolar": [
           {
            "marker": {
             "line": {
              "color": "#E5ECF6",
              "width": 0.5
             },
             "pattern": {
              "fillmode": "overlay",
              "size": 10,
              "solidity": 0.2
             }
            },
            "type": "barpolar"
           }
          ],
          "carpet": [
           {
            "aaxis": {
             "endlinecolor": "#2a3f5f",
             "gridcolor": "white",
             "linecolor": "white",
             "minorgridcolor": "white",
             "startlinecolor": "#2a3f5f"
            },
            "baxis": {
             "endlinecolor": "#2a3f5f",
             "gridcolor": "white",
             "linecolor": "white",
             "minorgridcolor": "white",
             "startlinecolor": "#2a3f5f"
            },
            "type": "carpet"
           }
          ],
          "choropleth": [
           {
            "colorbar": {
             "outlinewidth": 0,
             "ticks": ""
            },
            "type": "choropleth"
           }
          ],
          "contour": [
           {
            "colorbar": {
             "outlinewidth": 0,
             "ticks": ""
            },
            "colorscale": [
             [
              0,
              "#0d0887"
             ],
             [
              0.1111111111111111,
              "#46039f"
             ],
             [
              0.2222222222222222,
              "#7201a8"
             ],
             [
              0.3333333333333333,
              "#9c179e"
             ],
             [
              0.4444444444444444,
              "#bd3786"
             ],
             [
              0.5555555555555556,
              "#d8576b"
             ],
             [
              0.6666666666666666,
              "#ed7953"
             ],
             [
              0.7777777777777778,
              "#fb9f3a"
             ],
             [
              0.8888888888888888,
              "#fdca26"
             ],
             [
              1,
              "#f0f921"
             ]
            ],
            "type": "contour"
           }
          ],
          "contourcarpet": [
           {
            "colorbar": {
             "outlinewidth": 0,
             "ticks": ""
            },
            "type": "contourcarpet"
           }
          ],
          "heatmap": [
           {
            "colorbar": {
             "outlinewidth": 0,
             "ticks": ""
            },
            "colorscale": [
             [
              0,
              "#0d0887"
             ],
             [
              0.1111111111111111,
              "#46039f"
             ],
             [
              0.2222222222222222,
              "#7201a8"
             ],
             [
              0.3333333333333333,
              "#9c179e"
             ],
             [
              0.4444444444444444,
              "#bd3786"
             ],
             [
              0.5555555555555556,
              "#d8576b"
             ],
             [
              0.6666666666666666,
              "#ed7953"
             ],
             [
              0.7777777777777778,
              "#fb9f3a"
             ],
             [
              0.8888888888888888,
              "#fdca26"
             ],
             [
              1,
              "#f0f921"
             ]
            ],
            "type": "heatmap"
           }
          ],
          "heatmapgl": [
           {
            "colorbar": {
             "outlinewidth": 0,
             "ticks": ""
            },
            "colorscale": [
             [
              0,
              "#0d0887"
             ],
             [
              0.1111111111111111,
              "#46039f"
             ],
             [
              0.2222222222222222,
              "#7201a8"
             ],
             [
              0.3333333333333333,
              "#9c179e"
             ],
             [
              0.4444444444444444,
              "#bd3786"
             ],
             [
              0.5555555555555556,
              "#d8576b"
             ],
             [
              0.6666666666666666,
              "#ed7953"
             ],
             [
              0.7777777777777778,
              "#fb9f3a"
             ],
             [
              0.8888888888888888,
              "#fdca26"
             ],
             [
              1,
              "#f0f921"
             ]
            ],
            "type": "heatmapgl"
           }
          ],
          "histogram": [
           {
            "marker": {
             "pattern": {
              "fillmode": "overlay",
              "size": 10,
              "solidity": 0.2
             }
            },
            "type": "histogram"
           }
          ],
          "histogram2d": [
           {
            "colorbar": {
             "outlinewidth": 0,
             "ticks": ""
            },
            "colorscale": [
             [
              0,
              "#0d0887"
             ],
             [
              0.1111111111111111,
              "#46039f"
             ],
             [
              0.2222222222222222,
              "#7201a8"
             ],
             [
              0.3333333333333333,
              "#9c179e"
             ],
             [
              0.4444444444444444,
              "#bd3786"
             ],
             [
              0.5555555555555556,
              "#d8576b"
             ],
             [
              0.6666666666666666,
              "#ed7953"
             ],
             [
              0.7777777777777778,
              "#fb9f3a"
             ],
             [
              0.8888888888888888,
              "#fdca26"
             ],
             [
              1,
              "#f0f921"
             ]
            ],
            "type": "histogram2d"
           }
          ],
          "histogram2dcontour": [
           {
            "colorbar": {
             "outlinewidth": 0,
             "ticks": ""
            },
            "colorscale": [
             [
              0,
              "#0d0887"
             ],
             [
              0.1111111111111111,
              "#46039f"
             ],
             [
              0.2222222222222222,
              "#7201a8"
             ],
             [
              0.3333333333333333,
              "#9c179e"
             ],
             [
              0.4444444444444444,
              "#bd3786"
             ],
             [
              0.5555555555555556,
              "#d8576b"
             ],
             [
              0.6666666666666666,
              "#ed7953"
             ],
             [
              0.7777777777777778,
              "#fb9f3a"
             ],
             [
              0.8888888888888888,
              "#fdca26"
             ],
             [
              1,
              "#f0f921"
             ]
            ],
            "type": "histogram2dcontour"
           }
          ],
          "mesh3d": [
           {
            "colorbar": {
             "outlinewidth": 0,
             "ticks": ""
            },
            "type": "mesh3d"
           }
          ],
          "parcoords": [
           {
            "line": {
             "colorbar": {
              "outlinewidth": 0,
              "ticks": ""
             }
            },
            "type": "parcoords"
           }
          ],
          "pie": [
           {
            "automargin": true,
            "type": "pie"
           }
          ],
          "scatter": [
           {
            "fillpattern": {
             "fillmode": "overlay",
             "size": 10,
             "solidity": 0.2
            },
            "type": "scatter"
           }
          ],
          "scatter3d": [
           {
            "line": {
             "colorbar": {
              "outlinewidth": 0,
              "ticks": ""
             }
            },
            "marker": {
             "colorbar": {
              "outlinewidth": 0,
              "ticks": ""
             }
            },
            "type": "scatter3d"
           }
          ],
          "scattercarpet": [
           {
            "marker": {
             "colorbar": {
              "outlinewidth": 0,
              "ticks": ""
             }
            },
            "type": "scattercarpet"
           }
          ],
          "scattergeo": [
           {
            "marker": {
             "colorbar": {
              "outlinewidth": 0,
              "ticks": ""
             }
            },
            "type": "scattergeo"
           }
          ],
          "scattergl": [
           {
            "marker": {
             "colorbar": {
              "outlinewidth": 0,
              "ticks": ""
             }
            },
            "type": "scattergl"
           }
          ],
          "scattermapbox": [
           {
            "marker": {
             "colorbar": {
              "outlinewidth": 0,
              "ticks": ""
             }
            },
            "type": "scattermapbox"
           }
          ],
          "scatterpolar": [
           {
            "marker": {
             "colorbar": {
              "outlinewidth": 0,
              "ticks": ""
             }
            },
            "type": "scatterpolar"
           }
          ],
          "scatterpolargl": [
           {
            "marker": {
             "colorbar": {
              "outlinewidth": 0,
              "ticks": ""
             }
            },
            "type": "scatterpolargl"
           }
          ],
          "scatterternary": [
           {
            "marker": {
             "colorbar": {
              "outlinewidth": 0,
              "ticks": ""
             }
            },
            "type": "scatterternary"
           }
          ],
          "surface": [
           {
            "colorbar": {
             "outlinewidth": 0,
             "ticks": ""
            },
            "colorscale": [
             [
              0,
              "#0d0887"
             ],
             [
              0.1111111111111111,
              "#46039f"
             ],
             [
              0.2222222222222222,
              "#7201a8"
             ],
             [
              0.3333333333333333,
              "#9c179e"
             ],
             [
              0.4444444444444444,
              "#bd3786"
             ],
             [
              0.5555555555555556,
              "#d8576b"
             ],
             [
              0.6666666666666666,
              "#ed7953"
             ],
             [
              0.7777777777777778,
              "#fb9f3a"
             ],
             [
              0.8888888888888888,
              "#fdca26"
             ],
             [
              1,
              "#f0f921"
             ]
            ],
            "type": "surface"
           }
          ],
          "table": [
           {
            "cells": {
             "fill": {
              "color": "#EBF0F8"
             },
             "line": {
              "color": "white"
             }
            },
            "header": {
             "fill": {
              "color": "#C8D4E3"
             },
             "line": {
              "color": "white"
             }
            },
            "type": "table"
           }
          ]
         },
         "layout": {
          "annotationdefaults": {
           "arrowcolor": "#2a3f5f",
           "arrowhead": 0,
           "arrowwidth": 1
          },
          "autotypenumbers": "strict",
          "coloraxis": {
           "colorbar": {
            "outlinewidth": 0,
            "ticks": ""
           }
          },
          "colorscale": {
           "diverging": [
            [
             0,
             "#8e0152"
            ],
            [
             0.1,
             "#c51b7d"
            ],
            [
             0.2,
             "#de77ae"
            ],
            [
             0.3,
             "#f1b6da"
            ],
            [
             0.4,
             "#fde0ef"
            ],
            [
             0.5,
             "#f7f7f7"
            ],
            [
             0.6,
             "#e6f5d0"
            ],
            [
             0.7,
             "#b8e186"
            ],
            [
             0.8,
             "#7fbc41"
            ],
            [
             0.9,
             "#4d9221"
            ],
            [
             1,
             "#276419"
            ]
           ],
           "sequential": [
            [
             0,
             "#0d0887"
            ],
            [
             0.1111111111111111,
             "#46039f"
            ],
            [
             0.2222222222222222,
             "#7201a8"
            ],
            [
             0.3333333333333333,
             "#9c179e"
            ],
            [
             0.4444444444444444,
             "#bd3786"
            ],
            [
             0.5555555555555556,
             "#d8576b"
            ],
            [
             0.6666666666666666,
             "#ed7953"
            ],
            [
             0.7777777777777778,
             "#fb9f3a"
            ],
            [
             0.8888888888888888,
             "#fdca26"
            ],
            [
             1,
             "#f0f921"
            ]
           ],
           "sequentialminus": [
            [
             0,
             "#0d0887"
            ],
            [
             0.1111111111111111,
             "#46039f"
            ],
            [
             0.2222222222222222,
             "#7201a8"
            ],
            [
             0.3333333333333333,
             "#9c179e"
            ],
            [
             0.4444444444444444,
             "#bd3786"
            ],
            [
             0.5555555555555556,
             "#d8576b"
            ],
            [
             0.6666666666666666,
             "#ed7953"
            ],
            [
             0.7777777777777778,
             "#fb9f3a"
            ],
            [
             0.8888888888888888,
             "#fdca26"
            ],
            [
             1,
             "#f0f921"
            ]
           ]
          },
          "colorway": [
           "#636efa",
           "#EF553B",
           "#00cc96",
           "#ab63fa",
           "#FFA15A",
           "#19d3f3",
           "#FF6692",
           "#B6E880",
           "#FF97FF",
           "#FECB52"
          ],
          "font": {
           "color": "#2a3f5f"
          },
          "geo": {
           "bgcolor": "white",
           "lakecolor": "white",
           "landcolor": "#E5ECF6",
           "showlakes": true,
           "showland": true,
           "subunitcolor": "white"
          },
          "hoverlabel": {
           "align": "left"
          },
          "hovermode": "closest",
          "mapbox": {
           "style": "light"
          },
          "paper_bgcolor": "white",
          "plot_bgcolor": "#E5ECF6",
          "polar": {
           "angularaxis": {
            "gridcolor": "white",
            "linecolor": "white",
            "ticks": ""
           },
           "bgcolor": "#E5ECF6",
           "radialaxis": {
            "gridcolor": "white",
            "linecolor": "white",
            "ticks": ""
           }
          },
          "scene": {
           "xaxis": {
            "backgroundcolor": "#E5ECF6",
            "gridcolor": "white",
            "gridwidth": 2,
            "linecolor": "white",
            "showbackground": true,
            "ticks": "",
            "zerolinecolor": "white"
           },
           "yaxis": {
            "backgroundcolor": "#E5ECF6",
            "gridcolor": "white",
            "gridwidth": 2,
            "linecolor": "white",
            "showbackground": true,
            "ticks": "",
            "zerolinecolor": "white"
           },
           "zaxis": {
            "backgroundcolor": "#E5ECF6",
            "gridcolor": "white",
            "gridwidth": 2,
            "linecolor": "white",
            "showbackground": true,
            "ticks": "",
            "zerolinecolor": "white"
           }
          },
          "shapedefaults": {
           "line": {
            "color": "#2a3f5f"
           }
          },
          "ternary": {
           "aaxis": {
            "gridcolor": "white",
            "linecolor": "white",
            "ticks": ""
           },
           "baxis": {
            "gridcolor": "white",
            "linecolor": "white",
            "ticks": ""
           },
           "bgcolor": "#E5ECF6",
           "caxis": {
            "gridcolor": "white",
            "linecolor": "white",
            "ticks": ""
           }
          },
          "title": {
           "x": 0.05
          },
          "xaxis": {
           "automargin": true,
           "gridcolor": "white",
           "linecolor": "white",
           "ticks": "",
           "title": {
            "standoff": 15
           },
           "zerolinecolor": "white",
           "zerolinewidth": 2
          },
          "yaxis": {
           "automargin": true,
           "gridcolor": "white",
           "linecolor": "white",
           "ticks": "",
           "title": {
            "standoff": 15
           },
           "zerolinecolor": "white",
           "zerolinewidth": 2
          }
         }
        },
        "width": 1000,
        "xaxis": {
         "dtick": 1,
         "gridcolor": "rgb(0, 0, 0)",
         "side": "top",
         "ticks": "",
         "title": {
          "text": "Predicted Class"
         }
        },
        "yaxis": {
         "dtick": 1,
         "ticks": "",
         "ticksuffix": "  ",
         "title": {
          "text": "True Class"
         }
        }
       }
      }
     },
     "metadata": {},
     "output_type": "display_data"
    }
   ],
   "source": [
    "# Compute confusion matrix\n",
    "predicted = np.argmax(model.predict(testX), axis=1)\n",
    "true = np.argmax(testY, axis=1)\n",
    "matrix = confusion_matrix(true, predicted)\n",
    "\n",
    "# Plot confusion matrix\n",
    "labels = list(encoder.classes_)\n",
    "\n",
    "fig = ff.create_annotated_heatmap(z=matrix, x=labels, y=labels, colorscale='Viridis')\n",
    "fig.update_layout(\n",
    "                  xaxis=dict(title='Predicted Class'),\n",
    "                  yaxis=dict(title='True Class'),\n",
    "                  font=dict(size=12),\n",
    "                  width=1000,\n",
    "                  height=500)\n",
    "fig.show()"
   ]
  },
  {
   "cell_type": "code",
   "execution_count": null,
   "metadata": {},
   "outputs": [],
   "source": []
  }
 ],
 "metadata": {
  "kernelspec": {
   "display_name": "dlenv",
   "language": "python",
   "name": "python3"
  },
  "language_info": {
   "codemirror_mode": {
    "name": "ipython",
    "version": 3
   },
   "file_extension": ".py",
   "mimetype": "text/x-python",
   "name": "python",
   "nbconvert_exporter": "python",
   "pygments_lexer": "ipython3",
   "version": "3.12.1"
  }
 },
 "nbformat": 4,
 "nbformat_minor": 2
}
